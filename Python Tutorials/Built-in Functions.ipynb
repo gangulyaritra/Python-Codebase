{
  "nbformat": 4,
  "nbformat_minor": 0,
  "metadata": {
    "colab": {
      "name": "Built-in Functions.ipynb",
      "provenance": []
    },
    "kernelspec": {
      "name": "python3",
      "display_name": "Python 3"
    },
    "language_info": {
      "name": "python"
    }
  },
  "cells": [
    {
      "cell_type": "markdown",
      "source": [
        "# **Python Lambda Functions**\n",
        "\n",
        "Python Lambda Functions are the anonymous functions, i.e., it's a function without a name. We know that the $def$ keyword is used to define a normal function in Python. Similarly, the $lambda$ keyword is used to define an anonymous function in Python.\n",
        "\n",
        "**Python Lambda Function Syntax:**\n",
        "```\n",
        "lambda arguments: expression\n",
        "```\n",
        "\n",
        "*   This function can have any number of arguments, but it contains only one expression, which is evaluated and returned.\n",
        "*   Anyone can use the lambda functions wherever function objects are required.\n",
        "*   Lambda functions are syntactically restricted to a single expression.\n",
        "*   Lambda functions have various uses in particular fields of programming besides other types of expressions in functions.\n",
        "\n",
        "### **Reference:**\n",
        "\n",
        ">   [**Python Lambda Function - Programiz**](https://www.programiz.com/python-programming/anonymous-function)\n",
        "\n",
        ">   [**Python Lambda Function - GeeksforGeeks**](https://www.geeksforgeeks.org/python-lambda-anonymous-functions-filter-map-reduce/)\n",
        "\n",
        ">   [**Lambda functions to Pandas Dataframe**](https://www.geeksforgeeks.org/applying-lambda-functions-to-pandas-dataframe/?ref=rp)"
      ],
      "metadata": {
        "id": "T5niZDpFpthv"
      }
    },
    {
      "cell_type": "code",
      "source": [
        "\"\"\" Python Code to demonstrate the lambda function. \"\"\"\n",
        "\n",
        "string = \"GeeksforGeeks\"\n",
        "\n",
        "# The lambda function returns a function object.\n",
        "print(lambda string: string)\n",
        "\n",
        "# The lambda function gets passed to the print() function.\n",
        "(lambda x: print(x))(string)"
      ],
      "metadata": {
        "id": "wKZKUjEMtHkH",
        "colab": {
          "base_uri": "https://localhost:8080/"
        },
        "outputId": "46b00cef-e173-4147-b70e-c1181182b356"
      },
      "execution_count": null,
      "outputs": [
        {
          "output_type": "stream",
          "name": "stdout",
          "text": [
            "<function <lambda> at 0x7f00ac179cb0>\n",
            "GeeksforGeeks\n"
          ]
        }
      ]
    },
    {
      "cell_type": "markdown",
      "source": [
        "### **Difference between the $lambda$ functions and the $def$ defined function.**\n",
        "\n",
        "The below example demonstrates the difference between a normal $def$ defined function and a $lambda$ function. The below program returns the cube of a given value. In the below example, both the $cube()$ function and $lambda\\_cube()$ function behave the same way as intended.\n",
        "\n",
        "*   **Without Using Lambda:** Both functions return the cube of a given number. When using $def()$, we define a function with the name \"**cube**\" and require to pass a value to it. After execution, we return the result from where this function gets called using the \"**return**\" keyword.\n",
        "\n",
        "*   **Using Lambda:** Lambda doesn't include a \"**return**\" statement. It always contains an expression that gets returned. We can also put a lambda definition anywhere a function is expected, and we don't have to assign it to a variable at all. It is the simplicity of the lambda function."
      ],
      "metadata": {
        "id": "OJgFJyYqvZSu"
      }
    },
    {
      "cell_type": "code",
      "execution_count": null,
      "metadata": {
        "id": "eXHZ9yP7pE6U",
        "colab": {
          "base_uri": "https://localhost:8080/"
        },
        "outputId": "422e02ac-0a4f-4593-9684-eff32e2d7523"
      },
      "outputs": [
        {
          "output_type": "stream",
          "name": "stdout",
          "text": [
            "125\n",
            "125\n"
          ]
        }
      ],
      "source": [
        "\"\"\" Python code to illustrate a cube of a given number using both def() and lambda(). \"\"\"\n",
        "\n",
        "def cube(y):\n",
        "    return y * y * y\n",
        "\n",
        "lambda_cube = lambda y: y * y * y\n",
        "\n",
        "# By using the normally defined function.\n",
        "print(cube(5))\n",
        "\n",
        "# By using the lamda function.\n",
        "print(lambda_cube(5))"
      ]
    },
    {
      "cell_type": "markdown",
      "source": [
        "### **Python Lambda Function with List Comprehension.**\n",
        "\n",
        "Use the $lambda$ function with list comprehension and lambda with $for()$ loop."
      ],
      "metadata": {
        "id": "rYCFfsUK3Jbs"
      }
    },
    {
      "cell_type": "code",
      "source": [
        "\"\"\" Python Code to print the table of 10 using the lambda function. \"\"\"\n",
        "\n",
        "tables = [lambda x=x: x * 10 for x in range(1, 11)]\n",
        "\n",
        "for table in tables:\n",
        "    print(table())"
      ],
      "metadata": {
        "id": "yr1-_qkI3IFx",
        "colab": {
          "base_uri": "https://localhost:8080/"
        },
        "outputId": "c42cd05c-00e7-4070-f1ae-ca97592ebcb3"
      },
      "execution_count": null,
      "outputs": [
        {
          "output_type": "stream",
          "name": "stdout",
          "text": [
            "10\n",
            "20\n",
            "30\n",
            "40\n",
            "50\n",
            "60\n",
            "70\n",
            "80\n",
            "90\n",
            "100\n"
          ]
        }
      ]
    },
    {
      "cell_type": "markdown",
      "source": [
        "### **Python Lambda Function with If-Else Statement.**"
      ],
      "metadata": {
        "id": "2OMxnKSv5tfA"
      }
    },
    {
      "cell_type": "code",
      "source": [
        "\"\"\" Python Code to use lambda function using if-else statement. \"\"\"\n",
        "\n",
        "max = lambda a, b: a if (a > b) else b\n",
        "print(max(19, 23))"
      ],
      "metadata": {
        "id": "Vnz-aTj-5v_F",
        "colab": {
          "base_uri": "https://localhost:8080/"
        },
        "outputId": "5d2d9722-17a2-4da5-eef7-c75e702eaff0"
      },
      "execution_count": null,
      "outputs": [
        {
          "output_type": "stream",
          "name": "stdout",
          "text": [
            "23\n"
          ]
        }
      ]
    },
    {
      "cell_type": "markdown",
      "source": [
        "### **Python Lambda Function with Multiple Statements.**\n",
        "\n",
        "Lambda functions do not allow multiple statements. However, we can create two lambda functions and then call the second lambda function as a parameter to the first lambda function.\n",
        "\n",
        "In the below example, we created a lambda function that sorts each sublist of the given list. Then this list is passed as the parameter to the second lambda function, which returns the $(n-2)$ element from the sorted list where $n$ is the length of the sublist."
      ],
      "metadata": {
        "id": "ThUZ4LL579HG"
      }
    },
    {
      "cell_type": "code",
      "source": [
        "\"\"\" Python Code to find the second maximum element using the lambda function. \"\"\"\n",
        "\n",
        "array = [[2, 3, 4], [1, 4, 16, 64], [3, 6, 9, 12]]\n",
        "\n",
        "# Sort each Sublist.\n",
        "sortList = lambda x: (sorted(i) for i in x)\n",
        "\n",
        "# Get the second largest element.\n",
        "secondLargest = lambda x, f: [y[len(y) - 2] for y in f(x)]\n",
        "\n",
        "result = secondLargest(array, sortList)\n",
        "print(result)"
      ],
      "metadata": {
        "id": "2CBPYXlR8AvV",
        "colab": {
          "base_uri": "https://localhost:8080/"
        },
        "outputId": "a04a74c7-1b51-4336-9a3d-f23bd8d80546"
      },
      "execution_count": null,
      "outputs": [
        {
          "output_type": "stream",
          "name": "stdout",
          "text": [
            "[3, 16, 9]\n"
          ]
        }
      ]
    },
    {
      "cell_type": "markdown",
      "source": [
        "## **Lambda functions along with built-in functions like $filter()$, $map()$ and $reduce()$.**"
      ],
      "metadata": {
        "id": "2wQMt3ES_-GQ"
      }
    },
    {
      "cell_type": "markdown",
      "source": [
        "### **Use the $lambda()$ function with the $filter()$ method.**\n",
        "\n",
        "The $filter()$ method in Python takes in a function and a list as arguments. This method offers an elegant way to filter out all the elements of a sequence for which the function returns **True**."
      ],
      "metadata": {
        "id": "EImW_ZflA8uI"
      }
    },
    {
      "cell_type": "code",
      "source": [
        "\"\"\" Python code to illustrate filter() method with lambda and return the odd numbers from an input list. \"\"\"\n",
        "\n",
        "nlist = [5, 7, 22, 97, 54, 62, 77, 23, 73, 61]\n",
        "\n",
        "final_list = list(filter(lambda x: (x % 2 != 0), nlist))\n",
        "print(final_list)"
      ],
      "metadata": {
        "id": "A2JbehsLACFV",
        "colab": {
          "base_uri": "https://localhost:8080/"
        },
        "outputId": "6958195d-309c-4ec9-a803-3b1aeb726389"
      },
      "execution_count": null,
      "outputs": [
        {
          "output_type": "stream",
          "name": "stdout",
          "text": [
            "[5, 7, 97, 77, 23, 73, 61]\n"
          ]
        }
      ]
    },
    {
      "cell_type": "code",
      "source": [
        "\"\"\" Python code to return people aged above 18 years. \"\"\"\n",
        "\n",
        "ages = [13, 90, 17, 59, 21, 60, 5]\n",
        "\n",
        "adults = list(filter(lambda age: age > 18, ages))\n",
        "print(adults)"
      ],
      "metadata": {
        "id": "o-jLabwmFBcf",
        "colab": {
          "base_uri": "https://localhost:8080/"
        },
        "outputId": "1db40798-e842-464d-828b-dbfd58aacae4"
      },
      "execution_count": null,
      "outputs": [
        {
          "output_type": "stream",
          "name": "stdout",
          "text": [
            "[90, 59, 21, 60]\n"
          ]
        }
      ]
    },
    {
      "cell_type": "markdown",
      "source": [
        "### **Use the $lambda()$ function with the $map()$ method.**\n",
        "\n",
        "The $map()$ method in Python takes in a function and a list as arguments. This method is called with a lambda function and a list, and a new list is returned which contains all the lambda modified items returned by that function for each item."
      ],
      "metadata": {
        "id": "OdN7JIXmGSNB"
      }
    },
    {
      "cell_type": "code",
      "source": [
        "\"\"\" Python code to illustrate the map() method with lambda and return the double of the list. \"\"\"\n",
        "\n",
        "nlist = [5, 7, 22, 97, 54, 62, 77, 23, 73, 61]\n",
        "\n",
        "final_list = list(map(lambda x: x * 2, nlist))\n",
        "print(final_list)"
      ],
      "metadata": {
        "id": "spi98rXJGUsG",
        "colab": {
          "base_uri": "https://localhost:8080/"
        },
        "outputId": "60eed366-d0b7-4d9a-a9d9-11e4f4c8518e"
      },
      "execution_count": null,
      "outputs": [
        {
          "output_type": "stream",
          "name": "stdout",
          "text": [
            "[10, 14, 44, 194, 108, 124, 154, 46, 146, 122]\n"
          ]
        }
      ]
    },
    {
      "cell_type": "code",
      "source": [
        "\"\"\" Python Code to demonstrate the use of the lambda function with the map() function. \"\"\"\n",
        "\n",
        "animals = [\"dog\", \"cat\", \"parrot\", \"rabbit\"]\n",
        "\n",
        "# Convert the list of elements into the Upper Case.\n",
        "upper_animals = list(map(lambda animal: str.upper(animal), animals))\n",
        "print(upper_animals)"
      ],
      "metadata": {
        "id": "q95evcGiH8e4",
        "colab": {
          "base_uri": "https://localhost:8080/"
        },
        "outputId": "1728d3e6-f079-4f87-cb69-8d0eefb38b87"
      },
      "execution_count": null,
      "outputs": [
        {
          "output_type": "stream",
          "name": "stdout",
          "text": [
            "['DOG', 'CAT', 'PARROT', 'RABBIT']\n"
          ]
        }
      ]
    },
    {
      "cell_type": "markdown",
      "source": [
        "### **Use the $lambda()$ function with the $reduce()$ method.**\n",
        "\n",
        "The $reduce()$ method in Python takes in a function and a list as arguments. This method is called with a lambda function and an iterable, and a new reduced result is returned. This method performs a repetitive operation over the pairs of the iterable. The $reduce()$ method belongs to the **functools** module."
      ],
      "metadata": {
        "id": "GnVpGDWvJYAA"
      }
    },
    {
      "cell_type": "code",
      "source": [
        "\"\"\" Python code to demonstrate the working of the reduce() method with a lambda function to get the sum of a list. \"\"\"\n",
        "\n",
        "from functools import reduce\n",
        "\n",
        "nlist = [5, 8, 10, 20, 50, 100]\n",
        "sum = reduce((lambda x, y: x + y), nlist)\n",
        "print(sum)"
      ],
      "metadata": {
        "id": "7iyx5CWmJcuv",
        "colab": {
          "base_uri": "https://localhost:8080/"
        },
        "outputId": "8665377c-67e5-40a4-8264-77d564b919f9"
      },
      "execution_count": null,
      "outputs": [
        {
          "output_type": "stream",
          "name": "stdout",
          "text": [
            "193\n"
          ]
        }
      ]
    },
    {
      "cell_type": "code",
      "source": [
        "\"\"\" Python code to demonstrate the reduce() method with a lambda function. \"\"\"\n",
        "\n",
        "import functools\n",
        "\n",
        "nlist = [1, 3, 5, 6, 2, 13]\n",
        "\n",
        "# Use reduce to compute the maximum element from the list.\n",
        "print(\"The maximum element of the list is : \", end=\"\")\n",
        "print(functools.reduce(lambda a, b: a if a > b else b, nlist))"
      ],
      "metadata": {
        "id": "dGC4mPjtKkIm",
        "colab": {
          "base_uri": "https://localhost:8080/"
        },
        "outputId": "6742a8a1-7780-48c6-a92f-a81dc6822336"
      },
      "execution_count": null,
      "outputs": [
        {
          "output_type": "stream",
          "name": "stdout",
          "text": [
            "The maximum element of the list is : 13\n"
          ]
        }
      ]
    },
    {
      "cell_type": "markdown",
      "source": [
        "# **Python Map, Filter, and Reduce Function**"
      ],
      "metadata": {
        "id": "ibKMmP23XKpB"
      }
    },
    {
      "cell_type": "markdown",
      "source": [
        "## **Python $map()$ Function**\n",
        "\n",
        "Python $map()$ function returns a map object (which is an iterator) of the results after applying the given function to each item of a given iterable (i.e., list, tuple, etc.).\n",
        "\n",
        "**Syntax:**\n",
        "```\n",
        "map(function, iterable)\n",
        "```\n",
        "\n",
        "*   **function:** It is a function to which a $map$ passes each element of a given iterable.\n",
        "*   **iterable:** It is iterable, which is to be mapped. We can pass one or more iterable to the $map()$ function.\n",
        "*   **Returns** a list of the results after applying the given function to each item of a given iterable (list, tuple, etc.). The returned value from the $map()$ then can be passed to functions like $list()$, $set()$, etc.\n",
        "\n",
        "#### **Reference:**\n",
        "\n",
        ">   [**Python Map - GeeksforGeeks**](https://www.geeksforgeeks.org/python-map-function/)"
      ],
      "metadata": {
        "id": "2fMAuuMcA90X"
      }
    },
    {
      "cell_type": "code",
      "execution_count": null,
      "metadata": {
        "id": "uHwUpSs5A9NQ",
        "colab": {
          "base_uri": "https://localhost:8080/"
        },
        "outputId": "a4e659cc-797e-4472-e04a-6a1ed7bee338"
      },
      "outputs": [
        {
          "output_type": "stream",
          "name": "stdout",
          "text": [
            "[2, 4, 6, 8]\n"
          ]
        }
      ],
      "source": [
        "\"\"\" Python Code to demonstrate the working of the map() function. \"\"\"\n",
        "\n",
        "def addition(n):\n",
        "    return n + n\n",
        "\n",
        "# Double all numbers using the map() function.\n",
        "numbers = (1, 2, 3, 4)\n",
        "result = map(addition, numbers)\n",
        "print(list(result))"
      ]
    },
    {
      "cell_type": "code",
      "source": [
        "\"\"\" Python Code to demonstrate the working of the map() and lambda function. \"\"\"\n",
        "\n",
        "numbers = (1, 2, 3, 4)\n",
        "result = map(lambda x: x + x, numbers)\n",
        "print(list(result))"
      ],
      "metadata": {
        "id": "gXswRhuFGzU9",
        "colab": {
          "base_uri": "https://localhost:8080/"
        },
        "outputId": "e95aa470-aae5-4609-d38b-ff8d16a4539e"
      },
      "execution_count": null,
      "outputs": [
        {
          "output_type": "stream",
          "name": "stdout",
          "text": [
            "[2, 4, 6, 8]\n"
          ]
        }
      ]
    },
    {
      "cell_type": "code",
      "source": [
        "# Add two lists using the map() and lambda function.\n",
        "num1 = [1, 2, 3]\n",
        "num2 = [4, 5, 6]\n",
        "\n",
        "result = map(lambda x, y: x + y, num1, num2)\n",
        "print(list(result))"
      ],
      "metadata": {
        "id": "_Gskfe5UHKwc",
        "colab": {
          "base_uri": "https://localhost:8080/"
        },
        "outputId": "546314cc-2f45-477f-a6a5-5ebb72893d9a"
      },
      "execution_count": null,
      "outputs": [
        {
          "output_type": "stream",
          "name": "stdout",
          "text": [
            "[5, 7, 9]\n"
          ]
        }
      ]
    },
    {
      "cell_type": "code",
      "source": [
        "# List of Strings.\n",
        "l = [\"sat\", \"bat\", \"cat\", \"mat\"]\n",
        "\n",
        "# The map() function can listify the list of strings individually.\n",
        "test = list(map(list, l))\n",
        "print(test)"
      ],
      "metadata": {
        "id": "oxddsam2Hiz2",
        "colab": {
          "base_uri": "https://localhost:8080/"
        },
        "outputId": "a4185bfc-80d6-4680-c714-17e37aa1a2c5"
      },
      "execution_count": null,
      "outputs": [
        {
          "output_type": "stream",
          "name": "stdout",
          "text": [
            "[['s', 'a', 't'], ['b', 'a', 't'], ['c', 'a', 't'], ['m', 'a', 't']]\n"
          ]
        }
      ]
    },
    {
      "cell_type": "markdown",
      "source": [
        "## **Python $filter()$ Function**\n",
        "\n",
        "The $filter()$ method filters the given sequence with the help of a function that tests each element in the sequence to be true or not.\n",
        "\n",
        "**Syntax:**\n",
        "```\n",
        "filter(function, sequence)\n",
        "```\n",
        "\n",
        "**Parameters:**\n",
        "\n",
        "*   **function:** The **function** parameter tests if each element of a sequence is True or not.\n",
        "*   **sequence:** The **sequence** parameter which needs to be filtered can be Sets, Lists, Tuples, or containers of any iterators.\n",
        "*   **Returns:** The $filter()$ method returns an iterator, that is already filtered.\n",
        "\n",
        "#### **Reference:**\n",
        "\n",
        ">   [**Python Filter - GeeksforGeeks**](https://www.geeksforgeeks.org/filter-in-python/)"
      ],
      "metadata": {
        "id": "2VG1R0uGIK5d"
      }
    },
    {
      "cell_type": "code",
      "source": [
        "# Function that filters vowels.\n",
        "def function(variable):\n",
        "    letters = [\"a\", \"e\", \"i\", \"o\", \"u\"]\n",
        "    if variable in letters:\n",
        "        return True\n",
        "    else:\n",
        "        return False\n",
        "\n",
        "\n",
        "sequence = [\"g\", \"e\", \"e\", \"j\", \"k\", \"s\", \"p\", \"r\"]\n",
        "\n",
        "# Using Filter Function.\n",
        "filtered = filter(function, sequence)\n",
        "\n",
        "print(\"The filtered letters are:\")\n",
        "for s in filtered:\n",
        "    print(s)"
      ],
      "metadata": {
        "id": "YmsZnskVKKcH",
        "colab": {
          "base_uri": "https://localhost:8080/"
        },
        "outputId": "55520541-42a1-4766-d660-12fd226a08f3"
      },
      "execution_count": null,
      "outputs": [
        {
          "output_type": "stream",
          "name": "stdout",
          "text": [
            "The filtered letters are:\n",
            "e\n",
            "e\n"
          ]
        }
      ]
    },
    {
      "cell_type": "code",
      "source": [
        "\"\"\" Python Code to demonstrate the working of the filter() and lambda function. \"\"\"\n",
        "\n",
        "# The list contains both even and odd numbers.\n",
        "seq = [0, 1, 2, 3, 5, 8, 13]\n",
        "\n",
        "# The result contains odd numbers on the list.\n",
        "result = filter(lambda x: x % 2 != 0, seq)\n",
        "print(list(result))\n",
        "\n",
        "# The result contains even numbers on the list.\n",
        "result = filter(lambda x: x % 2 == 0, seq)\n",
        "print(list(result))"
      ],
      "metadata": {
        "id": "iAw_B4ZlLNid",
        "colab": {
          "base_uri": "https://localhost:8080/"
        },
        "outputId": "d9751c44-c8c5-4206-ab8b-bc51f58a8c7d"
      },
      "execution_count": null,
      "outputs": [
        {
          "output_type": "stream",
          "name": "stdout",
          "text": [
            "[1, 3, 5, 13]\n",
            "[0, 2, 8]\n"
          ]
        }
      ]
    },
    {
      "cell_type": "markdown",
      "source": [
        "## **Python $reduce()$ Function**\n",
        "\n",
        "The $reduce()$ function is used to apply a particular function passed in its argument to all of the list elements mentioned in the sequence passed along. This function is defined in \"**functools**\" module.\n",
        "\n",
        "**Syntax:**\n",
        "```\n",
        "reduce(function, sequence)\n",
        "```\n",
        "\n",
        "**Working:**\n",
        "\n",
        "*   In the first step, the first two elements of the sequence get picked, and the result is obtained.\n",
        "*   The next step is to apply the same function to the previously attained result and the number just succeeding the second element, and the result is again stored.\n",
        "*   This process continues till no more elements are left in the container.\n",
        "*   The final returned result is returned and printed on the console.\n",
        "\n",
        "#### **Reference:**\n",
        "\n",
        ">   [**Python Reduce - GeeksforGeeks**](https://www.geeksforgeeks.org/reduce-in-python//)"
      ],
      "metadata": {
        "id": "2FKodTNsL9Nl"
      }
    },
    {
      "cell_type": "code",
      "source": [
        "\"\"\" Python Code to demonstrate the working of the reduce() function. \"\"\"\n",
        "\n",
        "import functools\n",
        "\n",
        "# Initialize List.\n",
        "nlist = [1, 3, 5, 6, 2]\n",
        "\n",
        "# Use the reduce() function to compute the sum of the list.\n",
        "print(\"The sum of the list elements is: \", end=\"\")\n",
        "print(functools.reduce(lambda a, b: a + b, nlist))\n",
        "\n",
        "# Use the reduce() function to compute the maximum element from the list.\n",
        "print(\"The maximum element of the list is: \", end=\"\")\n",
        "print(functools.reduce(lambda a, b: a if a > b else b, nlist))"
      ],
      "metadata": {
        "id": "m9qE6NzQSZxX",
        "colab": {
          "base_uri": "https://localhost:8080/"
        },
        "outputId": "6ace0831-0251-445d-84d8-06e265ce66d7"
      },
      "execution_count": null,
      "outputs": [
        {
          "output_type": "stream",
          "name": "stdout",
          "text": [
            "The sum of the list elements is: 17\n",
            "The maximum element of the list is: 6\n"
          ]
        }
      ]
    }
  ]
}