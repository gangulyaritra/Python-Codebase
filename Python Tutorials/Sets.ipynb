{
  "nbformat": 4,
  "nbformat_minor": 0,
  "metadata": {
    "colab": {
      "name": "Sets.ipynb",
      "provenance": [],
      "collapsed_sections": []
    },
    "kernelspec": {
      "name": "python3",
      "display_name": "Python 3"
    },
    "language_info": {
      "name": "python"
    }
  },
  "cells": [
    {
      "cell_type": "markdown",
      "metadata": {
        "id": "TZPRPZw9npDt"
      },
      "source": [
        "# **Python Sets**\n",
        "\n",
        "A Python Set is a collection of unordered items. Each element in the Set must be unique (no duplicates), immutable (cannot be changed), and the Python Set also remove the duplicate elements. However, a Python Set itself is mutable, i.e., we can modify it (i.e., add or remove items) after its creation. Python Sets can also perform mathematical set operations like union, intersection, difference, symmetric difference, etc.\n",
        "\n",
        "Unlike other collections in Python, there is no index attached to the elements of the Sets, i.e., we cannot directly access any element of the Sets by the index. However, we can print them all together or get the list of elements by looping through the Set. Python Sets are iterable but are not sequences and do not support indexing and slicing with square brackets $\\left [ \\mbox{ } \\right ]$.\n",
        "\n",
        "### **References:**\n",
        "\n",
        "> [**Python Sets - Programiz**](https://www.programiz.com/python-programming/set)\n"
      ]
    },
    {
      "cell_type": "markdown",
      "metadata": {
        "id": "OZxuEVaerAYP"
      },
      "source": [
        "**Create a Set with Curly Braces.**\n",
        "\n",
        "A Python Set is created by placing all the items (elements) inside curly braces $\\left \\{  \\right \\}$, separated by a comma $(,)$, or by using the built-in $set()$ function. Python Set can have any number of items and can be of different types (integer, float, tuple, string, etc.). But a Set cannot have mutable elements like lists, sets, or dictionaries as its elements."
      ]
    },
    {
      "cell_type": "code",
      "metadata": {
        "id": "QpYaP-nDng04",
        "colab": {
          "base_uri": "https://localhost:8080/"
        },
        "outputId": "02c4600a-231d-46bf-e4eb-576b7b520d9d"
      },
      "source": [
        "# The following code creates a Set of strings named colors.\n",
        "colors = {\"red\", \"orange\", \"yellow\", \"green\", \"red\", \"blue\"}\n",
        "colors"
      ],
      "execution_count": null,
      "outputs": [
        {
          "output_type": "execute_result",
          "data": {
            "text/plain": [
              "{'blue', 'green', 'orange', 'red', 'yellow'}"
            ]
          },
          "metadata": {},
          "execution_count": 1
        }
      ]
    },
    {
      "cell_type": "markdown",
      "metadata": {
        "id": "B049YBwDtmNn"
      },
      "source": [
        "Notice that the duplicate string \"$red$\" was ignored (without causing an error). An important use of Sets is **duplicate elimination**, which is automatic when creating a Set. Also, the resulting Set's values are not displayed in the same order as they were listed initially. Though the color names are displayed in sorted order, Sets are unordered."
      ]
    },
    {
      "cell_type": "code",
      "metadata": {
        "id": "xzTGnkEntlkg",
        "colab": {
          "base_uri": "https://localhost:8080/"
        },
        "outputId": "4e07650e-9485-4c51-b804-3114d7407d08"
      },
      "source": [
        "# The following code creates a Set of mixed datatypes.\n",
        "mixed = {1.0, \"Hello\", (1, 2, 3), 5}\n",
        "print(mixed)\n",
        "print(type(mixed))"
      ],
      "execution_count": null,
      "outputs": [
        {
          "output_type": "stream",
          "name": "stdout",
          "text": [
            "{1.0, 'Hello', 5, (1, 2, 3)}\n",
            "<class 'set'>\n"
          ]
        }
      ]
    },
    {
      "cell_type": "markdown",
      "metadata": {
        "id": "7WxdL7NcCb0i"
      },
      "source": [
        "Sets are mutable, i.e., we can add and remove elements, but Set elements must be immutable."
      ]
    },
    {
      "cell_type": "code",
      "metadata": {
        "id": "inCoNp5fCtqI",
        "colab": {
          "base_uri": "https://localhost:8080/",
          "height": 201
        },
        "outputId": "3f36d439-935a-4d7d-e965-53fba3a25573"
      },
      "source": [
        "# Throw Error: Set cannot have mutable items, i.e., [3, 4] is a mutable list. It will cause an error.\n",
        "\n",
        "my_set = {1, 2, [3, 4]}"
      ],
      "execution_count": null,
      "outputs": [
        {
          "output_type": "error",
          "ename": "TypeError",
          "evalue": "ignored",
          "traceback": [
            "\u001b[0;31m---------------------------------------------------------------------------\u001b[0m",
            "\u001b[0;31mTypeError\u001b[0m                                 Traceback (most recent call last)",
            "\u001b[0;32m<ipython-input-3-9c09de0847e9>\u001b[0m in \u001b[0;36m<module>\u001b[0;34m()\u001b[0m\n\u001b[1;32m      1\u001b[0m \u001b[0;31m# Throw Error: Set cannot have mutable items, i.e., [3, 4] is a mutable list. It will cause an error.\u001b[0m\u001b[0;34m\u001b[0m\u001b[0;34m\u001b[0m\u001b[0;34m\u001b[0m\u001b[0m\n\u001b[1;32m      2\u001b[0m \u001b[0;34m\u001b[0m\u001b[0m\n\u001b[0;32m----> 3\u001b[0;31m \u001b[0mmy_set\u001b[0m \u001b[0;34m=\u001b[0m \u001b[0;34m{\u001b[0m\u001b[0;36m1\u001b[0m\u001b[0;34m,\u001b[0m \u001b[0;36m2\u001b[0m\u001b[0;34m,\u001b[0m \u001b[0;34m[\u001b[0m\u001b[0;36m3\u001b[0m\u001b[0;34m,\u001b[0m \u001b[0;36m4\u001b[0m\u001b[0;34m]\u001b[0m\u001b[0;34m}\u001b[0m\u001b[0;34m\u001b[0m\u001b[0;34m\u001b[0m\u001b[0m\n\u001b[0m",
            "\u001b[0;31mTypeError\u001b[0m: unhashable type: 'list'"
          ]
        }
      ]
    },
    {
      "cell_type": "markdown",
      "metadata": {
        "id": "4MC13IoAui21"
      },
      "source": [
        "**Determine a Set's length.**"
      ]
    },
    {
      "cell_type": "code",
      "metadata": {
        "id": "AswA6RoJuUvI",
        "colab": {
          "base_uri": "https://localhost:8080/"
        },
        "outputId": "90e0ba31-e7a9-4537-ca2c-b0c7240c44db"
      },
      "source": [
        "# Determine the number of items in a Set with the built-in len() function.\n",
        "len(colors)"
      ],
      "execution_count": null,
      "outputs": [
        {
          "output_type": "execute_result",
          "data": {
            "text/plain": [
              "5"
            ]
          },
          "metadata": {},
          "execution_count": 4
        }
      ]
    },
    {
      "cell_type": "markdown",
      "metadata": {
        "id": "zaWzmsGaw2uN"
      },
      "source": [
        "**Check whether a value exists in a Set.**\n",
        "\n",
        "Check whether a Set contains a particular value using the \"$in$\" and \"$not\\mbox{ }in$\" operators."
      ]
    },
    {
      "cell_type": "code",
      "metadata": {
        "id": "SSl0PXzOw9q-",
        "colab": {
          "base_uri": "https://localhost:8080/"
        },
        "outputId": "77358751-1b36-4cb7-b203-1242ec207a76"
      },
      "source": [
        "\"red\" in colors"
      ],
      "execution_count": null,
      "outputs": [
        {
          "output_type": "execute_result",
          "data": {
            "text/plain": [
              "True"
            ]
          },
          "metadata": {},
          "execution_count": 5
        }
      ]
    },
    {
      "cell_type": "code",
      "metadata": {
        "id": "yzak10Wuxk9n",
        "colab": {
          "base_uri": "https://localhost:8080/"
        },
        "outputId": "26317a19-9946-4eb4-cda3-e402392f0bf9"
      },
      "source": [
        "\"purple\" in colors"
      ],
      "execution_count": null,
      "outputs": [
        {
          "output_type": "execute_result",
          "data": {
            "text/plain": [
              "False"
            ]
          },
          "metadata": {},
          "execution_count": 6
        }
      ]
    },
    {
      "cell_type": "code",
      "metadata": {
        "id": "ous10qHtxp9k",
        "colab": {
          "base_uri": "https://localhost:8080/"
        },
        "outputId": "74e60888-1d10-4934-da2f-617154f6462c"
      },
      "source": [
        "\"purple\" not in colors"
      ],
      "execution_count": null,
      "outputs": [
        {
          "output_type": "execute_result",
          "data": {
            "text/plain": [
              "True"
            ]
          },
          "metadata": {},
          "execution_count": 7
        }
      ]
    },
    {
      "cell_type": "markdown",
      "metadata": {
        "id": "0To3Kt-Exxsd"
      },
      "source": [
        "**Iterate through a Set.**\n",
        "\n",
        "Sets are iterable and can process each element using a $for()$ loop."
      ]
    },
    {
      "cell_type": "code",
      "metadata": {
        "id": "JGLpubgnzGXd",
        "colab": {
          "base_uri": "https://localhost:8080/"
        },
        "outputId": "75c76050-f270-4a5d-a07b-1361f09e4b42"
      },
      "source": [
        "for col in colors:\n",
        "    print(col.upper(), end=\" \")\n",
        "\n",
        "# Sets are unordered, so there's no significance to the iteration order."
      ],
      "execution_count": null,
      "outputs": [
        {
          "output_type": "stream",
          "name": "stdout",
          "text": [
            "ORANGE RED GREEN YELLOW BLUE "
          ]
        }
      ]
    },
    {
      "cell_type": "markdown",
      "metadata": {
        "id": "LKUcXvp70RxV"
      },
      "source": [
        "**Create a Set with the built-in $set()$ function.**\n",
        "\n",
        "We can create a Set from another collection of values by using the built-in $set()$ function."
      ]
    },
    {
      "cell_type": "code",
      "metadata": {
        "id": "VTwOBqv71DZY",
        "colab": {
          "base_uri": "https://localhost:8080/"
        },
        "outputId": "3d7f7fc6-7890-4b29-9cd3-1b6fc64fa8f1"
      },
      "source": [
        "# Create a list that contains several duplicate integer values and use that list as the Set's argument.\n",
        "numbers = list(range(10)) + list(range(5))\n",
        "numbers"
      ],
      "execution_count": null,
      "outputs": [
        {
          "output_type": "execute_result",
          "data": {
            "text/plain": [
              "[0, 1, 2, 3, 4, 5, 6, 7, 8, 9, 0, 1, 2, 3, 4]"
            ]
          },
          "metadata": {},
          "execution_count": 9
        }
      ]
    },
    {
      "cell_type": "code",
      "metadata": {
        "id": "L9avvlMA2_HW",
        "colab": {
          "base_uri": "https://localhost:8080/"
        },
        "outputId": "f7d0da19-0a12-41ec-ebed-df33479fa785"
      },
      "source": [
        "# Sets can also be created from lists.\n",
        "number_set = set(numbers)\n",
        "number_set"
      ],
      "execution_count": null,
      "outputs": [
        {
          "output_type": "execute_result",
          "data": {
            "text/plain": [
              "{0, 1, 2, 3, 4, 5, 6, 7, 8, 9}"
            ]
          },
          "metadata": {},
          "execution_count": 10
        }
      ]
    },
    {
      "cell_type": "markdown",
      "metadata": {
        "id": "PHGbpTqC6TKb"
      },
      "source": [
        "If we need to create an empty Set, we must use the $set()$ function with empty parentheses rather than using empty braces $\\left \\{  \\right \\}$. Python displays an empty Set as \"$set()$\" to avoid confusion with Python's string representation of an empty dictionary ($\\left \\{  \\right \\}$)."
      ]
    },
    {
      "cell_type": "code",
      "metadata": {
        "id": "uVShk2_m6x_i",
        "colab": {
          "base_uri": "https://localhost:8080/"
        },
        "outputId": "0394c446-e52f-48ea-e5c9-48bb4cd57c98"
      },
      "source": [
        "a = set()\n",
        "print(type(a))"
      ],
      "execution_count": null,
      "outputs": [
        {
          "output_type": "stream",
          "name": "stdout",
          "text": [
            "<class 'set'>\n"
          ]
        }
      ]
    },
    {
      "cell_type": "code",
      "metadata": {
        "id": "mJ96LXuhEcy0",
        "colab": {
          "base_uri": "https://localhost:8080/"
        },
        "outputId": "2138534b-dfb6-434a-c126-1422cfeded08"
      },
      "source": [
        "b = {}\n",
        "print(type(b))"
      ],
      "execution_count": null,
      "outputs": [
        {
          "output_type": "stream",
          "name": "stdout",
          "text": [
            "<class 'dict'>\n"
          ]
        }
      ]
    },
    {
      "cell_type": "markdown",
      "metadata": {
        "id": "wOEyGZpKOdQk"
      },
      "source": [
        "## **Comparing Sets**\n",
        "\n",
        "Various operators and methods are used to compare Sets.\n",
        "\n",
        "The following Sets contain the same values, so $==$ returns $True$ and $!=$ returns $False$."
      ]
    },
    {
      "cell_type": "code",
      "metadata": {
        "id": "USr4t7trPLKz",
        "colab": {
          "base_uri": "https://localhost:8080/"
        },
        "outputId": "6583b78d-5cfe-437a-8ef1-8d222fdde88c"
      },
      "source": [
        "{1, 3, 5} == {3, 5, 1}"
      ],
      "execution_count": null,
      "outputs": [
        {
          "output_type": "execute_result",
          "data": {
            "text/plain": [
              "True"
            ]
          },
          "metadata": {},
          "execution_count": 13
        }
      ]
    },
    {
      "cell_type": "code",
      "metadata": {
        "id": "deiCu-YFRKHF",
        "colab": {
          "base_uri": "https://localhost:8080/"
        },
        "outputId": "92396e40-3940-4cc3-a96c-43736887e2e9"
      },
      "source": [
        "{1, 3, 5} != {3, 5, 1}"
      ],
      "execution_count": null,
      "outputs": [
        {
          "output_type": "execute_result",
          "data": {
            "text/plain": [
              "False"
            ]
          },
          "metadata": {},
          "execution_count": 14
        }
      ]
    },
    {
      "cell_type": "markdown",
      "metadata": {
        "id": "h2bqoqOpdN_-"
      },
      "source": [
        "The **$<$** operator tests whether the Set to its left is a **proper subset** of the one to its right, i.e., all the elements in the left operand are present in the right operand, and the Sets are not equal."
      ]
    },
    {
      "cell_type": "code",
      "metadata": {
        "id": "0CSc1Kn5dTcO",
        "colab": {
          "base_uri": "https://localhost:8080/"
        },
        "outputId": "309783d1-053a-4749-daf3-4cafb4525230"
      },
      "source": [
        "{1, 3, 5} < {3, 5, 1}"
      ],
      "execution_count": null,
      "outputs": [
        {
          "output_type": "execute_result",
          "data": {
            "text/plain": [
              "False"
            ]
          },
          "metadata": {},
          "execution_count": 15
        }
      ]
    },
    {
      "cell_type": "code",
      "metadata": {
        "id": "EpqzGhdddbDn",
        "colab": {
          "base_uri": "https://localhost:8080/"
        },
        "outputId": "808a1b1a-f816-42d0-f9a6-679ac29fe052"
      },
      "source": [
        "{1, 3, 5} < {7, 3, 5, 1}"
      ],
      "execution_count": null,
      "outputs": [
        {
          "output_type": "execute_result",
          "data": {
            "text/plain": [
              "True"
            ]
          },
          "metadata": {},
          "execution_count": 16
        }
      ]
    },
    {
      "cell_type": "markdown",
      "metadata": {
        "id": "OhX7wzIJem5Q"
      },
      "source": [
        "The $<=$ operator tests whether the Set to its left is an **improper subset** of the one to its right, i.e., all the elements in the left operand are present in the right operand, and the Sets might be equal."
      ]
    },
    {
      "cell_type": "code",
      "metadata": {
        "id": "mgvy-EIWepYW",
        "colab": {
          "base_uri": "https://localhost:8080/"
        },
        "outputId": "44000ef5-eed3-4f84-822a-43dd0a81cf03"
      },
      "source": [
        "{1, 3, 5} <= {3, 5, 1}"
      ],
      "execution_count": null,
      "outputs": [
        {
          "output_type": "execute_result",
          "data": {
            "text/plain": [
              "True"
            ]
          },
          "metadata": {},
          "execution_count": 17
        }
      ]
    },
    {
      "cell_type": "code",
      "metadata": {
        "id": "2ctjsA0bezef",
        "colab": {
          "base_uri": "https://localhost:8080/"
        },
        "outputId": "241f993a-99bb-4793-ab71-3f2d50293438"
      },
      "source": [
        "{1, 3} <= {3, 5, 1}"
      ],
      "execution_count": null,
      "outputs": [
        {
          "output_type": "execute_result",
          "data": {
            "text/plain": [
              "True"
            ]
          },
          "metadata": {},
          "execution_count": 18
        }
      ]
    },
    {
      "cell_type": "markdown",
      "metadata": {
        "id": "NLSSCF4Re-TO"
      },
      "source": [
        "We may also check for an **improper subset** with the Set method $issubset()$."
      ]
    },
    {
      "cell_type": "code",
      "metadata": {
        "id": "DDXSQeR-fAq9",
        "colab": {
          "base_uri": "https://localhost:8080/"
        },
        "outputId": "3d2bbefd-9cbb-47a3-b419-00af5a25ba69"
      },
      "source": [
        "{1, 3, 5}.issubset({3, 5, 1})"
      ],
      "execution_count": null,
      "outputs": [
        {
          "output_type": "execute_result",
          "data": {
            "text/plain": [
              "True"
            ]
          },
          "metadata": {},
          "execution_count": 19
        }
      ]
    },
    {
      "cell_type": "code",
      "metadata": {
        "id": "YVlssva4fJlh",
        "colab": {
          "base_uri": "https://localhost:8080/"
        },
        "outputId": "e5d68487-06a4-47d7-9fda-757b4466fcee"
      },
      "source": [
        "{1, 2}.issubset({3, 5, 1})"
      ],
      "execution_count": null,
      "outputs": [
        {
          "output_type": "execute_result",
          "data": {
            "text/plain": [
              "False"
            ]
          },
          "metadata": {},
          "execution_count": 20
        }
      ]
    },
    {
      "cell_type": "markdown",
      "metadata": {
        "id": "HvTF5mrhhAF-"
      },
      "source": [
        "The $>$ operator tests whether the Set to its left is a **proper superset** of the one to its right, i.e., all the elements in the right operand are present in the left operand, and the left operand has more elements."
      ]
    },
    {
      "cell_type": "code",
      "metadata": {
        "id": "J2gm4XxahtgW",
        "colab": {
          "base_uri": "https://localhost:8080/"
        },
        "outputId": "f83ce905-dad2-47dd-ce69-c2065eafec86"
      },
      "source": [
        "{1, 3, 5} > {3, 5, 1}"
      ],
      "execution_count": null,
      "outputs": [
        {
          "output_type": "execute_result",
          "data": {
            "text/plain": [
              "False"
            ]
          },
          "metadata": {},
          "execution_count": 21
        }
      ]
    },
    {
      "cell_type": "code",
      "metadata": {
        "id": "BXkmyNL4iBTD",
        "colab": {
          "base_uri": "https://localhost:8080/"
        },
        "outputId": "c0313ee5-d4f7-4aee-d126-ae1a8e9803b2"
      },
      "source": [
        "{1, 3, 5, 7} > {3, 5, 1}"
      ],
      "execution_count": null,
      "outputs": [
        {
          "output_type": "execute_result",
          "data": {
            "text/plain": [
              "True"
            ]
          },
          "metadata": {},
          "execution_count": 22
        }
      ]
    },
    {
      "cell_type": "markdown",
      "metadata": {
        "id": "50RRnyLwieLL"
      },
      "source": [
        "The $>=$ operator tests whether the Set to its left is an **improper superset** of the one to its right, i.e., all the elements in the right operand are present in the left operand, and the Sets might be equal."
      ]
    },
    {
      "cell_type": "code",
      "metadata": {
        "id": "x44svc_KihC3",
        "colab": {
          "base_uri": "https://localhost:8080/"
        },
        "outputId": "8ce9ae6b-0032-49ff-a65e-a17177282eaf"
      },
      "source": [
        "{1, 3, 5} >= {3, 5, 1}"
      ],
      "execution_count": null,
      "outputs": [
        {
          "output_type": "execute_result",
          "data": {
            "text/plain": [
              "True"
            ]
          },
          "metadata": {},
          "execution_count": 23
        }
      ]
    },
    {
      "cell_type": "code",
      "metadata": {
        "id": "n3iyij_QinJg",
        "colab": {
          "base_uri": "https://localhost:8080/"
        },
        "outputId": "929acb3a-042f-4ca8-e53b-eced5378fd8f"
      },
      "source": [
        "{1, 3, 5} >= {3, 1}"
      ],
      "execution_count": null,
      "outputs": [
        {
          "output_type": "execute_result",
          "data": {
            "text/plain": [
              "True"
            ]
          },
          "metadata": {},
          "execution_count": 24
        }
      ]
    },
    {
      "cell_type": "code",
      "metadata": {
        "id": "iy8QoKZPiqgl",
        "colab": {
          "base_uri": "https://localhost:8080/"
        },
        "outputId": "b47b7d05-672d-45d9-ae7c-fac5d24271ea"
      },
      "source": [
        "{1, 3} >= {3, 1, 7}"
      ],
      "execution_count": null,
      "outputs": [
        {
          "output_type": "execute_result",
          "data": {
            "text/plain": [
              "False"
            ]
          },
          "metadata": {},
          "execution_count": 25
        }
      ]
    },
    {
      "cell_type": "markdown",
      "metadata": {
        "id": "upKEGr2liygU"
      },
      "source": [
        "We may also check for an **improper superset** with the Set method $issuperset()$."
      ]
    },
    {
      "cell_type": "code",
      "metadata": {
        "id": "1gVNS1-VjAb5",
        "colab": {
          "base_uri": "https://localhost:8080/"
        },
        "outputId": "8ab5600c-d18b-41e2-e0d8-6216aa711f08"
      },
      "source": [
        "{1, 3, 5}.issuperset({3, 5, 1})"
      ],
      "execution_count": null,
      "outputs": [
        {
          "output_type": "execute_result",
          "data": {
            "text/plain": [
              "True"
            ]
          },
          "metadata": {},
          "execution_count": 26
        }
      ]
    },
    {
      "cell_type": "code",
      "metadata": {
        "id": "YWbk-hdhjGac",
        "colab": {
          "base_uri": "https://localhost:8080/"
        },
        "outputId": "5e34602f-2a2f-45c8-ff78-afd99cc005d2"
      },
      "source": [
        "{1, 3, 5}.issuperset({3, 2})"
      ],
      "execution_count": null,
      "outputs": [
        {
          "output_type": "execute_result",
          "data": {
            "text/plain": [
              "False"
            ]
          },
          "metadata": {},
          "execution_count": 27
        }
      ]
    },
    {
      "cell_type": "markdown",
      "metadata": {
        "id": "VTwx_78qlBqW"
      },
      "source": [
        "## **Mathematical Set Operations**\n",
        "\n",
        "Sets can perform mathematical operations such as **union**, **intersection**, **difference**, **symmetric difference**, and **disjoint**. Python provides the facility to carry out these operations with operators or methods."
      ]
    },
    {
      "cell_type": "markdown",
      "metadata": {
        "id": "HPKbjxn5Wxyc"
      },
      "source": [
        "### **Set Union**\n",
        "\n",
        "The **union** of two Sets is a Set consisting of all the **unique elements** from both Sets. The **union** of two Sets is calculated using the **pipe \"$|$\" operator** or with the set type's $union()$ method.\n",
        "\n",
        "![image.png](https://cdn.programiz.com/sites/tutorial2program/files/set-union.jpg)"
      ]
    },
    {
      "cell_type": "code",
      "metadata": {
        "id": "pKms-60PZpOi",
        "colab": {
          "base_uri": "https://localhost:8080/"
        },
        "outputId": "a64b1891-729d-43e7-bea4-71bd4825d5f7"
      },
      "source": [
        "A = {1, 2, 3, 4, 5}\n",
        "B = {4, 5, 6, 7, 8}\n",
        "\n",
        "# Union of \"A\" and \"B\" is a Set of all elements from both Sets.\n",
        "print(A | B)"
      ],
      "execution_count": null,
      "outputs": [
        {
          "output_type": "stream",
          "name": "stdout",
          "text": [
            "{1, 2, 3, 4, 5, 6, 7, 8}\n"
          ]
        }
      ]
    },
    {
      "cell_type": "code",
      "metadata": {
        "id": "yaJbdVz8lF5K",
        "colab": {
          "base_uri": "https://localhost:8080/"
        },
        "outputId": "1c482933-d09b-4db7-dbde-a7e12784df65"
      },
      "source": [
        "# Using Union Function.\n",
        "A.union(B)"
      ],
      "execution_count": null,
      "outputs": [
        {
          "output_type": "execute_result",
          "data": {
            "text/plain": [
              "{1, 2, 3, 4, 5, 6, 7, 8}"
            ]
          },
          "metadata": {},
          "execution_count": 29
        }
      ]
    },
    {
      "cell_type": "code",
      "metadata": {
        "id": "HmrNKN0WaZTp",
        "colab": {
          "base_uri": "https://localhost:8080/"
        },
        "outputId": "68a895cf-704b-4c99-bd98-06138d1391c1"
      },
      "source": [
        "# Using Union Function.\n",
        "B.union(A)"
      ],
      "execution_count": null,
      "outputs": [
        {
          "output_type": "execute_result",
          "data": {
            "text/plain": [
              "{1, 2, 3, 4, 5, 6, 7, 8}"
            ]
          },
          "metadata": {},
          "execution_count": 30
        }
      ]
    },
    {
      "cell_type": "markdown",
      "metadata": {
        "id": "AhHIX7L-aqJ3"
      },
      "source": [
        "### **Set Intersection**\n",
        "\n",
        "The **intersection** of two Sets is a Set consisting of all the **unique elements** that the two Sets have in common. The intersection of two Sets is calculated using the **and \"&\" operator** or with the set type's $intersection()$ method.\n",
        "\n",
        "![image.png](https://cdn.programiz.com/sites/tutorial2program/files/set-intersection.jpg)"
      ]
    },
    {
      "cell_type": "code",
      "metadata": {
        "id": "RljxkXCvbzs0",
        "colab": {
          "base_uri": "https://localhost:8080/"
        },
        "outputId": "2a141120-3615-4dd7-98f1-caa116194e3f"
      },
      "source": [
        "A = {1, 2, 3, 4, 5}\n",
        "B = {4, 5, 6, 7, 8}\n",
        "\n",
        "# Intersection of \"A\" and \"B\" is a Set of elements that are common in both Sets.\n",
        "print(A & B)"
      ],
      "execution_count": null,
      "outputs": [
        {
          "output_type": "stream",
          "name": "stdout",
          "text": [
            "{4, 5}\n"
          ]
        }
      ]
    },
    {
      "cell_type": "code",
      "metadata": {
        "id": "Sk8iippOczOe",
        "colab": {
          "base_uri": "https://localhost:8080/"
        },
        "outputId": "686b8827-c9d1-4268-fe39-7d172f44e82e"
      },
      "source": [
        "# Using Intersection Function.\n",
        "A.intersection(B)"
      ],
      "execution_count": null,
      "outputs": [
        {
          "output_type": "execute_result",
          "data": {
            "text/plain": [
              "{4, 5}"
            ]
          },
          "metadata": {},
          "execution_count": 32
        }
      ]
    },
    {
      "cell_type": "code",
      "metadata": {
        "id": "9XHeGL4Fcz9G",
        "colab": {
          "base_uri": "https://localhost:8080/"
        },
        "outputId": "931e5936-86d7-4c5d-8b61-a7117e561b70"
      },
      "source": [
        "# Using Intersection Function.\n",
        "B.intersection(A)"
      ],
      "execution_count": null,
      "outputs": [
        {
          "output_type": "execute_result",
          "data": {
            "text/plain": [
              "{4, 5}"
            ]
          },
          "metadata": {},
          "execution_count": 33
        }
      ]
    },
    {
      "cell_type": "markdown",
      "metadata": {
        "id": "f0p1v3a9dOpK"
      },
      "source": [
        "### **Set Difference**\n",
        "\n",
        "The **difference** between two Sets is a Set consisting of all the elements in the left operand that are not present in the right operand. The difference between two Sets is calculated using the **subtraction \"$-$\" operator** or with the set type's $difference()$ method.\n",
        "\n",
        "![image.png](https://cdn.programiz.com/sites/tutorial2program/files/set-difference.jpg)"
      ]
    },
    {
      "cell_type": "code",
      "metadata": {
        "id": "dkeuklJFdw_p",
        "colab": {
          "base_uri": "https://localhost:8080/"
        },
        "outputId": "fe676cae-bc11-4d33-b82d-5a800025a25e"
      },
      "source": [
        "A = {1, 2, 3, 4, 5}\n",
        "B = {4, 5, 6, 7, 8}\n",
        "\n",
        "# Difference between \"A\" and \"B\" is a Set of elements that are only present in Set \"A\" but not in Set \"B\".\n",
        "print(A - B)\n",
        "\n",
        "# Similarly, (B - A) represents a Set of elements that are only present in Set \"B\" but not in Set \"A\".\n",
        "print(B - A)"
      ],
      "execution_count": null,
      "outputs": [
        {
          "output_type": "stream",
          "name": "stdout",
          "text": [
            "{1, 2, 3}\n",
            "{8, 6, 7}\n"
          ]
        }
      ]
    },
    {
      "cell_type": "code",
      "metadata": {
        "id": "IEkzNoZBjWJ_",
        "colab": {
          "base_uri": "https://localhost:8080/"
        },
        "outputId": "5f0b73b6-789f-459b-caf5-b83c699ef859"
      },
      "source": [
        "# Using Difference Function.\n",
        "A.difference(B)"
      ],
      "execution_count": null,
      "outputs": [
        {
          "output_type": "execute_result",
          "data": {
            "text/plain": [
              "{1, 2, 3}"
            ]
          },
          "metadata": {},
          "execution_count": 35
        }
      ]
    },
    {
      "cell_type": "code",
      "metadata": {
        "id": "V6xI-_mmjiHX",
        "colab": {
          "base_uri": "https://localhost:8080/"
        },
        "outputId": "bf284fda-d4bc-4cc0-e47d-ac757ac24026"
      },
      "source": [
        "# Using Difference Function.\n",
        "B.difference(A)"
      ],
      "execution_count": null,
      "outputs": [
        {
          "output_type": "execute_result",
          "data": {
            "text/plain": [
              "{6, 7, 8}"
            ]
          },
          "metadata": {},
          "execution_count": 36
        }
      ]
    },
    {
      "cell_type": "markdown",
      "metadata": {
        "id": "eiSuCyf3jrBX"
      },
      "source": [
        "### **Set Symmetric Difference**\n",
        "\n",
        "The **symmetric difference** between two Sets is a Set consisting of all the elements in both Sets that are not in common with one another. The symmetric difference between two Sets is calculated using the **\"$\\wedge$\" operator** or with the set type's $symmetric\\_difference()$ method.\n",
        "\n",
        "![image.png](https://cdn.programiz.com/sites/tutorial2program/files/set-symmetric-difference.jpg)"
      ]
    },
    {
      "cell_type": "code",
      "metadata": {
        "id": "WhU2xyzgj882",
        "colab": {
          "base_uri": "https://localhost:8080/"
        },
        "outputId": "fe4ff1b0-a3ad-4de3-bcc1-082c46a7a791"
      },
      "source": [
        "A = {1, 2, 3, 4, 5}\n",
        "B = {4, 5, 6, 7, 8}\n",
        "\n",
        "# Symmetric Difference between \"A\" and \"B\" is a set of elements that are only present in Set \"A\" and Set \"B\", but not in both.\n",
        "print(A ^ B)"
      ],
      "execution_count": null,
      "outputs": [
        {
          "output_type": "stream",
          "name": "stdout",
          "text": [
            "{1, 2, 3, 6, 7, 8}\n"
          ]
        }
      ]
    },
    {
      "cell_type": "code",
      "metadata": {
        "id": "DIiRnJgU3s4c",
        "colab": {
          "base_uri": "https://localhost:8080/"
        },
        "outputId": "2d24736c-3273-4daf-8716-1c17a6b5ecf4"
      },
      "source": [
        "# Using Symmetric Difference Function.\n",
        "A.symmetric_difference(B)"
      ],
      "execution_count": null,
      "outputs": [
        {
          "output_type": "execute_result",
          "data": {
            "text/plain": [
              "{1, 2, 3, 6, 7, 8}"
            ]
          },
          "metadata": {},
          "execution_count": 38
        }
      ]
    },
    {
      "cell_type": "code",
      "metadata": {
        "id": "5fPeKXS435pj",
        "colab": {
          "base_uri": "https://localhost:8080/"
        },
        "outputId": "cdb496e6-1558-40f5-a30b-cf47d5b3f3dc"
      },
      "source": [
        "# Using Symmetric Difference Function.\n",
        "B.symmetric_difference(A)"
      ],
      "execution_count": null,
      "outputs": [
        {
          "output_type": "execute_result",
          "data": {
            "text/plain": [
              "{1, 2, 3, 6, 7, 8}"
            ]
          },
          "metadata": {},
          "execution_count": 39
        }
      ]
    },
    {
      "cell_type": "markdown",
      "metadata": {
        "id": "-_Zj7p514CwK"
      },
      "source": [
        "### **Set Disjoint**\n",
        "\n",
        "Two Sets are **disjoint** if they do not have any common elements. The disjoint of two Sets is determined using the set type's $isdisjoint()$ method."
      ]
    },
    {
      "cell_type": "code",
      "metadata": {
        "id": "gEUrPDmq5U-S",
        "colab": {
          "base_uri": "https://localhost:8080/"
        },
        "outputId": "a6d6ac23-8163-4bb7-cc9f-69561db51610"
      },
      "source": [
        "{1, 3, 5}.isdisjoint({2, 4, 6})"
      ],
      "execution_count": null,
      "outputs": [
        {
          "output_type": "execute_result",
          "data": {
            "text/plain": [
              "True"
            ]
          },
          "metadata": {},
          "execution_count": 40
        }
      ]
    },
    {
      "cell_type": "code",
      "metadata": {
        "id": "zFdmi57s5c0A",
        "colab": {
          "base_uri": "https://localhost:8080/"
        },
        "outputId": "10af10ea-d421-4ccc-ee63-246a879d0436"
      },
      "source": [
        "{1, 3, 5}.isdisjoint({4, 6, 1})"
      ],
      "execution_count": null,
      "outputs": [
        {
          "output_type": "execute_result",
          "data": {
            "text/plain": [
              "False"
            ]
          },
          "metadata": {},
          "execution_count": 41
        }
      ]
    },
    {
      "cell_type": "markdown",
      "metadata": {
        "id": "2KqsUSpA8ubX"
      },
      "source": [
        "# **Set Operations**\n",
        "\n",
        "Sets are mutable. However, since they are unordered, indexing has no meaning. We cannot access or change an element of a Set using indexing or slicing. Set data type does not support it."
      ]
    },
    {
      "cell_type": "markdown",
      "metadata": {
        "id": "oQ8xAUYM9cnP"
      },
      "source": [
        "**Methods for Adding Elements**\n",
        "\n",
        "Python provides the $add()$ method, which adds some particular item in the Set. The new element only gets inserted if it *doesn't already exist* inside the Set; otherwise, the Set remains unchanged. The $add()$ method inserts only a single element in the Set."
      ]
    },
    {
      "cell_type": "code",
      "metadata": {
        "id": "6MZtyxsA8xKA"
      },
      "source": [
        "numbers = {1, 2, 3, 5, 7, 8, 9}"
      ],
      "execution_count": null,
      "outputs": []
    },
    {
      "cell_type": "code",
      "metadata": {
        "colab": {
          "base_uri": "https://localhost:8080/"
        },
        "id": "azVrqKhSDhxD",
        "outputId": "773caae9-e0db-4526-9eb8-ab4df770f6bd"
      },
      "source": [
        "numbers.add(17)\n",
        "print(numbers)"
      ],
      "execution_count": null,
      "outputs": [
        {
          "output_type": "stream",
          "name": "stdout",
          "text": [
            "{1, 2, 3, 5, 7, 8, 9, 17}\n"
          ]
        }
      ]
    },
    {
      "cell_type": "code",
      "metadata": {
        "colab": {
          "base_uri": "https://localhost:8080/"
        },
        "id": "qtNHdQ3xDq5s",
        "outputId": "1b869a03-fb2f-4639-960b-b909303f93f2"
      },
      "source": [
        "numbers.add(3)\n",
        "print(numbers)"
      ],
      "execution_count": null,
      "outputs": [
        {
          "output_type": "stream",
          "name": "stdout",
          "text": [
            "{1, 2, 3, 5, 7, 8, 9, 17}\n"
          ]
        }
      ]
    },
    {
      "cell_type": "markdown",
      "metadata": {
        "id": "9uDDRDSqyBBi"
      },
      "source": [
        "**Methods for Updating Elements**\n",
        "\n",
        "Python provides the $update()$ method, which adds some particular item in the Set. Unlike $add()$ method, the $update()$ method inserts multiple elements into the Set. The $update()$ method takes tuples, lists, strings, or other sets as its argument. In all cases, duplicate data gets avoided."
      ]
    },
    {
      "cell_type": "code",
      "metadata": {
        "id": "ZD7tTif5zkQN"
      },
      "source": [
        "numbers = {1, 2, 3, 5, 7, 8, 9}"
      ],
      "execution_count": null,
      "outputs": []
    },
    {
      "cell_type": "code",
      "metadata": {
        "colab": {
          "base_uri": "https://localhost:8080/"
        },
        "id": "wZVNXS5Tz-if",
        "outputId": "ba313b76-909a-439d-81e8-afb642d5f75f"
      },
      "source": [
        "# Add Multiple Elements.\n",
        "numbers.update([12, 33, 47])\n",
        "print(numbers)"
      ],
      "execution_count": null,
      "outputs": [
        {
          "output_type": "stream",
          "name": "stdout",
          "text": [
            "{1, 2, 3, 33, 5, 7, 8, 9, 12, 47}\n"
          ]
        }
      ]
    },
    {
      "cell_type": "code",
      "metadata": {
        "colab": {
          "base_uri": "https://localhost:8080/"
        },
        "id": "QxLyEW8r0KZG",
        "outputId": "33244066-9453-48c2-e7a9-b5c6642f91a9"
      },
      "source": [
        "numbers.update([14, 25], {81, 96, 78})\n",
        "print(numbers)"
      ],
      "execution_count": null,
      "outputs": [
        {
          "output_type": "stream",
          "name": "stdout",
          "text": [
            "{96, 1, 2, 3, 33, 5, 7, 8, 9, 12, 14, 47, 78, 81, 25}\n"
          ]
        }
      ]
    },
    {
      "cell_type": "code",
      "metadata": {
        "colab": {
          "base_uri": "https://localhost:8080/"
        },
        "id": "CBYQ3lyG97n8",
        "outputId": "44d0eed7-2b37-4532-9077-ee52f173e8e5"
      },
      "source": [
        "num = set()\n",
        "\n",
        "num.update(range(10))\n",
        "print(num)"
      ],
      "execution_count": null,
      "outputs": [
        {
          "output_type": "stream",
          "name": "stdout",
          "text": [
            "{0, 1, 2, 3, 4, 5, 6, 7, 8, 9}\n"
          ]
        }
      ]
    },
    {
      "cell_type": "markdown",
      "metadata": {
        "id": "5_ccMFY50jtt"
      },
      "source": [
        "**Methods for Removing Elements**\n",
        "\n",
        "Python provides two methods, i.e., the $remove()$ method and the $discard()$ method that removes some particular item from the Set.\n",
        "\n",
        "The only difference between these two methods is that the $discard()$ function leaves a Set unchanged if the element is not present in the Set. On the other hand, the $remove()$ function will raise an error in such a condition (if the element is not present in the Set)."
      ]
    },
    {
      "cell_type": "code",
      "metadata": {
        "id": "exvX109H3iJ8"
      },
      "source": [
        "numbers = {1, 2, 3, 5, 7, 8, 9}"
      ],
      "execution_count": null,
      "outputs": []
    },
    {
      "cell_type": "code",
      "metadata": {
        "colab": {
          "base_uri": "https://localhost:8080/"
        },
        "id": "UWPZvfnN4EXO",
        "outputId": "2a0ffe75-4353-447f-a682-776c155cfabf"
      },
      "source": [
        "# Discard an Element.\n",
        "numbers.discard(3)  # Set method discard() removes its argument from the Set.\n",
        "print(numbers)"
      ],
      "execution_count": null,
      "outputs": [
        {
          "output_type": "stream",
          "name": "stdout",
          "text": [
            "{1, 2, 5, 7, 8, 9}\n"
          ]
        }
      ]
    },
    {
      "cell_type": "code",
      "metadata": {
        "colab": {
          "base_uri": "https://localhost:8080/"
        },
        "id": "1UaDKc6T4UbC",
        "outputId": "6f91987b-d0b8-40e3-acbb-f3b8e9fdd326"
      },
      "source": [
        "# Discard an Element.\n",
        "numbers.discard(6)  # Set method discard() doesn't cause an exception if the value is not in the Set.\n",
        "print(numbers)"
      ],
      "execution_count": null,
      "outputs": [
        {
          "output_type": "stream",
          "name": "stdout",
          "text": [
            "{1, 2, 5, 7, 8, 9}\n"
          ]
        }
      ]
    },
    {
      "cell_type": "code",
      "metadata": {
        "colab": {
          "base_uri": "https://localhost:8080/"
        },
        "id": "LHZdV-jG43Hi",
        "outputId": "89ba07e0-135c-4907-ddb7-745ae0304da4"
      },
      "source": [
        "# Remove an Element.\n",
        "numbers.remove(8)  # Set method remove() removes its argument from the Set.\n",
        "print(numbers)"
      ],
      "execution_count": null,
      "outputs": [
        {
          "output_type": "stream",
          "name": "stdout",
          "text": [
            "{1, 2, 5, 7, 9}\n"
          ]
        }
      ]
    },
    {
      "cell_type": "code",
      "metadata": {
        "colab": {
          "base_uri": "https://localhost:8080/",
          "height": 201
        },
        "id": "JipWnhDX5KdC",
        "outputId": "1e055767-fc04-4267-d0cf-e4c37bbdd4e2"
      },
      "source": [
        "# Remove an Element.\n",
        "numbers.remove(11)  # Set method remove() throws a \"KeyError\" if the argument value is not in the Set.\n",
        "print(numbers)"
      ],
      "execution_count": null,
      "outputs": [
        {
          "output_type": "error",
          "ename": "KeyError",
          "evalue": "ignored",
          "traceback": [
            "\u001b[0;31m---------------------------------------------------------------------------\u001b[0m",
            "\u001b[0;31mKeyError\u001b[0m                                  Traceback (most recent call last)",
            "\u001b[0;32m<ipython-input-53-821216fb4eb6>\u001b[0m in \u001b[0;36m<module>\u001b[0;34m()\u001b[0m\n\u001b[1;32m      1\u001b[0m \u001b[0;31m# Remove an Element.\u001b[0m\u001b[0;34m\u001b[0m\u001b[0;34m\u001b[0m\u001b[0;34m\u001b[0m\u001b[0m\n\u001b[0;32m----> 2\u001b[0;31m \u001b[0mnumbers\u001b[0m\u001b[0;34m.\u001b[0m\u001b[0mremove\u001b[0m\u001b[0;34m(\u001b[0m\u001b[0;36m11\u001b[0m\u001b[0;34m)\u001b[0m  \u001b[0;31m# Set method remove() throws a \"KeyError\" if the argument value is not in the Set.\u001b[0m\u001b[0;34m\u001b[0m\u001b[0;34m\u001b[0m\u001b[0m\n\u001b[0m\u001b[1;32m      3\u001b[0m \u001b[0mprint\u001b[0m\u001b[0;34m(\u001b[0m\u001b[0mnumbers\u001b[0m\u001b[0;34m)\u001b[0m\u001b[0;34m\u001b[0m\u001b[0;34m\u001b[0m\u001b[0m\n",
            "\u001b[0;31mKeyError\u001b[0m: 11"
          ]
        }
      ]
    },
    {
      "cell_type": "markdown",
      "metadata": {
        "id": "DjgyUvil5q27"
      },
      "source": [
        "We can also remove and return an item using the $pop()$ method. Since the Set is an unordered data type, there is no way of determining which item will be popped. It is an arbitrary process. A $KeyError$ occurs if the Set is empty when calling the $pop()$ method."
      ]
    },
    {
      "cell_type": "code",
      "metadata": {
        "colab": {
          "base_uri": "https://localhost:8080/"
        },
        "id": "5G9MOwcH7ccj",
        "outputId": "33b7956a-26a8-4030-cb54-b5f7779e9882"
      },
      "source": [
        "numbers = {1, 2, 3, 5, 7, 8, 9}\n",
        "\n",
        "numbers.pop()"
      ],
      "execution_count": null,
      "outputs": [
        {
          "output_type": "execute_result",
          "data": {
            "text/plain": [
              "1"
            ]
          },
          "metadata": {},
          "execution_count": 54
        }
      ]
    },
    {
      "cell_type": "code",
      "metadata": {
        "colab": {
          "base_uri": "https://localhost:8080/"
        },
        "id": "mLi-EGtH7xP5",
        "outputId": "f3ff4d02-19df-410c-f65d-f2bf37ee27bf"
      },
      "source": [
        "print(numbers)"
      ],
      "execution_count": null,
      "outputs": [
        {
          "output_type": "stream",
          "name": "stdout",
          "text": [
            "{2, 3, 5, 7, 8, 9}\n"
          ]
        }
      ]
    },
    {
      "cell_type": "markdown",
      "metadata": {
        "id": "Yv9XDu-z8B0D"
      },
      "source": [
        "We can remove all the items from a Set using the $clear()$ method."
      ]
    },
    {
      "cell_type": "code",
      "metadata": {
        "colab": {
          "base_uri": "https://localhost:8080/"
        },
        "id": "0GH_QnVG75iS",
        "outputId": "6afc2bdd-3261-48f7-ec5f-96f835b09e47"
      },
      "source": [
        "numbers = {1, 2, 3, 5, 7, 8, 9}\n",
        "\n",
        "numbers.clear()\n",
        "\n",
        "print(numbers)"
      ],
      "execution_count": null,
      "outputs": [
        {
          "output_type": "stream",
          "name": "stdout",
          "text": [
            "set()\n"
          ]
        }
      ]
    },
    {
      "cell_type": "markdown",
      "metadata": {
        "id": "kcEUQ3Me-T3z"
      },
      "source": [
        "# **Set Comprehensions**\n",
        "\n",
        "Like dictionary comprehensions, Set comprehensions are defined in curly braces.\n",
        "\n",
        "Let's create a new Set containing only the unique even values in the list numbers."
      ]
    },
    {
      "cell_type": "code",
      "metadata": {
        "colab": {
          "base_uri": "https://localhost:8080/"
        },
        "id": "OgLKaTaE-ZFA",
        "outputId": "1af3f9b7-8371-4250-89a1-bad0a2d236ea"
      },
      "source": [
        "numbers = [1, 2, 2, 3, 4, 5, 6, 6, 7, 8, 9, 10, 10]\n",
        "\n",
        "evens = {item for item in numbers if item % 2 == 0}\n",
        "\n",
        "print(evens)"
      ],
      "execution_count": null,
      "outputs": [
        {
          "output_type": "stream",
          "name": "stdout",
          "text": [
            "{2, 4, 6, 8, 10}\n"
          ]
        }
      ]
    },
    {
      "cell_type": "code",
      "source": [
        "# Constructing output Set Without Using Set Comprehension.\n",
        "\n",
        "input_list = [1, 2, 3, 4, 4, 5, 6, 6, 6, 7, 7]\n",
        "output_set = set()\n",
        "\n",
        "# Using the for() loop for constructing the output Set.\n",
        "for var in input_list:\n",
        "    if var % 2 == 0:\n",
        "        output_set.add(var)\n",
        "\n",
        "print(\"Output Set using the for() loop:\", output_set)\n",
        "\n",
        "# Constructing output Set Using Set Comprehension.\n",
        "\n",
        "set_using_comp = {var for var in input_list if var % 2 == 0}\n",
        "\n",
        "print(\"Output Set using Set Comprehension:\", set_using_comp)"
      ],
      "metadata": {
        "colab": {
          "base_uri": "https://localhost:8080/"
        },
        "id": "Zhgy4wguhPgI",
        "outputId": "750d36c3-75d0-498b-8a26-eb110879013d"
      },
      "execution_count": null,
      "outputs": [
        {
          "output_type": "stream",
          "name": "stdout",
          "text": [
            "Output Set using the for() loop: {2, 4, 6}\n",
            "Output Set using Set Comprehension: {2, 4, 6}\n"
          ]
        }
      ]
    },
    {
      "cell_type": "markdown",
      "metadata": {
        "id": "8M7HXfiF_mE8"
      },
      "source": [
        "# **Python FrozenSet**\n",
        "\n",
        "FrozenSet is a new class that has the characteristics of a Set, but its elements cannot be changed once assigned. While tuples are immutable lists, FrozenSets are immutable Sets. FrozenSets can be created using the $frozenset()$ function. FrozenSet supports all the mathematical operations, but being immutable, it does not have methods that add or remove elements."
      ]
    }
  ]
}