{
  "nbformat": 4,
  "nbformat_minor": 0,
  "metadata": {
    "colab": {
      "name": "String.ipynb",
      "provenance": [],
      "collapsed_sections": [
        "WNg25fvBkooH",
        "WgHClmvSffD6",
        "mxcL39QZhChS"
      ]
    },
    "kernelspec": {
      "name": "python3",
      "display_name": "Python 3"
    },
    "language_info": {
      "name": "python"
    }
  },
  "cells": [
    {
      "cell_type": "markdown",
      "metadata": {
        "id": "lCZ2htDBMa9H"
      },
      "source": [
        "# **Python String**\n",
        "\n",
        "*A string is a sequence of characters. A character is simply a symbol. For example, the English language has 26 characters.*\n",
        "\n",
        "Computers do not deal with characters. They deal with numbers (binary). Even though we may see characters on our screen, internally, it is stored and manipulated as a combination of 0s and 1s. This conversion of a character to a number is called encoding, and the reverse process is decoding. ASCII and Unicode are some of the popular encodings used.\n",
        "\n",
        "In Python, a string is a sequence of Unicode characters. Unicode was introduced to include every character in all languages and bring uniformity in encoding. We can learn about Unicode from Python Unicode.\n",
        "\n",
        "### **References:**\n",
        "\n",
        "> [**Python Strings - Programiz**](https://www.programiz.com/python-programming/string)"
      ]
    },
    {
      "cell_type": "markdown",
      "metadata": {
        "id": "hGka5oKINs5G"
      },
      "source": [
        "### **How to create a string in Python?**\n",
        "\n",
        "Strings can be created by enclosing characters inside a single quote or double-quotes. Even triple quotes can be used in Python but are generally used to represent multi-line strings and docstrings."
      ]
    },
    {
      "cell_type": "code",
      "metadata": {
        "id": "r0KwHV25L3Hr",
        "colab": {
          "base_uri": "https://localhost:8080/"
        },
        "outputId": "902c2304-1b45-410e-b41c-0b009e20ce64"
      },
      "source": [
        "# Define strings in Python.\n",
        "my_string = \"Hello\"\n",
        "print(my_string)\n",
        "\n",
        "my_string = \"Hello\"\n",
        "print(my_string)\n",
        "\n",
        "my_string = \"\"\"Hello\"\"\"\n",
        "print(my_string)\n",
        "\n",
        "# Triple quotes string can extend multiple lines.\n",
        "my_string = \"\"\"Hello, welcome to\n",
        "               the world of Python.\"\"\"\n",
        "print(my_string)"
      ],
      "execution_count": 1,
      "outputs": [
        {
          "output_type": "stream",
          "name": "stdout",
          "text": [
            "Hello\n",
            "Hello\n",
            "Hello\n",
            "Hello, welcome to\n",
            "               the world of Python.\n"
          ]
        }
      ]
    },
    {
      "cell_type": "markdown",
      "metadata": {
        "id": "kEo5-Vk6Q4UQ"
      },
      "source": [
        "### **How to access the characters in a string?**\n",
        "\n",
        "We can access individual characters using indexing and a range of characters using slicing. Index starts from 0. Trying to access a character out of the index range will raise an $IndexError$. The index must be an integer. We can't use floats or other types as it will result in $TypeError$.\n",
        "\n",
        "Python allows negative indexing for its sequences. The index of $-1$ refers to the last item, $-2$ to the second last item, and so on. We can access a range of items in a string by using the slicing operator \"$:$\" (colon)."
      ]
    },
    {
      "cell_type": "code",
      "metadata": {
        "id": "uqXyCnJFSIaO",
        "colab": {
          "base_uri": "https://localhost:8080/",
          "height": 288
        },
        "outputId": "571aad17-57fc-41af-fe62-fd9ff5f8c451"
      },
      "source": [
        "# Accessing string characters in Python.\n",
        "string = \"ARITRA\"\n",
        "print(\"string = \", string)\n",
        "\n",
        "# First Character.\n",
        "print(\"string[0] = \", string[0])\n",
        "\n",
        "# Last Character.\n",
        "print(\"string[-1] = \", string[-1])\n",
        "\n",
        "# Slicing 2nd to 5th Character.\n",
        "print(\"string[1:5] = \", string[1:5])\n",
        "\n",
        "# Slicing 6th to 2nd last Character.\n",
        "print(\"string[5:-2] = \", string[3:-2])\n",
        "\n",
        "# Accessing an index out of the range or using numbers other than an integer will get errors.\n",
        "print(\"string[15] = \", string[15])  # IndexError: String Index out of range."
      ],
      "execution_count": 2,
      "outputs": [
        {
          "output_type": "stream",
          "name": "stdout",
          "text": [
            "string =  ARITRA\n",
            "string[0] =  A\n",
            "string[-1] =  A\n",
            "string[1:5] =  RITR\n",
            "string[5:-2] =  T\n"
          ]
        },
        {
          "output_type": "error",
          "ename": "IndexError",
          "evalue": "ignored",
          "traceback": [
            "\u001b[0;31m---------------------------------------------------------------------------\u001b[0m",
            "\u001b[0;31mIndexError\u001b[0m                                Traceback (most recent call last)",
            "\u001b[0;32m<ipython-input-2-019aa3ca5fe1>\u001b[0m in \u001b[0;36m<module>\u001b[0;34m()\u001b[0m\n\u001b[1;32m     16\u001b[0m \u001b[0;34m\u001b[0m\u001b[0m\n\u001b[1;32m     17\u001b[0m \u001b[0;31m# Accessing an index out of the range or using numbers other than an integer will get errors.\u001b[0m\u001b[0;34m\u001b[0m\u001b[0;34m\u001b[0m\u001b[0;34m\u001b[0m\u001b[0m\n\u001b[0;32m---> 18\u001b[0;31m \u001b[0mprint\u001b[0m\u001b[0;34m(\u001b[0m\u001b[0;34m\"string[15] = \"\u001b[0m\u001b[0;34m,\u001b[0m \u001b[0mstring\u001b[0m\u001b[0;34m[\u001b[0m\u001b[0;36m15\u001b[0m\u001b[0;34m]\u001b[0m\u001b[0;34m)\u001b[0m  \u001b[0;31m# IndexError: String Index out of range.\u001b[0m\u001b[0;34m\u001b[0m\u001b[0;34m\u001b[0m\u001b[0m\n\u001b[0m",
            "\u001b[0;31mIndexError\u001b[0m: string index out of range"
          ]
        }
      ]
    },
    {
      "cell_type": "markdown",
      "metadata": {
        "id": "o7HnxETcVnvf"
      },
      "source": [
        "### **How to change or delete a string?**\n",
        "\n",
        "Strings are immutable. It means that elements of a string cannot be changed once they have been assigned. We can simply reassign different strings to the same name."
      ]
    },
    {
      "cell_type": "code",
      "metadata": {
        "id": "BJ6AiqlLV8DC",
        "colab": {
          "base_uri": "https://localhost:8080/",
          "height": 184
        },
        "outputId": "9f18dfd1-9319-4ca6-d51b-35a11b522bbd"
      },
      "source": [
        "my_string = \"ARITRA\"\n",
        "my_string[6] = \"G\"  # TypeError: 'str' object does not support item assignment."
      ],
      "execution_count": 3,
      "outputs": [
        {
          "output_type": "error",
          "ename": "TypeError",
          "evalue": "ignored",
          "traceback": [
            "\u001b[0;31m---------------------------------------------------------------------------\u001b[0m",
            "\u001b[0;31mTypeError\u001b[0m                                 Traceback (most recent call last)",
            "\u001b[0;32m<ipython-input-3-7932d0684439>\u001b[0m in \u001b[0;36m<module>\u001b[0;34m()\u001b[0m\n\u001b[1;32m      1\u001b[0m \u001b[0mmy_string\u001b[0m \u001b[0;34m=\u001b[0m \u001b[0;34m\"ARITRA\"\u001b[0m\u001b[0;34m\u001b[0m\u001b[0;34m\u001b[0m\u001b[0m\n\u001b[0;32m----> 2\u001b[0;31m \u001b[0mmy_string\u001b[0m\u001b[0;34m[\u001b[0m\u001b[0;36m6\u001b[0m\u001b[0;34m]\u001b[0m \u001b[0;34m=\u001b[0m \u001b[0;34m\"G\"\u001b[0m  \u001b[0;31m# TypeError: 'str' object does not support item assignment.\u001b[0m\u001b[0;34m\u001b[0m\u001b[0;34m\u001b[0m\u001b[0m\n\u001b[0m",
            "\u001b[0;31mTypeError\u001b[0m: 'str' object does not support item assignment"
          ]
        }
      ]
    },
    {
      "cell_type": "code",
      "metadata": {
        "id": "EuoZLMggY-Be",
        "colab": {
          "base_uri": "https://localhost:8080/"
        },
        "outputId": "1d971134-560e-4a2a-ed9d-bd36ef7ee606"
      },
      "source": [
        "my_string = \"GANGULY\"\n",
        "print(my_string)"
      ],
      "execution_count": 4,
      "outputs": [
        {
          "output_type": "stream",
          "name": "stdout",
          "text": [
            "GANGULY\n"
          ]
        }
      ]
    },
    {
      "cell_type": "markdown",
      "metadata": {
        "id": "ALRmsjYRZWsV"
      },
      "source": [
        "We cannot delete or remove characters from a string. But deleting the string entirely is possible using the $del$ keyword."
      ]
    },
    {
      "cell_type": "code",
      "metadata": {
        "id": "BHLakKRjZdqd",
        "colab": {
          "base_uri": "https://localhost:8080/",
          "height": 166
        },
        "outputId": "1c647d46-8012-4a7c-baab-52f73d62a9aa"
      },
      "source": [
        "del my_string[1]  # TypeError: 'str' object doesn't support item deletion."
      ],
      "execution_count": 5,
      "outputs": [
        {
          "output_type": "error",
          "ename": "TypeError",
          "evalue": "ignored",
          "traceback": [
            "\u001b[0;31m---------------------------------------------------------------------------\u001b[0m",
            "\u001b[0;31mTypeError\u001b[0m                                 Traceback (most recent call last)",
            "\u001b[0;32m<ipython-input-5-899633e97adb>\u001b[0m in \u001b[0;36m<module>\u001b[0;34m()\u001b[0m\n\u001b[0;32m----> 1\u001b[0;31m \u001b[0;32mdel\u001b[0m \u001b[0mmy_string\u001b[0m\u001b[0;34m[\u001b[0m\u001b[0;36m1\u001b[0m\u001b[0;34m]\u001b[0m  \u001b[0;31m# TypeError: 'str' object doesn't support item deletion.\u001b[0m\u001b[0;34m\u001b[0m\u001b[0;34m\u001b[0m\u001b[0m\n\u001b[0m",
            "\u001b[0;31mTypeError\u001b[0m: 'str' object doesn't support item deletion"
          ]
        }
      ]
    },
    {
      "cell_type": "code",
      "metadata": {
        "id": "HhZGrtesZmPL"
      },
      "source": [
        "del my_string  # Delete the entire string."
      ],
      "execution_count": 6,
      "outputs": []
    },
    {
      "cell_type": "markdown",
      "metadata": {
        "id": "ofgS54RFcEA2"
      },
      "source": [
        "## **Python String Operations**\n",
        "\n",
        "Python allows many string operations making it one of the most used data types."
      ]
    },
    {
      "cell_type": "markdown",
      "metadata": {
        "id": "Yboobp7OchfE"
      },
      "source": [
        "#### **Concatenation of Two or More Strings**\n",
        "\n",
        "*Joining two or more strings into a single one is called concatenation.*\n",
        "\n",
        "The $+$ operator does this in Python. Simply writing two-string literals together also concatenates them.\n",
        "\n",
        "The $*$ operator can be used to repeat the string a given number of times."
      ]
    },
    {
      "cell_type": "code",
      "metadata": {
        "id": "dBX_hXIQcsUF",
        "colab": {
          "base_uri": "https://localhost:8080/"
        },
        "outputId": "e31845d0-1619-46b3-9706-b194d1d4f503"
      },
      "source": [
        "# Python String Operations.\n",
        "str1 = \"Hello \"\n",
        "str2 = \"World!\"\n",
        "\n",
        "print(\"str1 + str2 = \", str1 + str2)\n",
        "\n",
        "print(\"str1 * 3 = \", str1 * 3)"
      ],
      "execution_count": 7,
      "outputs": [
        {
          "output_type": "stream",
          "name": "stdout",
          "text": [
            "str1 + str2 =  Hello World!\n",
            "str1 * 3 =  Hello Hello Hello \n"
          ]
        }
      ]
    },
    {
      "cell_type": "markdown",
      "metadata": {
        "id": "cE0USVQ1e2E8"
      },
      "source": [
        "#### **Iterate through a String**\n",
        "\n",
        "Iterate through a string using a $for()$ loop. Count the number of '$l$'s in a string."
      ]
    },
    {
      "cell_type": "code",
      "metadata": {
        "id": "VRJ_lM9QfIhS",
        "colab": {
          "base_uri": "https://localhost:8080/"
        },
        "outputId": "85c06061-d9ff-4a94-9377-5095fc033963"
      },
      "source": [
        "# Iterate through a String.\n",
        "count = 0\n",
        "for letter in \"Hello World\":\n",
        "    if letter == \"l\":\n",
        "        count += 1\n",
        "print(count, \" letters found.\")"
      ],
      "execution_count": 8,
      "outputs": [
        {
          "output_type": "stream",
          "name": "stdout",
          "text": [
            "3  letters found.\n"
          ]
        }
      ]
    },
    {
      "cell_type": "markdown",
      "metadata": {
        "id": "WNg25fvBkooH"
      },
      "source": [
        "#### **Searching for Substrings**\n",
        "\n",
        "We can search in a string for one or more adjacent characters, also known as a substring. In other words, to count the number of occurrences, determine whether a string contains a substring or determine the index at which a substring resides in a string."
      ]
    },
    {
      "cell_type": "markdown",
      "metadata": {
        "id": "GpzxA3jcnHtH"
      },
      "source": [
        "**Counting Occurrences**\n",
        "\n",
        "String method $count()$ returns the number of times its argument occurs in the string on which the method is called."
      ]
    },
    {
      "cell_type": "code",
      "metadata": {
        "id": "s-MdJgOPnG_I",
        "colab": {
          "base_uri": "https://localhost:8080/"
        },
        "outputId": "4c28393b-bd1c-425c-c364-b212c7c96c95"
      },
      "source": [
        "sentence = \"to be or not to be that is the question\"\n",
        "sentence.count(\"to\")"
      ],
      "execution_count": 9,
      "outputs": [
        {
          "output_type": "execute_result",
          "data": {
            "text/plain": [
              "2"
            ]
          },
          "metadata": {},
          "execution_count": 9
        }
      ]
    },
    {
      "cell_type": "markdown",
      "metadata": {
        "id": "bnArnxQpoHeq"
      },
      "source": [
        "If we specify as the second argument, i.e., a $start\\_index$, count searches only the slice $string[start\\_index:]$, i.e., from the $start\\_index$ through the end of the string."
      ]
    },
    {
      "cell_type": "code",
      "metadata": {
        "id": "agUK9Ao9k15Z",
        "colab": {
          "base_uri": "https://localhost:8080/"
        },
        "outputId": "ec209d4c-aa4c-4d36-d919-42c62562f627"
      },
      "source": [
        "sentence.count(\"to\", 12)"
      ],
      "execution_count": 10,
      "outputs": [
        {
          "output_type": "execute_result",
          "data": {
            "text/plain": [
              "1"
            ]
          },
          "metadata": {},
          "execution_count": 10
        }
      ]
    },
    {
      "cell_type": "markdown",
      "metadata": {
        "id": "JMqr_l8fp7xv"
      },
      "source": [
        "If we specify the second and third arguments, i.e., the $start\\_index$ and the $end\\_index$, count searches only the slice $string[start\\_index:end\\_index]$, i.e., from the $start\\_index$ up to, but not including, the $end\\_index$."
      ]
    },
    {
      "cell_type": "code",
      "metadata": {
        "id": "_GGXxhYmp8ne",
        "colab": {
          "base_uri": "https://localhost:8080/"
        },
        "outputId": "4906ad4d-2c7b-4cf0-bc7c-1fb814136b3b"
      },
      "source": [
        "sentence.count(\"that\", 12, 25)"
      ],
      "execution_count": 11,
      "outputs": [
        {
          "output_type": "execute_result",
          "data": {
            "text/plain": [
              "1"
            ]
          },
          "metadata": {},
          "execution_count": 11
        }
      ]
    },
    {
      "cell_type": "markdown",
      "metadata": {
        "id": "WgHClmvSffD6"
      },
      "source": [
        "#### **String Membership Test**\n",
        "\n",
        "We can test if a substring exists within a string or not, using the keyword $in$.\n",
        "\n"
      ]
    },
    {
      "cell_type": "code",
      "metadata": {
        "id": "FTWdfXLofeZi",
        "colab": {
          "base_uri": "https://localhost:8080/"
        },
        "outputId": "d706ddb4-68bd-4cbb-f54f-0af3e8a76f30"
      },
      "source": [
        "\"a\" in \"program\""
      ],
      "execution_count": 12,
      "outputs": [
        {
          "output_type": "execute_result",
          "data": {
            "text/plain": [
              "True"
            ]
          },
          "metadata": {},
          "execution_count": 12
        }
      ]
    },
    {
      "cell_type": "code",
      "metadata": {
        "id": "ob1Bna4Of2va",
        "colab": {
          "base_uri": "https://localhost:8080/"
        },
        "outputId": "c9a00470-dacd-426f-affb-01c4fc12e98b"
      },
      "source": [
        "\"at\" not in \"battle\""
      ],
      "execution_count": 13,
      "outputs": [
        {
          "output_type": "execute_result",
          "data": {
            "text/plain": [
              "False"
            ]
          },
          "metadata": {},
          "execution_count": 13
        }
      ]
    },
    {
      "cell_type": "code",
      "metadata": {
        "colab": {
          "base_uri": "https://localhost:8080/"
        },
        "id": "NFBnmZRzKOmF",
        "outputId": "4fdb5b9d-00c8-461b-f760-8f1c3ef0966f"
      },
      "source": [
        "\"that\" in sentence"
      ],
      "execution_count": 14,
      "outputs": [
        {
          "output_type": "execute_result",
          "data": {
            "text/plain": [
              "True"
            ]
          },
          "metadata": {},
          "execution_count": 14
        }
      ]
    },
    {
      "cell_type": "code",
      "metadata": {
        "colab": {
          "base_uri": "https://localhost:8080/"
        },
        "id": "B8EO24y3KTQM",
        "outputId": "a1d60f6f-70ae-40e5-916c-d74d7077bc62"
      },
      "source": [
        "\"THAT\" in sentence"
      ],
      "execution_count": 15,
      "outputs": [
        {
          "output_type": "execute_result",
          "data": {
            "text/plain": [
              "False"
            ]
          },
          "metadata": {},
          "execution_count": 15
        }
      ]
    },
    {
      "cell_type": "markdown",
      "metadata": {
        "id": "m2zzE-GYKW89"
      },
      "source": [
        "**Locating a Substring at the Beginning or End of a String**\n",
        "\n",
        "String methods $startswith()$ and $endswith()$ return True if the string starts with or ends with a specified substring."
      ]
    },
    {
      "cell_type": "code",
      "metadata": {
        "id": "uJY5K_3JKZoT"
      },
      "source": [
        "sentence = \"to be or not to be that is the question\""
      ],
      "execution_count": 16,
      "outputs": []
    },
    {
      "cell_type": "code",
      "metadata": {
        "colab": {
          "base_uri": "https://localhost:8080/"
        },
        "id": "jsmNcQSPKixM",
        "outputId": "c0953d75-85df-4fec-9bd3-1f7e830759fb"
      },
      "source": [
        "sentence.startswith(\"to\")"
      ],
      "execution_count": 17,
      "outputs": [
        {
          "output_type": "execute_result",
          "data": {
            "text/plain": [
              "True"
            ]
          },
          "metadata": {},
          "execution_count": 17
        }
      ]
    },
    {
      "cell_type": "code",
      "metadata": {
        "colab": {
          "base_uri": "https://localhost:8080/"
        },
        "id": "SnU2dMbdKmdl",
        "outputId": "7a1ba9b5-49c9-4ef2-ce23-18642d594192"
      },
      "source": [
        "sentence.startswith(\"be\")"
      ],
      "execution_count": 18,
      "outputs": [
        {
          "output_type": "execute_result",
          "data": {
            "text/plain": [
              "False"
            ]
          },
          "metadata": {},
          "execution_count": 18
        }
      ]
    },
    {
      "cell_type": "code",
      "metadata": {
        "colab": {
          "base_uri": "https://localhost:8080/"
        },
        "id": "joMn_aYqKpem",
        "outputId": "5b21fe35-dc6c-476b-cda9-2557634481d6"
      },
      "source": [
        "sentence.endswith(\"question\")"
      ],
      "execution_count": 19,
      "outputs": [
        {
          "output_type": "execute_result",
          "data": {
            "text/plain": [
              "True"
            ]
          },
          "metadata": {},
          "execution_count": 19
        }
      ]
    },
    {
      "cell_type": "code",
      "metadata": {
        "colab": {
          "base_uri": "https://localhost:8080/"
        },
        "id": "PHSslAT9KsM2",
        "outputId": "add34580-bf54-4692-ea17-11aa8fbb8c35"
      },
      "source": [
        "sentence.endswith(\"quest\")"
      ],
      "execution_count": 20,
      "outputs": [
        {
          "output_type": "execute_result",
          "data": {
            "text/plain": [
              "False"
            ]
          },
          "metadata": {},
          "execution_count": 20
        }
      ]
    },
    {
      "cell_type": "markdown",
      "metadata": {
        "id": "mxcL39QZhChS"
      },
      "source": [
        "#### **Built-in functions to work with Python**\n",
        "\n",
        "Various built-in functions that work with sequence, work with strings as well.\n",
        "\n",
        "Some of the commonly used ones are $enumerate()$ and $len()$. The $enumerate()$ function returns an enumerate object. It contains the index and value of all the items in the string as pairs. It can be useful for iteration."
      ]
    },
    {
      "cell_type": "code",
      "metadata": {
        "id": "AtKuANYghVvY",
        "colab": {
          "base_uri": "https://localhost:8080/"
        },
        "outputId": "9dbb45a2-7da0-4d86-c1ca-6c4731abd7cb"
      },
      "source": [
        "string = \"cold\"\n",
        "\n",
        "# Enumerate.\n",
        "list_enumerate = list(enumerate(string))\n",
        "print(\"list(enumerate(string) = \", list_enumerate)\n",
        "\n",
        "# Character Count.\n",
        "print(\"len(string) = \", len(string))"
      ],
      "execution_count": 21,
      "outputs": [
        {
          "output_type": "stream",
          "name": "stdout",
          "text": [
            "list(enumerate(string) =  [(0, 'c'), (1, 'o'), (2, 'l'), (3, 'd')]\n",
            "len(string) =  4\n"
          ]
        }
      ]
    },
    {
      "cell_type": "markdown",
      "metadata": {
        "id": "DhahNfNxh97N"
      },
      "source": [
        "### **Comparison Operators for Strings**\n",
        "\n",
        "Strings may be compared with the comparison operators. Recall that strings are compared based on their underlying integer numeric values. So uppercase letters compare as less than lowercase letters because uppercase letters have lower integer values. For example, the letter '$A$' is 65, and the letter '$a$' is 97."
      ]
    },
    {
      "cell_type": "code",
      "metadata": {
        "id": "HfbcLTwTicWv",
        "colab": {
          "base_uri": "https://localhost:8080/"
        },
        "outputId": "241c9397-1743-4cf0-80aa-12a48a473be6"
      },
      "source": [
        "print(f'A: {ord(\"A\")}; a: {ord(\"a\")}')"
      ],
      "execution_count": 22,
      "outputs": [
        {
          "output_type": "stream",
          "name": "stdout",
          "text": [
            "A: 65; a: 97\n"
          ]
        }
      ]
    },
    {
      "cell_type": "markdown",
      "metadata": {
        "id": "aAYzB7xri7AY"
      },
      "source": [
        "Compare the strings \"**Orange**\" and \"**orange**\" using the comparison operators."
      ]
    },
    {
      "cell_type": "code",
      "metadata": {
        "id": "zVUB8ywiis-q",
        "colab": {
          "base_uri": "https://localhost:8080/"
        },
        "outputId": "b6f1cc35-6fab-4db4-aed8-13dcce0e3cda"
      },
      "source": [
        "\"Orange\" == \"orange\""
      ],
      "execution_count": 23,
      "outputs": [
        {
          "output_type": "execute_result",
          "data": {
            "text/plain": [
              "False"
            ]
          },
          "metadata": {},
          "execution_count": 23
        }
      ]
    },
    {
      "cell_type": "code",
      "metadata": {
        "id": "kgiKEI_WjANo",
        "colab": {
          "base_uri": "https://localhost:8080/"
        },
        "outputId": "1936d4b8-473f-49e3-a837-04802990fc94"
      },
      "source": [
        "\"Orange\" != \"orange\""
      ],
      "execution_count": 24,
      "outputs": [
        {
          "output_type": "execute_result",
          "data": {
            "text/plain": [
              "True"
            ]
          },
          "metadata": {},
          "execution_count": 24
        }
      ]
    },
    {
      "cell_type": "code",
      "metadata": {
        "id": "PbEYxPKyjDzQ",
        "colab": {
          "base_uri": "https://localhost:8080/"
        },
        "outputId": "9e2a7f76-9411-49c2-bed4-3c4333b3c0a5"
      },
      "source": [
        "\"Orange\" < \"orange\""
      ],
      "execution_count": 25,
      "outputs": [
        {
          "output_type": "execute_result",
          "data": {
            "text/plain": [
              "True"
            ]
          },
          "metadata": {},
          "execution_count": 25
        }
      ]
    },
    {
      "cell_type": "code",
      "metadata": {
        "id": "BYWcKqohjHBA",
        "colab": {
          "base_uri": "https://localhost:8080/"
        },
        "outputId": "d760bc24-439d-40f2-ba5e-e8243a4ac3bc"
      },
      "source": [
        "\"Orange\" <= \"orange\""
      ],
      "execution_count": 26,
      "outputs": [
        {
          "output_type": "execute_result",
          "data": {
            "text/plain": [
              "True"
            ]
          },
          "metadata": {},
          "execution_count": 26
        }
      ]
    },
    {
      "cell_type": "code",
      "metadata": {
        "id": "Xn1JjxaxjKUh",
        "colab": {
          "base_uri": "https://localhost:8080/"
        },
        "outputId": "5c896271-f5fd-4a26-a23a-dcd51949ee89"
      },
      "source": [
        "\"Orange\" > \"orange\""
      ],
      "execution_count": 27,
      "outputs": [
        {
          "output_type": "execute_result",
          "data": {
            "text/plain": [
              "False"
            ]
          },
          "metadata": {},
          "execution_count": 27
        }
      ]
    },
    {
      "cell_type": "code",
      "metadata": {
        "id": "3qLZYlBGjOdZ",
        "colab": {
          "base_uri": "https://localhost:8080/"
        },
        "outputId": "7ef062f9-5afc-4f2f-9c6a-8e7b57c3aaae"
      },
      "source": [
        "\"Orange\" >= \"orange\""
      ],
      "execution_count": 28,
      "outputs": [
        {
          "output_type": "execute_result",
          "data": {
            "text/plain": [
              "False"
            ]
          },
          "metadata": {},
          "execution_count": 28
        }
      ]
    },
    {
      "cell_type": "markdown",
      "metadata": {
        "id": "R1_QgFdoNdoC"
      },
      "source": [
        "## **Python String Formatting**"
      ]
    },
    {
      "cell_type": "markdown",
      "metadata": {
        "id": "gbnLYeI-NhDY"
      },
      "source": [
        "**Escape Sequence**\n",
        "\n",
        "If we want to print a text like (He said, \"What's there?\"), we can neither use single quotes nor double quotes. It will result in a $SyntaxError$ as the text itself contains both single and double quotes."
      ]
    },
    {
      "cell_type": "code",
      "metadata": {
        "colab": {
          "base_uri": "https://localhost:8080/",
          "height": 132
        },
        "id": "V_xqTWQVN1zA",
        "outputId": "1ad0ee4c-9d5d-488d-9b93-4f0db776935c"
      },
      "source": [
        "print(\"He said, \"What's there?\"\")   # SyntaxError: Invalid Syntax.\n",
        "\n",
        "print('He said, \"What's there?\"')   # SyntaxError: Invalid Syntax."
      ],
      "execution_count": 29,
      "outputs": [
        {
          "output_type": "error",
          "ename": "SyntaxError",
          "evalue": "ignored",
          "traceback": [
            "\u001b[0;36m  File \u001b[0;32m\"<ipython-input-29-f3a1d031484b>\"\u001b[0;36m, line \u001b[0;32m1\u001b[0m\n\u001b[0;31m    print(\"He said, \"What's there?\"\")   # SyntaxError: Invalid Syntax.\u001b[0m\n\u001b[0m                        ^\u001b[0m\n\u001b[0;31mSyntaxError\u001b[0m\u001b[0;31m:\u001b[0m invalid syntax\n"
          ]
        }
      ]
    },
    {
      "cell_type": "markdown",
      "metadata": {
        "id": "48vLmv1TOh-P"
      },
      "source": [
        "One way to get around this problem is to use triple quotes. Alternatively, we can use escape sequences.\n",
        "\n",
        "An escape sequence starts with a backslash and is interpreted differently. If we use a single quote to represent a string, all the single quotes inside the string must be escaped. Similar is the case with double quotes."
      ]
    },
    {
      "cell_type": "code",
      "metadata": {
        "colab": {
          "base_uri": "https://localhost:8080/"
        },
        "id": "889FFwUxOix6",
        "outputId": "4f297b82-a4f3-4f79-b879-1a5837304f46"
      },
      "source": [
        "# Use Triple Quotes.\n",
        "print('''He said, \"What's there?\"''')\n",
        "\n",
        "# Escaping Single Quotes.\n",
        "print('He said, \"What\\'s there?\"')\n",
        "\n",
        "# Escaping Double Quotes.\n",
        "print('He said, \"What\\'s there?\"')"
      ],
      "execution_count": 30,
      "outputs": [
        {
          "output_type": "stream",
          "name": "stdout",
          "text": [
            "He said, \"What's there?\"\n",
            "He said, \"What's there?\"\n",
            "He said, \"What's there?\"\n"
          ]
        }
      ]
    },
    {
      "cell_type": "markdown",
      "metadata": {
        "id": "rf69X1SrQ6Ll"
      },
      "source": [
        "**Raw String to ignore escape sequence.**\n",
        "\n",
        "Sometimes we may wish to ignore the escape sequences inside a string. To do this, we can place '$r$' or '$R$' in front of the string. It will imply that it is a raw string, and any escape sequence inside it will be ignored."
      ]
    },
    {
      "cell_type": "code",
      "metadata": {
        "colab": {
          "base_uri": "https://localhost:8080/"
        },
        "id": "UVv4gJbQQ9YG",
        "outputId": "99b5f6aa-419c-411f-eb45-98b6acc13cea"
      },
      "source": [
        "print(\"This is \\x61 \\ngood example\")"
      ],
      "execution_count": 31,
      "outputs": [
        {
          "output_type": "stream",
          "name": "stdout",
          "text": [
            "This is a \n",
            "good example\n"
          ]
        }
      ]
    },
    {
      "cell_type": "code",
      "metadata": {
        "colab": {
          "base_uri": "https://localhost:8080/"
        },
        "id": "8nzBxQ01Rms9",
        "outputId": "7d2c0e5a-628d-4b4c-82cf-88aac2a495af"
      },
      "source": [
        "print(r\"This is \\x61 \\ngood example\")"
      ],
      "execution_count": 32,
      "outputs": [
        {
          "output_type": "stream",
          "name": "stdout",
          "text": [
            "This is \\x61 \\ngood example\n"
          ]
        }
      ]
    },
    {
      "cell_type": "markdown",
      "metadata": {
        "id": "rrKa1RT8TYnh"
      },
      "source": [
        "**The $format()$ Method for Formatting Strings.**\n",
        "\n",
        "The $format()$ method is available with the string object and is very versatile and powerful in formatting strings. Format strings contain curly braces **{ }** as placeholders or replacement fields that get replaced.\n",
        "\n",
        "We can use positional arguments or keyword arguments to specify the order."
      ]
    },
    {
      "cell_type": "code",
      "metadata": {
        "colab": {
          "base_uri": "https://localhost:8080/"
        },
        "id": "bhRDtNMgUhms",
        "outputId": "38df3a13-4631-4110-b773-4a379cc128f3"
      },
      "source": [
        "# Python string format() method.\n",
        "\n",
        "# Default(implicit) order.\n",
        "default_order = \"{}, {} and {}\".format(\"John\", \"Bill\", \"Sean\")\n",
        "print(\"\\n--- Default Order ---\")\n",
        "print(default_order)\n",
        "\n",
        "# Order using Positional Argument.\n",
        "positional_order = \"{1}, {0} and {2}\".format(\"John\", \"Bill\", \"Sean\")\n",
        "print(\"\\n--- Positional Order ---\")\n",
        "print(positional_order)\n",
        "\n",
        "# Order using Keyword Argument.\n",
        "keyword_order = \"{s}, {b} and {j}\".format(j=\"John\", b=\"Bill\", s=\"Sean\")\n",
        "print(\"\\n--- Keyword Order ---\")\n",
        "print(keyword_order)"
      ],
      "execution_count": 33,
      "outputs": [
        {
          "output_type": "stream",
          "name": "stdout",
          "text": [
            "\n",
            "--- Default Order ---\n",
            "John, Bill and Sean\n",
            "\n",
            "--- Positional Order ---\n",
            "Bill, John and Sean\n",
            "\n",
            "--- Keyword Order ---\n",
            "Sean, Bill and John\n"
          ]
        }
      ]
    },
    {
      "cell_type": "markdown",
      "metadata": {
        "id": "QDUJIsrgVzdK"
      },
      "source": [
        "**Old Style Formatting**"
      ]
    },
    {
      "cell_type": "code",
      "metadata": {
        "colab": {
          "base_uri": "https://localhost:8080/"
        },
        "id": "0JPr2XcnV1V6",
        "outputId": "8bc01f42-5fb6-41e2-a0c9-4c632578e58b"
      },
      "source": [
        "x = 12.3456789\n",
        "print(\"The value of x is %3.2f\" % x)\n",
        "print(\"The value of x is %3.4f\" % x)"
      ],
      "execution_count": 34,
      "outputs": [
        {
          "output_type": "stream",
          "name": "stdout",
          "text": [
            "The value of x is 12.35\n",
            "The value of x is 12.3457\n"
          ]
        }
      ]
    },
    {
      "cell_type": "markdown",
      "metadata": {
        "id": "1Ujd0STNWgkD"
      },
      "source": [
        "**Common Python String Methods**\n",
        "\n",
        "There are numerous methods available with the string object. Some of the commonly used methods are $lower()$, $upper()$, $join()$, $split()$, $find()$, $replace()$, etc."
      ]
    },
    {
      "cell_type": "code",
      "metadata": {
        "colab": {
          "base_uri": "https://localhost:8080/"
        },
        "id": "XPHS1nZXV7r9",
        "outputId": "2d561ca5-e840-4785-99af-aaa954d21c71"
      },
      "source": [
        "my_string = \"ArItrAGanGulY\"\n",
        "\n",
        "print(my_string.upper())\n",
        "print(my_string.lower())"
      ],
      "execution_count": 35,
      "outputs": [
        {
          "output_type": "stream",
          "name": "stdout",
          "text": [
            "ARITRAGANGULY\n",
            "aritraganguly\n"
          ]
        }
      ]
    },
    {
      "cell_type": "code",
      "metadata": {
        "colab": {
          "base_uri": "https://localhost:8080/"
        },
        "id": "EHJIiGinXFhJ",
        "outputId": "319f076c-e68a-4360-f13d-913dc20aed56"
      },
      "source": [
        "\"This will split all words into a list\".split()"
      ],
      "execution_count": 36,
      "outputs": [
        {
          "output_type": "execute_result",
          "data": {
            "text/plain": [
              "['This', 'will', 'split', 'all', 'words', 'into', 'a', 'list']"
            ]
          },
          "metadata": {},
          "execution_count": 36
        }
      ]
    },
    {
      "cell_type": "code",
      "metadata": {
        "colab": {
          "base_uri": "https://localhost:8080/",
          "height": 35
        },
        "id": "xrkhBG0XXarz",
        "outputId": "f90a6bc2-77fd-4916-c20c-2b5d140c342d"
      },
      "source": [
        "\" \".join([\"This\", \"will\", \"join\", \"all\", \"words\", \"into\", \"a\", \"string\"])"
      ],
      "execution_count": 37,
      "outputs": [
        {
          "output_type": "execute_result",
          "data": {
            "text/plain": [
              "'This will join all words into a string'"
            ],
            "application/vnd.google.colaboratory.intrinsic+json": {
              "type": "string"
            }
          },
          "metadata": {},
          "execution_count": 37
        }
      ]
    },
    {
      "cell_type": "code",
      "metadata": {
        "id": "9Q0CHZ1pXd1q"
      },
      "source": [
        "text = \"Happy New Year\""
      ],
      "execution_count": 38,
      "outputs": []
    },
    {
      "cell_type": "code",
      "metadata": {
        "colab": {
          "base_uri": "https://localhost:8080/"
        },
        "id": "__WKwDijXjAJ",
        "outputId": "3c579d61-2481-4cb1-bc81-041cabc554bf"
      },
      "source": [
        "text.find(\"ew\")"
      ],
      "execution_count": 39,
      "outputs": [
        {
          "output_type": "execute_result",
          "data": {
            "text/plain": [
              "7"
            ]
          },
          "metadata": {},
          "execution_count": 39
        }
      ]
    },
    {
      "cell_type": "code",
      "metadata": {
        "colab": {
          "base_uri": "https://localhost:8080/",
          "height": 35
        },
        "id": "kg0GqdMQXoKB",
        "outputId": "a7366425-6aed-4dde-ac0d-894f01f2b14a"
      },
      "source": [
        "text.replace(\"Happy\", \"Brilliant\")"
      ],
      "execution_count": 40,
      "outputs": [
        {
          "output_type": "execute_result",
          "data": {
            "text/plain": [
              "'Brilliant New Year'"
            ],
            "application/vnd.google.colaboratory.intrinsic+json": {
              "type": "string"
            }
          },
          "metadata": {},
          "execution_count": 40
        }
      ]
    }
  ]
}