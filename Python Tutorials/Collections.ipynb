{
  "nbformat": 4,
  "nbformat_minor": 0,
  "metadata": {
    "colab": {
      "name": "Collections Module.ipynb",
      "provenance": [],
      "collapsed_sections": []
    },
    "kernelspec": {
      "name": "python3",
      "display_name": "Python 3"
    },
    "language_info": {
      "name": "python"
    }
  },
  "cells": [
    {
      "cell_type": "markdown",
      "source": [
        "# **Python Collections**\n",
        "\n",
        "The $collection$ Module in Python provides different types of containers. A Container is an object used to store different objects and provide a way to access the contained objects and iterate over them. Some of the built-in containers are Tuple, List, Dictionary, etc. In this article, we will discuss the different containers provided by the collections module.\n",
        "\n",
        "## **Table of Content.**\n",
        "\n",
        "*   Counters\n",
        "*   OrderedDict\n",
        "*   defaultdict\n",
        "*   ChainMap\n",
        "*   NamedTuple\n",
        "*   Deque\n",
        "*   UserDict\n",
        "*   UserList\n",
        "*   UserString\n",
        "\n",
        "### **References:**\n",
        "\n",
        "> [**Python Collections Module - GeeksforGeeks**\n",
        "](https://www.geeksforgeeks.org/python-collections-module/)\n",
        "\n",
        "> [**https://docs.python.org/3/library/collections.html**](https://docs.python.org/3/library/collections.html)"
      ],
      "metadata": {
        "id": "KHL8uuXsTTJO"
      }
    },
    {
      "cell_type": "code",
      "execution_count": null,
      "metadata": {
        "id": "ZufApQUHRcW8"
      },
      "outputs": [],
      "source": [
        ""
      ]
    },
    {
      "cell_type": "markdown",
      "source": [
        "# **Counters**\n",
        "\n",
        "A $Counter$ is a sub-class of the dictionary. It is used to keep the count of the elements in an iterable form of an unordered dictionary; where the key represents the element in the iterable and the value represents the count of that element in the iterable.\n",
        "\n",
        "### **Syntax:**\n",
        "`class collections.Counter([iterable-or-mapping])`\n",
        "\n",
        "### **Initialize Counter Objects**\n",
        "The counter object can be initialized using the $Counter()$ function, and this function can be called in one of the following ways:\n",
        "\n",
        "*   With a sequence of items.\n",
        "*   With a dictionary containing keys and counts.\n",
        "*   With keyword arguments mapping string names to counts.\n",
        "\n",
        "> [**Counters in Python**](https://www.geeksforgeeks.org/counters-in-python-set-1/)"
      ],
      "metadata": {
        "id": "pEnW3BmXaOpE"
      }
    },
    {
      "cell_type": "code",
      "source": [
        "\"\"\" Python Code to show different ways to create Counter. \"\"\"\n",
        "\n",
        "from collections import Counter\n",
        "\n",
        "# With sequence of items.\n",
        "print(Counter([\"B\", \"B\", \"A\", \"B\", \"C\", \"A\", \"B\", \"B\", \"A\", \"C\"]))\n",
        "\n",
        "# With Dictionary.\n",
        "print(Counter({\"A\": 3, \"B\": 5, \"C\": 2}))\n",
        "\n",
        "# With Keyword Arguments.\n",
        "print(Counter(A=3, B=5, C=2))"
      ],
      "metadata": {
        "id": "-nFI36GJcGkr",
        "colab": {
          "base_uri": "https://localhost:8080/"
        },
        "outputId": "601ee2f8-7d98-48bc-dbe8-ec04aa50aa17"
      },
      "execution_count": null,
      "outputs": [
        {
          "output_type": "stream",
          "name": "stdout",
          "text": [
            "Counter({'B': 5, 'A': 3, 'C': 2})\n",
            "Counter({'B': 5, 'A': 3, 'C': 2})\n",
            "Counter({'B': 5, 'A': 3, 'C': 2})\n"
          ]
        }
      ]
    },
    {
      "cell_type": "code",
      "source": [
        "\"\"\" A counter is a container that stores elements as dictionary keys and their counts are stored as dictionary values. \"\"\"\n",
        "\n",
        "from collections import Counter\n",
        "\n",
        "str = \"aaaaabbbbcccdde\"\n",
        "my_counter = Counter(str)\n",
        "print(\"String Count is\", my_counter)\n",
        "print(\"\\n\")\n",
        "\n",
        "print(my_counter.items())\n",
        "print(my_counter.keys())\n",
        "print(my_counter.values())\n",
        "print(\"\\n\")\n",
        "\n",
        "my_list = [0, 1, 0, 1, 2, 1, 1, 3, 2, 3, 2, 4]\n",
        "my_counter = Counter(my_list)\n",
        "print(\"List Count is\", my_counter)\n",
        "\n",
        "# Most common items.\n",
        "print(my_counter.most_common(1))\n",
        "\n",
        "# Return an iterator over elements repeating each as many times as its count.\n",
        "# Elements are returned in arbitrary order.\n",
        "print(list(my_counter.elements()))"
      ],
      "metadata": {
        "id": "bBszmQPoeO6a",
        "colab": {
          "base_uri": "https://localhost:8080/"
        },
        "outputId": "d1143b00-eae3-4c7b-91c0-06cad198b88b"
      },
      "execution_count": null,
      "outputs": [
        {
          "output_type": "stream",
          "name": "stdout",
          "text": [
            "String Count is Counter({'a': 5, 'b': 4, 'c': 3, 'd': 2, 'e': 1})\n",
            "\n",
            "\n",
            "dict_items([('a', 5), ('b', 4), ('c', 3), ('d', 2), ('e', 1)])\n",
            "dict_keys(['a', 'b', 'c', 'd', 'e'])\n",
            "dict_values([5, 4, 3, 2, 1])\n",
            "\n",
            "\n",
            "List Count is Counter({1: 4, 2: 3, 0: 2, 3: 2, 4: 1})\n",
            "[(1, 4)]\n",
            "[0, 0, 1, 1, 1, 1, 2, 2, 2, 3, 3, 4]\n"
          ]
        }
      ]
    },
    {
      "cell_type": "markdown",
      "source": [
        "# **OrderedDict**\n",
        "\n",
        "An $OrderedDict$ is also a sub-class of a dictionary, but unlike a dictionary it remembers the order in which the keys were inserted.\n",
        "\n",
        "When iterating over an ordered dictionary, the items are returned in the order in which their keys were first added. If a new entry overwrites an existing entry, the original insertion position is left unchanged. $OrderedDict$ has become less important now that the built-in dictionary class has gained the ability to remember insertion order (guaranteed since **Python 3.7**).\n",
        "\n",
        "### **Syntax:**\n",
        "`class collections.OrderDict()`\n",
        "\n",
        "### **References:**\n",
        "\n",
        "> [**OrderedDict in Python**](https://www.geeksforgeeks.org/ordereddict-in-python/)"
      ],
      "metadata": {
        "id": "zgI-HP3HhjxF"
      }
    },
    {
      "cell_type": "code",
      "source": [
        "\"\"\" Python Code to demonstrate the working of OrderedDict. \"\"\"\n",
        "\n",
        "from collections import OrderedDict\n",
        "\n",
        "print(\"This is a Dict:\\n\")\n",
        "d = {}\n",
        "d[\"a\"] = 1\n",
        "d[\"b\"] = 2\n",
        "d[\"c\"] = 3\n",
        "d[\"d\"] = 4\n",
        "\n",
        "# This may be in arbitrary order before Python 3.7\n",
        "for key, value in d.items():\n",
        "    print(key, value)\n",
        "\n",
        "print(\"\\nThis is an Ordered Dict:\\n\")\n",
        "od = OrderedDict()\n",
        "od[\"a\"] = 1\n",
        "od[\"b\"] = 2\n",
        "od[\"c\"] = 3\n",
        "od[\"d\"] = 4\n",
        "\n",
        "# Same functionality as with ordinary dictionary, but always ordered.\n",
        "for key, value in od.items():\n",
        "    print(key, value)"
      ],
      "metadata": {
        "id": "yNGvuZzZkHOH",
        "colab": {
          "base_uri": "https://localhost:8080/"
        },
        "outputId": "cdb121e3-228b-45b7-cb30-faf933e5d8ef"
      },
      "execution_count": null,
      "outputs": [
        {
          "output_type": "stream",
          "name": "stdout",
          "text": [
            "This is a Dict:\n",
            "\n",
            "a 1\n",
            "b 2\n",
            "c 3\n",
            "d 4\n",
            "\n",
            "This is an Ordered Dict:\n",
            "\n",
            "a 1\n",
            "b 2\n",
            "c 3\n",
            "d 4\n"
          ]
        }
      ]
    },
    {
      "cell_type": "markdown",
      "source": [
        "# **DefaultDict**\n",
        "\n",
        "A $DefaultDict$ is also a sub-class to the dictionary. It provide some default values for the key that does not exist and never raises a $KeyError$. DefaultDict objects can be initialized using the $DefaultDict()$ method by passing the data type as an argument.\n",
        "\n",
        "### **Syntax:**\n",
        "`class collections.defaultdict(default_factory)`\n",
        "\n",
        "$default\\_factory$ is a function that provides the default value for the dictionary created. If this parameter is absent, then the $KeyError$ is raised.\n",
        "\n",
        "### **References:**\n",
        "\n",
        "> [**DefaultDict in Python**](https://www.geeksforgeeks.org/defaultdict-in-python/)"
      ],
      "metadata": {
        "id": "JYcCi7DehjyZ"
      }
    },
    {
      "cell_type": "code",
      "source": [
        "\"\"\" Python Code to demonstrate the working of DefaultDict. \"\"\"\n",
        "\n",
        "from collections import defaultdict\n",
        "\n",
        "d = defaultdict(int)\n",
        "L = [1, 2, 3, 4, 2, 4, 1, 2]\n",
        "\n",
        "# Iterate through the list for keeping the count.\n",
        "for i in L:\n",
        "    d[i] += 1\n",
        "\n",
        "print(d)"
      ],
      "metadata": {
        "id": "42cuQ5YkrP_b",
        "colab": {
          "base_uri": "https://localhost:8080/"
        },
        "outputId": "3d3dc4ad-2f96-4211-bf1b-75518208ff12"
      },
      "execution_count": null,
      "outputs": [
        {
          "output_type": "stream",
          "name": "stdout",
          "text": [
            "defaultdict(<class 'int'>, {1: 2, 2: 3, 3: 1, 4: 2})\n"
          ]
        }
      ]
    },
    {
      "cell_type": "markdown",
      "source": [
        "# **ChainMap**\n",
        "\n",
        "A $ChainMap$ encapsulates many dictionaries into a single unit and returns a list of dictionaries.\n",
        "\n",
        "### **Syntax:**\n",
        "\n",
        "`class collections.ChainMap(dict1, dict2)`\n",
        "\n",
        "### **References:**\n",
        "\n",
        "> [**ChainMap in Python**](https://www.geeksforgeeks.org/chainmap-in-python/)"
      ],
      "metadata": {
        "id": "yXJX2485hjzk"
      }
    },
    {
      "cell_type": "code",
      "source": [
        "\"\"\" Python Code to demonstrate ChainMap. \"\"\"\n",
        "\n",
        "from collections import ChainMap\n",
        "\n",
        "d1 = {\"a\": 1, \"b\": 2}\n",
        "d2 = {\"c\": 3, \"d\": 4}\n",
        "d3 = {\"e\": 5, \"f\": 6}\n",
        "\n",
        "# Define the ChainMap.\n",
        "c = ChainMap(d1, d2, d3)\n",
        "\n",
        "print(c)"
      ],
      "metadata": {
        "id": "eiEdLsMTeO7l",
        "colab": {
          "base_uri": "https://localhost:8080/"
        },
        "outputId": "3d5f5577-b38b-49cc-ecf3-07d752084efc"
      },
      "execution_count": null,
      "outputs": [
        {
          "output_type": "stream",
          "name": "stdout",
          "text": [
            "ChainMap({'a': 1, 'b': 2}, {'c': 3, 'd': 4}, {'e': 5, 'f': 6})\n"
          ]
        }
      ]
    },
    {
      "cell_type": "code",
      "source": [
        "\"\"\"\n",
        "Accessing Keys and Values from ChainMap.\n",
        "\n",
        "Values from ChainMap can be accessed using the key name. They can also be accessed using the keys() and values() methods.\n",
        "\"\"\"\n",
        "\n",
        "from collections import ChainMap\n",
        "\n",
        "d1 = {\"a\": 1, \"b\": 2}\n",
        "d2 = {\"c\": 3, \"d\": 4}\n",
        "d3 = {\"e\": 5, \"f\": 6}\n",
        "\n",
        "# Define the ChainMap.\n",
        "c = ChainMap(d1, d2, d3)\n",
        "\n",
        "# Access Values using Key name.\n",
        "print(c[\"a\"])\n",
        "\n",
        "# Access Values using the values() method.\n",
        "print(c.values())\n",
        "\n",
        "# Access Keys using the keys() method.\n",
        "print(c.keys())"
      ],
      "metadata": {
        "colab": {
          "base_uri": "https://localhost:8080/"
        },
        "id": "mpP4HGjLS3yz",
        "outputId": "5b5cefa2-1b0c-4a70-ac9b-97f1d74a2868"
      },
      "execution_count": null,
      "outputs": [
        {
          "output_type": "stream",
          "name": "stdout",
          "text": [
            "1\n",
            "ValuesView(ChainMap({'a': 1, 'b': 2}, {'c': 3, 'd': 4}, {'e': 5, 'f': 6}))\n",
            "KeysView(ChainMap({'a': 1, 'b': 2}, {'c': 3, 'd': 4}, {'e': 5, 'f': 6}))\n"
          ]
        }
      ]
    },
    {
      "cell_type": "code",
      "source": [
        "\"\"\" Adding a new Dictionary. A new dictionary can also be added using the new_child() method. \"\"\"\n",
        "\n",
        "# Python Code to demonstrate ChainMap and new_child().\n",
        "\n",
        "import collections\n",
        "\n",
        "# Initializing Dictionaries.\n",
        "dic1 = {\"a\": 1, \"b\": 2}\n",
        "dic2 = {\"b\": 3, \"c\": 4}\n",
        "dic3 = {\"f\": 5}\n",
        "\n",
        "# Initializing ChainMap.\n",
        "chain = collections.ChainMap(dic1, dic2)\n",
        "\n",
        "# Print ChainMap.\n",
        "print(\"All the ChainMap contents are:\")\n",
        "print(chain, \"\\n\")\n",
        "\n",
        "# Using new_child() to add new dictionary.\n",
        "chain1 = chain.new_child(dic3)\n",
        "\n",
        "# Print ChainMap.\n",
        "print(\"Displaying new ChainMap:\")\n",
        "print(chain1)"
      ],
      "metadata": {
        "colab": {
          "base_uri": "https://localhost:8080/"
        },
        "id": "SoUJJy-AS4E8",
        "outputId": "c1449909-5704-4ecd-ea1b-6f6826c49760"
      },
      "execution_count": null,
      "outputs": [
        {
          "output_type": "stream",
          "name": "stdout",
          "text": [
            "All the ChainMap contents are:\n",
            "ChainMap({'a': 1, 'b': 2}, {'b': 3, 'c': 4}) \n",
            "\n",
            "Displaying new ChainMap:\n",
            "ChainMap({'f': 5}, {'a': 1, 'b': 2}, {'b': 3, 'c': 4})\n"
          ]
        }
      ]
    },
    {
      "cell_type": "markdown",
      "source": [
        "# **NamedTuple**\n",
        "\n",
        "A $NamedTuple$ returns a tuple object with names for each position which the ordinary tuples lack. For example, consider a tuple names student where the first element represents `fname`, the second represents `lname` and the third element represents the `DOB`. Suppose for calling `fname` instead of remembering the index position, we can call the element by using the `fname` argument, hence making it really easy for accessing the tuples element. This functionality is provided by the $NamedTuple$.\n",
        "\n",
        "### **Syntax:**\n",
        "`class collections.namedtuple(typename, field_names)`\n",
        "\n",
        "### **Conversion Operations:**\n",
        "\n",
        "*   $\\_make()$: This function return a $namedtuple()$ from the iterable passed as an argument.\n",
        "*   $\\_asdict()$: This function returns the $OrderDict()$ as constructed from the mapped values of $namedtuple()$.\n",
        "\n",
        "### **References:**\n",
        "\n",
        "> [**Namedtuple in Python**](https://www.geeksforgeeks.org/namedtuple-in-python/)\n"
      ],
      "metadata": {
        "id": "huqz3O_KaOqj"
      }
    },
    {
      "cell_type": "code",
      "source": [
        "\"\"\" Python Code to demonstrate namedtuple(). \"\"\"\n",
        "\n",
        "from collections import namedtuple\n",
        "\n",
        "# Declare namedtuple().\n",
        "Student = namedtuple(\"Student\", [\"name\", \"age\", \"DOB\"])\n",
        "\n",
        "# Add values.\n",
        "S = Student(\"Aritra\", \"24\", \"25111997\")\n",
        "\n",
        "# Access using Index.\n",
        "print(\"The Student age using the index is: \", end=\"\")\n",
        "print(S[1])\n",
        "\n",
        "# Access using Name.\n",
        "print(\"The Student name using the keyname is: \", end=\"\")\n",
        "print(S.name)"
      ],
      "metadata": {
        "colab": {
          "base_uri": "https://localhost:8080/"
        },
        "id": "hjIx3Xg7h0Rm",
        "outputId": "44aab656-c72e-44fc-b8eb-c8eed0571671"
      },
      "execution_count": null,
      "outputs": [
        {
          "output_type": "stream",
          "name": "stdout",
          "text": [
            "The Student age using the index is: 24\n",
            "The Student name using the keyname is: Aritra\n"
          ]
        }
      ]
    },
    {
      "cell_type": "markdown",
      "source": [
        "# **Deque**\n",
        "\n",
        "$Deque$ (**Doubly Ended Queue**) is the optimized list for quicker $append()$ and $pop()$ operations from both sides of the container. It provides $O(1)$ time complexity for both $append()$ and $pop()$ operations as compared to the list with $O(n)$ time complexity.\n",
        "\n",
        "#### **Syntax:**\n",
        "`class collections.deque(list)`\n",
        "\n",
        "This function takes the list as an argument.\n",
        "\n",
        "### **Inserting Elements:**\n",
        "Elements in deque can be inserted from both ends. To insert the elements from the right $append()$ method is used and to insert the elements from the left $appendleft()$ method is used.\n",
        "\n",
        "### **Removing Elements:**\n",
        "Elements in deque can be removed from both ends. To remove elements from the right, use the $pop()$ method and to remove elements from the left, use the $popleft()$ method.\n",
        "\n",
        "#### **References:**\n",
        "\n",
        "> [**Deque in Python**](https://www.geeksforgeeks.org/deque-in-python/)\n",
        "\n"
      ],
      "metadata": {
        "id": "eYkYQK-EoAuJ"
      }
    },
    {
      "cell_type": "code",
      "source": [
        "\"\"\" Python Code to demonstrate Deque. \"\"\"\n",
        "\n",
        "from collections import deque\n",
        "\n",
        "# Declare Deque.\n",
        "queue = deque([\"name\", \"age\", \"DOB\"])\n",
        "print(queue)"
      ],
      "metadata": {
        "colab": {
          "base_uri": "https://localhost:8080/"
        },
        "id": "qlCXG3HFrU5j",
        "outputId": "da8f64bc-1b5a-4f06-9adb-563fee2f3ea9"
      },
      "execution_count": null,
      "outputs": [
        {
          "output_type": "stream",
          "name": "stdout",
          "text": [
            "deque(['name', 'age', 'DOB'])\n"
          ]
        }
      ]
    },
    {
      "cell_type": "code",
      "source": [
        "# Python Code to demonstrate the working of append() & appendleft().\n",
        "\n",
        "from collections import deque\n",
        "\n",
        "# Initialize Deque.\n",
        "de = deque([1, 2, 3])\n",
        "\n",
        "# Use append() to insert an element at the right end.\n",
        "de.append(5)  # Inserts 5 at the end of the deque.\n",
        "\n",
        "# Print modified Deque.\n",
        "print(\"The Deque after appending at right is:\", de, \"\\n\")\n",
        "\n",
        "# Use appendleft() to insert an element at the left end.\n",
        "de.appendleft(8)  # Inserts 8 at the beginning of the deque.\n",
        "\n",
        "# Print modified Deque.\n",
        "print(\"The Deque after appending at left is:\", de)"
      ],
      "metadata": {
        "colab": {
          "base_uri": "https://localhost:8080/"
        },
        "id": "QqxEaqIgsPdv",
        "outputId": "f0443ae5-4a15-40bb-900a-c36772c4e185"
      },
      "execution_count": null,
      "outputs": [
        {
          "output_type": "stream",
          "name": "stdout",
          "text": [
            "The Deque after appending at right is: deque([1, 2, 3, 5]) \n",
            "\n",
            "The Deque after appending at left is: deque([8, 1, 2, 3, 5])\n"
          ]
        }
      ]
    },
    {
      "cell_type": "code",
      "source": [
        "# Python Code to demonstrate the working of pop() & popleft().\n",
        "\n",
        "from collections import deque\n",
        "\n",
        "# Initialize Deque.\n",
        "de = deque([1, 2, 3, 4, 5])\n",
        "\n",
        "# Use pop() to delete an element at the right end.\n",
        "de.pop()  # Deletes 5 from the end of the deque.\n",
        "\n",
        "# Print modified Deque.\n",
        "print(\"The Deque after deleting from the right is:\", de, \"\\n\")\n",
        "\n",
        "# Use popleft() to delete an element at the left end.\n",
        "de.popleft()  # Deletes 1 from the start of the deque.\n",
        "\n",
        "# Print modified Deque.\n",
        "print(\"The Deque after deleting from the left is:\", de)"
      ],
      "metadata": {
        "colab": {
          "base_uri": "https://localhost:8080/"
        },
        "id": "la534Q90vsSv",
        "outputId": "40cd331d-11f7-45fb-b39e-61e6e0057e36"
      },
      "execution_count": null,
      "outputs": [
        {
          "output_type": "stream",
          "name": "stdout",
          "text": [
            "The Deque after deleting from the right is: deque([1, 2, 3, 4]) \n",
            "\n",
            "The Deque after deleting from the left is: deque([2, 3, 4])\n"
          ]
        }
      ]
    }
  ]
}