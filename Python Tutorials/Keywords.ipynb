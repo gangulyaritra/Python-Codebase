{
  "nbformat": 4,
  "nbformat_minor": 0,
  "metadata": {
    "colab": {
      "name": "Keywords.ipynb",
      "provenance": []
    },
    "kernelspec": {
      "name": "python3",
      "display_name": "Python 3"
    },
    "language_info": {
      "name": "python"
    }
  },
  "cells": [
    {
      "cell_type": "markdown",
      "source": [
        "# **Python \"$in$\" Keyword**\n",
        "\n",
        "In programming, a keyword is a \"**reserved word**\" that conveys special meaning to the interpreter. It may be a command or a parameter. Keywords cannot be used as a variable name, function name, or any other identifier in the program snippet. Python language also reserves some of the keywords that convey special meaning. In Python, keywords are case-sensitive.\n",
        "\n",
        "### **Reference:**\n",
        ">   [**Python Keywords and Identifiers**](https://www.programiz.com/python-programming/keywords-identifier)\n",
        "\n",
        ">   [**List of Keywords in Python**](https://www.programiz.com/python-programming/keyword-list)\n",
        "\n",
        "The \"$in$\" keyword has two purposes:\n",
        "\n",
        "*   To check if a value is present in a list, tuple, range, string, etc.\n",
        "*   To iterate through a sequence in a $for()$ loop.\n",
        "\n",
        "**Syntax:**\n",
        "```\n",
        "# Using if statement.\n",
        "if element in array:\n",
        "    statement(s)\n",
        "```\n",
        "\n",
        "```\n",
        "# Using for() loop statement.\n",
        "for element in array:\n",
        "    statement(s)\n",
        "```"
      ],
      "metadata": {
        "id": "htNXZCvdNa1C"
      }
    },
    {
      "cell_type": "code",
      "source": [
        "\"\"\" Python Code to demonstrate the \"in\" keyword. \"\"\"\n",
        "\n",
        "# Create a list.\n",
        "animals = [\"dog\", \"lion\", \"cat\"]\n",
        "\n",
        "# Check if the lion in the list or not.\n",
        "if \"lion\" in animals:\n",
        "    print(\"Yes\")"
      ],
      "metadata": {
        "colab": {
          "base_uri": "https://localhost:8080/"
        },
        "id": "3ZbsMEi4PqoS",
        "outputId": "22d1dbb0-1085-4121-fbf5-c281d27c6d01"
      },
      "execution_count": null,
      "outputs": [
        {
          "output_type": "stream",
          "name": "stdout",
          "text": [
            "Yes\n"
          ]
        }
      ]
    },
    {
      "cell_type": "code",
      "source": [
        "\"\"\" Python Code to demonstrate the \"in\" keyword. \"\"\"\n",
        "\n",
        "# Create a string.\n",
        "string = \"GeeksforGeeks\"\n",
        "\n",
        "# Iterate through the string.\n",
        "for i in string:\n",
        "    # If 'f' occurs in the string, break the loop.\n",
        "    if i == \"f\":\n",
        "        break\n",
        "    print(i)"
      ],
      "metadata": {
        "colab": {
          "base_uri": "https://localhost:8080/"
        },
        "id": "Zrh0-U04hAGC",
        "outputId": "bae73b20-368f-4717-bc53-22e0ba72256e"
      },
      "execution_count": null,
      "outputs": [
        {
          "output_type": "stream",
          "name": "stdout",
          "text": [
            "G\n",
            "e\n",
            "e\n",
            "k\n",
            "s\n"
          ]
        }
      ]
    },
    {
      "cell_type": "markdown",
      "source": [
        "# **Python $Assert$ Statement.**\n",
        "\n",
        "### **What is Assertion?**\n",
        "\n",
        "In Python, Assertions are the debugging tools that help in the smooth flow of code. Assertions are assumptions that a programmer knows always wants to be true and hence puts them in code so that failure of them doesn't allow the code to execute further. In simpler terms, assertion is the boolean expression that checks if the statement is True or False. Python provides the assert statement to check if a given logical expression is True or False. Program execution proceeds only if the expression is True and raises the `AssertionError` when the statement is False (i.e., it stops the execution of the program).\n",
        "\n",
        "### **Flowchart of Assertion.**\n",
        "\n",
        "![image.png](https://cdn.programiz.com/sites/tutorial2program/files/Python%20Assert%20Statement.jpg)\n",
        "\n",
        "### **Assert keywords in Python.**\n",
        "\n",
        "In Python, the assert keyword helps in achieving this task. This statement takes input a boolean condition, which when returns True doesn’t return anything. But if this statement is False, then it raises an `AssertionError` along with the optional message provided.\n",
        "\n",
        "Python has a built-in `assert` statement to use assertion conditions in the program. The `assert` statement has a condition or expression which is supposed to be always True. If the condition is False, assert halts the program and gives an `AssertionError`.\n",
        "\n",
        "**The Syntax for using Assert in Python:**\n",
        "\n",
        "*   `assert <condition>`\n",
        "*   `assert <condition>, <error message>` **(Optional)**\n",
        "\n",
        "**In Python, we can use `assert` statements in two ways.**\n",
        "\n",
        "1.  The `assert` statement has a condition. If that condition is not satisfied, the program will stop and give the `AssertionError`.\n",
        "\n",
        "2.  The `assert` statement can also have a condition and an optional error message. If the condition is not satisfied, assert stops the program and gives `AssertionError` along with the error message.\n",
        "\n",
        "**Parameters.**\n",
        "\n",
        "1.  **condition:** The boolean condition returns True or False.\n",
        "2.  **error message:** The optional argument gets printed in the console in the case of `AssertionError`.\n",
        "3.  **Returns:** Returns `AssertionError`, in case the condition evaluates to False along with the error message provided.\n",
        "\n",
        "**Key Points to Remember.**\n",
        "\n",
        "*   Assertions are the condition or boolean expressions which are always supposed to be True in the code.\n",
        "*   The `assert` statement takes an expression and optional message.\n",
        "*   The `assert` statement is used as debugging tool as it halts the program at the point where an error occurs.\n",
        "\n",
        "### **Reference:**\n",
        "\n",
        ">   [**Assert Keyword - GeeksforGeeks**](https://www.geeksforgeeks.org/python-assert-keyword/)\n",
        "\n",
        ">   [**Assert Statement - Programiz**](https://www.programiz.com/python-programming/assert-statement)"
      ],
      "metadata": {
        "id": "W2D4K2EgnIqD"
      }
    },
    {
      "cell_type": "code",
      "source": [
        "# Example 1: Using `assert` without Error Message.\n",
        "\n",
        "\"\"\"\n",
        "When we run the below program, the output will be `AssertionError`.\n",
        "\n",
        "We got an error as we passed an empty list \"mark\" to the assert statement, the condition \n",
        "became false, and the assert statement stops the program and give the `AssertionError`.\n",
        "\"\"\"\n",
        "\n",
        "\n",
        "def avg(marks):\n",
        "    assert len(marks) != 0\n",
        "    return sum(marks) / len(marks)\n",
        "\n",
        "mark = []\n",
        "print(\"Average of Mark:\", avg(mark))"
      ],
      "metadata": {
        "colab": {
          "base_uri": "https://localhost:8080/",
          "height": 323
        },
        "id": "ZBPjlGbRuK7p",
        "outputId": "aa9c5632-72ce-4bcd-9701-c35545222302"
      },
      "execution_count": null,
      "outputs": [
        {
          "output_type": "error",
          "ename": "AssertionError",
          "evalue": "ignored",
          "traceback": [
            "\u001b[0;31m---------------------------------------------------------------------------\u001b[0m",
            "\u001b[0;31mAssertionError\u001b[0m                            Traceback (most recent call last)",
            "\u001b[0;32m<ipython-input-3-8d53ff15e8e0>\u001b[0m in \u001b[0;36m<module>\u001b[0;34m()\u001b[0m\n\u001b[1;32m     14\u001b[0m \u001b[0;34m\u001b[0m\u001b[0m\n\u001b[1;32m     15\u001b[0m \u001b[0mmark\u001b[0m \u001b[0;34m=\u001b[0m \u001b[0;34m[\u001b[0m\u001b[0;34m]\u001b[0m\u001b[0;34m\u001b[0m\u001b[0;34m\u001b[0m\u001b[0m\n\u001b[0;32m---> 16\u001b[0;31m \u001b[0mprint\u001b[0m\u001b[0;34m(\u001b[0m\u001b[0;34m\"Average of Mark:\"\u001b[0m\u001b[0;34m,\u001b[0m \u001b[0mavg\u001b[0m\u001b[0;34m(\u001b[0m\u001b[0mmark\u001b[0m\u001b[0;34m)\u001b[0m\u001b[0;34m)\u001b[0m\u001b[0;34m\u001b[0m\u001b[0;34m\u001b[0m\u001b[0m\n\u001b[0m",
            "\u001b[0;32m<ipython-input-3-8d53ff15e8e0>\u001b[0m in \u001b[0;36mavg\u001b[0;34m(marks)\u001b[0m\n\u001b[1;32m     10\u001b[0m \u001b[0;34m\u001b[0m\u001b[0m\n\u001b[1;32m     11\u001b[0m \u001b[0;32mdef\u001b[0m \u001b[0mavg\u001b[0m\u001b[0;34m(\u001b[0m\u001b[0mmarks\u001b[0m\u001b[0;34m)\u001b[0m\u001b[0;34m:\u001b[0m\u001b[0;34m\u001b[0m\u001b[0;34m\u001b[0m\u001b[0m\n\u001b[0;32m---> 12\u001b[0;31m     \u001b[0;32massert\u001b[0m \u001b[0mlen\u001b[0m\u001b[0;34m(\u001b[0m\u001b[0mmarks\u001b[0m\u001b[0;34m)\u001b[0m \u001b[0;34m!=\u001b[0m \u001b[0;36m0\u001b[0m\u001b[0;34m\u001b[0m\u001b[0;34m\u001b[0m\u001b[0m\n\u001b[0m\u001b[1;32m     13\u001b[0m     \u001b[0;32mreturn\u001b[0m \u001b[0msum\u001b[0m\u001b[0;34m(\u001b[0m\u001b[0mmarks\u001b[0m\u001b[0;34m)\u001b[0m \u001b[0;34m/\u001b[0m \u001b[0mlen\u001b[0m\u001b[0;34m(\u001b[0m\u001b[0mmarks\u001b[0m\u001b[0;34m)\u001b[0m\u001b[0;34m\u001b[0m\u001b[0;34m\u001b[0m\u001b[0m\n\u001b[1;32m     14\u001b[0m \u001b[0;34m\u001b[0m\u001b[0m\n",
            "\u001b[0;31mAssertionError\u001b[0m: "
          ]
        }
      ]
    },
    {
      "cell_type": "code",
      "source": [
        "# Example 2: Using `assert` with an Error Message.\n",
        "\n",
        "\n",
        "def avg(marks):\n",
        "    assert len(marks) != 0, \"The list is Empty.\"\n",
        "    return sum(marks) / len(marks)\n",
        "\n",
        "\n",
        "mark2 = [55, 88, 78, 90, 79]\n",
        "print(\"Average of Mark-2:\", avg(mark2))\n",
        "\n",
        "mark1 = []\n",
        "print(\"Average of Mark-1:\", avg(mark1))"
      ],
      "metadata": {
        "colab": {
          "base_uri": "https://localhost:8080/",
          "height": 340
        },
        "id": "UA-1-xAexQmY",
        "outputId": "6f4a9a0d-aed7-485f-be24-20693d13db50"
      },
      "execution_count": null,
      "outputs": [
        {
          "output_type": "stream",
          "name": "stdout",
          "text": [
            "Average of Mark-2: 78.0\n"
          ]
        },
        {
          "output_type": "error",
          "ename": "AssertionError",
          "evalue": "ignored",
          "traceback": [
            "\u001b[0;31m---------------------------------------------------------------------------\u001b[0m",
            "\u001b[0;31mAssertionError\u001b[0m                            Traceback (most recent call last)",
            "\u001b[0;32m<ipython-input-4-b21af5a58de6>\u001b[0m in \u001b[0;36m<module>\u001b[0;34m()\u001b[0m\n\u001b[1;32m     11\u001b[0m \u001b[0;34m\u001b[0m\u001b[0m\n\u001b[1;32m     12\u001b[0m \u001b[0mmark1\u001b[0m \u001b[0;34m=\u001b[0m \u001b[0;34m[\u001b[0m\u001b[0;34m]\u001b[0m\u001b[0;34m\u001b[0m\u001b[0;34m\u001b[0m\u001b[0m\n\u001b[0;32m---> 13\u001b[0;31m \u001b[0mprint\u001b[0m\u001b[0;34m(\u001b[0m\u001b[0;34m\"Average of Mark-1:\"\u001b[0m\u001b[0;34m,\u001b[0m \u001b[0mavg\u001b[0m\u001b[0;34m(\u001b[0m\u001b[0mmark1\u001b[0m\u001b[0;34m)\u001b[0m\u001b[0;34m)\u001b[0m\u001b[0;34m\u001b[0m\u001b[0;34m\u001b[0m\u001b[0m\n\u001b[0m",
            "\u001b[0;32m<ipython-input-4-b21af5a58de6>\u001b[0m in \u001b[0;36mavg\u001b[0;34m(marks)\u001b[0m\n\u001b[1;32m      3\u001b[0m \u001b[0;34m\u001b[0m\u001b[0m\n\u001b[1;32m      4\u001b[0m \u001b[0;32mdef\u001b[0m \u001b[0mavg\u001b[0m\u001b[0;34m(\u001b[0m\u001b[0mmarks\u001b[0m\u001b[0;34m)\u001b[0m\u001b[0;34m:\u001b[0m\u001b[0;34m\u001b[0m\u001b[0;34m\u001b[0m\u001b[0m\n\u001b[0;32m----> 5\u001b[0;31m     \u001b[0;32massert\u001b[0m \u001b[0mlen\u001b[0m\u001b[0;34m(\u001b[0m\u001b[0mmarks\u001b[0m\u001b[0;34m)\u001b[0m \u001b[0;34m!=\u001b[0m \u001b[0;36m0\u001b[0m\u001b[0;34m,\u001b[0m \u001b[0;34m\"The list is Empty.\"\u001b[0m\u001b[0;34m\u001b[0m\u001b[0;34m\u001b[0m\u001b[0m\n\u001b[0m\u001b[1;32m      6\u001b[0m     \u001b[0;32mreturn\u001b[0m \u001b[0msum\u001b[0m\u001b[0;34m(\u001b[0m\u001b[0mmarks\u001b[0m\u001b[0;34m)\u001b[0m \u001b[0;34m/\u001b[0m \u001b[0mlen\u001b[0m\u001b[0;34m(\u001b[0m\u001b[0mmarks\u001b[0m\u001b[0;34m)\u001b[0m\u001b[0;34m\u001b[0m\u001b[0;34m\u001b[0m\u001b[0m\n\u001b[1;32m      7\u001b[0m \u001b[0;34m\u001b[0m\u001b[0m\n",
            "\u001b[0;31mAssertionError\u001b[0m: The list is Empty."
          ]
        }
      ]
    },
    {
      "cell_type": "code",
      "source": [
        "# Example 3.\n",
        "\n",
        "num = 10\n",
        "assert num > 10"
      ],
      "metadata": {
        "colab": {
          "base_uri": "https://localhost:8080/",
          "height": 201
        },
        "id": "N1LAFmhKy8CG",
        "outputId": "9e1a2d5b-25d9-4bc4-e3af-addbda5a368b"
      },
      "execution_count": null,
      "outputs": [
        {
          "output_type": "error",
          "ename": "AssertionError",
          "evalue": "ignored",
          "traceback": [
            "\u001b[0;31m---------------------------------------------------------------------------\u001b[0m",
            "\u001b[0;31mAssertionError\u001b[0m                            Traceback (most recent call last)",
            "\u001b[0;32m<ipython-input-5-de5666ede662>\u001b[0m in \u001b[0;36m<module>\u001b[0;34m()\u001b[0m\n\u001b[1;32m      2\u001b[0m \u001b[0;34m\u001b[0m\u001b[0m\n\u001b[1;32m      3\u001b[0m \u001b[0mnum\u001b[0m \u001b[0;34m=\u001b[0m \u001b[0;36m10\u001b[0m\u001b[0;34m\u001b[0m\u001b[0;34m\u001b[0m\u001b[0m\n\u001b[0;32m----> 4\u001b[0;31m \u001b[0;32massert\u001b[0m \u001b[0mnum\u001b[0m \u001b[0;34m>\u001b[0m \u001b[0;36m10\u001b[0m\u001b[0;34m\u001b[0m\u001b[0;34m\u001b[0m\u001b[0m\n\u001b[0m",
            "\u001b[0;31mAssertionError\u001b[0m: "
          ]
        }
      ]
    },
    {
      "cell_type": "code",
      "source": [
        "try:\n",
        "    num = int(input(\"Enter an Even Number: \"))\n",
        "    assert num % 2 == 0\n",
        "    print(\"The number is Even.\")\n",
        "except AssertionError:\n",
        "    print(\"Please enter an Even Number.\")"
      ],
      "metadata": {
        "colab": {
          "base_uri": "https://localhost:8080/"
        },
        "id": "QXwpwPSGzCVN",
        "outputId": "338e8763-6b4a-4bf6-fa00-16dd4bc9f395"
      },
      "execution_count": null,
      "outputs": [
        {
          "output_type": "stream",
          "name": "stdout",
          "text": [
            "Enter an Even Number: 7\n",
            "Please enter an Even Number.\n"
          ]
        }
      ]
    },
    {
      "cell_type": "markdown",
      "source": [
        "# **Python $Yield$ Keyword**\n",
        "\n",
        "$Yield$ is a keyword in Python used to return from a function without destroying the states of its local variable, and when the function gets called, the execution starts from the last yield statement. Any function that contains a `yield` keyword is termed as a generator. Hence, yield is what makes a generator. The `yield` keyword in Python is less known but has a greater utility than one can think of.\n",
        "\n",
        "**`yield` is used inside a function as a `return` statement. But `yield` returns a generator.**\n",
        "\n",
        "The generator is an iterator that generates one item at a time. A large list of values will take up a lot of memory. Generators are useful in this situation as it generates only one value at a time instead of storing all the values in memory.\n",
        "\n",
        "#### **Advantages of $Yield$:**\n",
        "\n",
        "*   Since it stores the local variable states, hence overhead of memory allocation is controlled.\n",
        "*   Since the old state is retained, the flow doesn't start from the beginning and hence saves time.\n",
        "\n",
        "#### **Disadvantages of $Yield$:**\n",
        "\n",
        "*   Sometimes, the use of yield becomes erroneous if the calling of function is not handled properly.\n",
        "*   Time and memory optimization has a cost complexity of code and hence sometimes hard to understand the logic behind it.\n",
        "\n",
        "### **Reference:**\n",
        "\n",
        ">   [**Python Yield Keyword**](https://www.geeksforgeeks.org/python-yield-keyword/?ref=rp)\n",
        "\n",
        ">   [**When to use Yield instead of Return in Python?**](https://www.geeksforgeeks.org/use-yield-keyword-instead-return-keyword-python/?ref=rp)\n",
        "\n",
        ">   [**Difference between Yield and Return in Python**](https://www.geeksforgeeks.org/difference-between-yield-and-return-in-python/?ref=rp)"
      ],
      "metadata": {
        "id": "eHfIVzw4jN_e"
      }
    },
    {
      "cell_type": "code",
      "source": [
        "\"\"\" Python code to demonstrate the \"yield\" keyword. \"\"\"\n",
        "\n",
        "# Generator to print even numbers.\n",
        "def print_even(test_list):\n",
        "    for i in test_list:\n",
        "        if i % 2 == 0:\n",
        "            yield i\n",
        "\n",
        "\n",
        "# Initialize list.\n",
        "test_list = [1, 4, 5, 6, 7]\n",
        "\n",
        "# Print Initial List.\n",
        "print(\"The original list is: \" + str(test_list))\n",
        "\n",
        "# Print Even Numbers.\n",
        "print(\"The even numbers in list are: \", end=\"\")\n",
        "for j in print_even(test_list):\n",
        "    print(j, end=\" \")"
      ],
      "metadata": {
        "colab": {
          "base_uri": "https://localhost:8080/"
        },
        "id": "gStBMoJrjNO8",
        "outputId": "b53b28d9-eaf6-4649-f7bf-0ec8a1b6858d"
      },
      "execution_count": null,
      "outputs": [
        {
          "output_type": "stream",
          "name": "stdout",
          "text": [
            "The original list is: [1, 4, 5, 6, 7]\n",
            "The even numbers in list are: 4 6 "
          ]
        }
      ]
    },
    {
      "cell_type": "code",
      "source": [
        "\"\"\" Python code to generate squares from 1 to 100 using the \"yield\" keyword. \"\"\"\n",
        "\n",
        "# An infinite generator function that prints the next square number. It starts with 1.\n",
        "def nextSquare():\n",
        "    i = 1\n",
        "    # An Infinite loop to generate squares.\n",
        "    while True:\n",
        "        yield i * i\n",
        "        i += 1\n",
        "\n",
        "\n",
        "# Driver Code.\n",
        "if __name__ == \"__main__\":\n",
        "    for num in nextSquare():\n",
        "        if num > 100:\n",
        "            break\n",
        "        print(num)"
      ],
      "metadata": {
        "colab": {
          "base_uri": "https://localhost:8080/"
        },
        "id": "93TXzp3hr6s4",
        "outputId": "8102bbeb-38e0-4b76-c841-321169d3de1c"
      },
      "execution_count": null,
      "outputs": [
        {
          "output_type": "stream",
          "name": "stdout",
          "text": [
            "1\n",
            "4\n",
            "9\n",
            "16\n",
            "25\n",
            "36\n",
            "49\n",
            "64\n",
            "81\n",
            "100\n"
          ]
        }
      ]
    },
    {
      "cell_type": "markdown",
      "source": [
        "# **Python Magic Methods (or Dunder)**\n",
        "\n",
        "Dunder or Magic methods in Python are the methods having two prefix and suffix underscores in the method name. Dunder here means \"**Double Under (Underscores)**\". These methods are commonly used for operator overloading. Few examples for magic methods are: $__init__$ , $__add__$ , $__len__$ , $__repr__$ , etc.\n",
        "\n",
        "The $__init__$ method for initialization is invoked without any call when an instance of a class is created, like constructors in other programming languages such as C++, Java, C#, PHP, etc. These methods are the reason we can add two strings with the \"$+$\" operator without any explicit typecasting."
      ],
      "metadata": {
        "id": "DJxCMWNOexaP"
      }
    },
    {
      "cell_type": "code",
      "execution_count": null,
      "metadata": {
        "id": "UkMF3DKWeusY",
        "colab": {
          "base_uri": "https://localhost:8080/"
        },
        "outputId": "1facf983-0b2c-4843-f9e4-e3ea6cfbf5f6"
      },
      "outputs": [
        {
          "output_type": "stream",
          "name": "stdout",
          "text": [
            "<__main__.String object at 0x7fd1364ad650>\n"
          ]
        }
      ],
      "source": [
        "class String:\n",
        "    # Magic Method to initiate object.\n",
        "    def __init__(self, string):\n",
        "        self.string = string\n",
        "\n",
        "\n",
        "# Driver Code.\n",
        "if __name__ == \"__main__\":\n",
        "    # Object Creation.\n",
        "    st = String(\"Hello\")\n",
        "    # Prints the memory address of the string object.\n",
        "    print(st)"
      ]
    },
    {
      "cell_type": "code",
      "source": [
        "\"\"\"\n",
        "The above snippet of code prints only the memory address of the string object.\n",
        "Let's add a __repr__ method to represent our object.\n",
        "\"\"\"\n",
        "\n",
        "class String:\n",
        "    # Magic Method to initiate object.\n",
        "    def __init__(self, string):\n",
        "        self.string = string\n",
        "\n",
        "    # Print the string object.\n",
        "    def __repr__(self):\n",
        "        return \"Object: {}\".format(self.string)\n",
        "\n",
        "\n",
        "# Driver Code.\n",
        "if __name__ == \"__main__\":\n",
        "    # Object Creation.\n",
        "    st = String(\"Hello\")\n",
        "    # Print object location.\n",
        "    print(st)"
      ],
      "metadata": {
        "id": "7pyCHA9vhOGP",
        "colab": {
          "base_uri": "https://localhost:8080/"
        },
        "outputId": "a901deb6-8057-4461-91e1-667e3c1448a5"
      },
      "execution_count": null,
      "outputs": [
        {
          "output_type": "stream",
          "name": "stdout",
          "text": [
            "Object: Hello\n"
          ]
        }
      ]
    },
    {
      "cell_type": "code",
      "source": [
        "class String:\n",
        "    # Magic Method to initiate object.\n",
        "    def __init__(self, string):\n",
        "        self.string = string\n",
        "\n",
        "    # Print the string object.\n",
        "    def __repr__(self):\n",
        "        return \"Object: {}\".format(self.string)\n",
        "\n",
        "    # Using the __add__ method to String class.\n",
        "    def __add__(self, other):\n",
        "        return self.string + other\n",
        "\n",
        "\n",
        "# Driver Code\n",
        "if __name__ == \"__main__\":\n",
        "    # Object Creation.\n",
        "    st = String(\"Hello\")\n",
        "    # Concatenate String Object and a String.\n",
        "    print(st + \" Aritra\")"
      ],
      "metadata": {
        "id": "LrNYZqHKkeYH",
        "colab": {
          "base_uri": "https://localhost:8080/"
        },
        "outputId": "a820de81-9d50-4c72-a1f0-61061bb28cd7"
      },
      "execution_count": null,
      "outputs": [
        {
          "output_type": "stream",
          "name": "stdout",
          "text": [
            "Hello Aritra\n"
          ]
        }
      ]
    },
    {
      "cell_type": "markdown",
      "source": [
        "# **Python Logging**\n",
        "\n",
        "Logging is a means of tracking events that happen when some software runs. Logging is necessary for software developing, debugging, and running. If we don't have any logging records and our program crashes, then there are few chances to detect the cause of the problem. And even if we detect the cause of the error, it will consume a lot of time. Therefore with logging, we can leave a trail of breadcrumbs so that if some error occurs, we can determine the cause of the problem.\n",
        "\n",
        "#### **Why printing is not a good option?**\n",
        "\n",
        "Some developers use the concept of printing the statements to validate if the statements got executed correctly or some error has occurred. But printing is not a good idea. It may solve the issues for simple scripts, but for complex scripts, the printing approach will fail. Python has a built-in module logging which allows writing status messages to a file or any other output streams. The file can contain the information on which part of the code is executed and what problems have been arisen.\n",
        "\n",
        "### **Levels of Log Message**\n",
        "There are five built-in levels of the log message.\n",
        "\n",
        "*   **Debug:** It gives detailed information, typically of interest only when diagnosing problems.\n",
        "*   **Info:** It confirms that things are working as expected.\n",
        "*   **Warning:** It indicates that something unexpected happened or is indicative of some problem shortly.\n",
        "*   **Error:** It indicates that due to a significant problem, the software is unable to perform some functions.\n",
        "*   **Critical:** It indicates a serious error, indicating that the program itself may be unable to continue running.\n",
        "\n",
        "If required, developers have the option to create more levels, but these are sufficient enough to handle every possible situation. Each built-in level has been assigned to its numeric value.\n",
        "\n",
        "![image.png](https://media.geeksforgeeks.org/wp-content/uploads/Python-log-levels.png)\n",
        "\n",
        "The logging module is packed with several features. It has several constants, classes, and methods. The items with all caps are constant, the capitalize items are classes, and the items which start with lowercase letters are methods.\n",
        "\n",
        "**There are several logger objects offered by the module itself.**\n",
        "\n",
        "*   **$Logger.info(msg)$:** It will log a message with level **INFO** on this logger.\n",
        "*   **$Logger.warning(msg)$:** It will log a message with a level **WARNING** on this logger.\n",
        "*   **$Logger.error(msg)$:** It will log a message with level **ERROR** on this logger.\n",
        "*   **$Logger.critical(msg)$:** It will log a message with level **CRITICAL** on this logger.\n",
        "*   **$Logger.log(lvl, msg)$:** It will log a message with integer level **lvl** on this logger.\n",
        "*   **$Logger.exception(msg)$:** It will log a message with level **ERROR** on this logger.\n",
        "*   **$Logger.setLevel(lvl)$:** It sets the threshold of this logger to **lvl**. That is, all the messages below this level will be ignored.\n",
        "*   **$Logger.addFilter(filt)$:** It adds a specific filter **filt** into this logger.\n",
        "*   **$Logger.removeFilter(filt)$:** It removes a specific filter **filt** into this logger.\n",
        "*   **$Logger.filter(record)$:** It applies the logger's filter to the record provided and returns True if the record is to be processed. Else, it will return False.\n",
        "*   **$Logger.addHandler(hdlr)$:** It adds a specific handler **hdlr** to this logger.\n",
        "*   **$Logger.removeHandler(hdlr)$:** It removes a specific handler **hdlr** into this logger.\n",
        "*   **$Logger.hasHandlers()$:** It checks if the logger has any handler configured or not.\n",
        "\n",
        "**The basics of using the logging module to record the events in a file is very simple. For that, import the module from the library.**\n",
        "\n",
        "1.   Create and configure the logger. It can have several parameters. But importantly, pass the name of the file to record the events.\n",
        "2.   The format of the logger can also be set. By default, the file works in append mode, but we can change that to write mode if required.\n",
        "3.   Also, the level of the logger can be set, which acts as the threshold for tracking based on the numeric values assigned to each level. Several attributes can be passed as parameters. Also, the level of the logger can be set, which acts as the threshold for tracking based on the numeric values assigned to each level. Several attributes can be passed as parameters.\n",
        "4.   The list of all those parameters are given in Python Library. The user can choose the required attribute according to the requirement.\n",
        "5.   After that, create an object and use the various methods, as shown in the example.\n",
        "\n",
        "> [**Logging in Python - GeeksforGeeks**](https://www.geeksforgeeks.org/logging-in-python/)"
      ],
      "metadata": {
        "id": "q7pU1ppBu0P6"
      }
    },
    {
      "cell_type": "code",
      "source": [
        "import logging\n",
        "\n",
        "# Create and configure the logger.\n",
        "logging.basicConfig(\n",
        "    filename=\"newfile.log\", format=\"%(asctime)s %(message)s\", filemode=\"w\"\n",
        ")\n",
        "\n",
        "# Create an Object.\n",
        "logger = logging.getLogger()\n",
        "\n",
        "# Set the threshold of the logger to DEBUG.\n",
        "logger.setLevel(logging.DEBUG)\n",
        "\n",
        "# Test Messages.\n",
        "logger.debug(\"Harmless debug Message\")\n",
        "logger.info(\"Just an information\")\n",
        "logger.warning(\"Its a Warning\")\n",
        "logger.error(\"Did you try to divide by zero\")\n",
        "logger.critical(\"Internet is down\")"
      ],
      "metadata": {
        "id": "Dwqpxptq5x92"
      },
      "execution_count": null,
      "outputs": []
    }
  ]
}