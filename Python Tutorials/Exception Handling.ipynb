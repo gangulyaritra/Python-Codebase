{
  "nbformat": 4,
  "nbformat_minor": 0,
  "metadata": {
    "colab": {
      "name": "Exception Handling.ipynb",
      "provenance": []
    },
    "kernelspec": {
      "name": "python3",
      "display_name": "Python 3"
    },
    "language_info": {
      "name": "python"
    }
  },
  "cells": [
    {
      "cell_type": "markdown",
      "source": [
        "# **Python Exceptions**\n",
        "\n",
        "We can make various mistakes while writing a program that leads to errors when we try to run it. A python program terminates as soon as it encounters an unhandled error. There are different types of errors and exceptions that are built-in to Python. They are raised whenever the Python interpreter encounters errors. These errors can be broadly classified into two classes:\n",
        "\n",
        "1.   Syntax Errors\n",
        "2.   Logical Errors (Exceptions)\n",
        "\n",
        "Exceptions are raised when the program is syntactically correct, but the code resulted in an error. This error does not stop the execution of the program, but it changes the normal flow of the program.\n",
        "\n",
        "**References:**\n",
        "\n",
        "> [**Exception Handling - Programiz**](https://www.programiz.com/python-programming/exception-handling)\n",
        "\n",
        "> [**Exception Handling - GeeksforGeeks**](https://www.geeksforgeeks.org/python-exception-handling/)"
      ],
      "metadata": {
        "id": "6qYdjO6GjgKx"
      }
    },
    {
      "cell_type": "markdown",
      "source": [
        "### **Python Syntax Errors**\n",
        "\n",
        "Error caused by not following the proper structure (syntax) of the language is called **Syntax Error** or **Parsing Error**. As shown in the example, an arrow indicates where the parser ran into the syntax error. We can notice here that a colon \"$:$\" is missing in the $if$ statement."
      ],
      "metadata": {
        "id": "Kjwdde4mm65-"
      }
    },
    {
      "cell_type": "code",
      "execution_count": 1,
      "metadata": {
        "id": "3z7vW-K4jKqS",
        "colab": {
          "base_uri": "https://localhost:8080/",
          "height": 132
        },
        "outputId": "800fe134-43ed-463e-cb15-cb49b114c0e3"
      },
      "outputs": [
        {
          "output_type": "error",
          "ename": "SyntaxError",
          "evalue": "ignored",
          "traceback": [
            "\u001b[0;36m  File \u001b[0;32m\"<ipython-input-1-c969133aebf7>\"\u001b[0;36m, line \u001b[0;32m4\u001b[0m\n\u001b[0;31m    if(amount > 2999)\u001b[0m\n\u001b[0m                     ^\u001b[0m\n\u001b[0;31mSyntaxError\u001b[0m\u001b[0;31m:\u001b[0m invalid syntax\n"
          ]
        }
      ],
      "source": [
        "# Example of Python Syntax Errors.\n",
        "\n",
        "amount = 10000\n",
        "if(amount > 2999)\n",
        "    print(\"Transaction Successful.\")"
      ]
    },
    {
      "cell_type": "markdown",
      "source": [
        "### **Python Logical Errors (Exceptions)**\n",
        "\n",
        "Errors that occur at runtime (after passing the syntax test) are called exceptions or logical errors. For instance, logical errors occur when we try to open a file (for reading) that does not exist ($FileNotFoundError$), try to divide a number by zero ($ZeroDivisionError$), or try to import a module that does not exist ($ImportError$).\n",
        "\n",
        "Whenever these types of runtime errors occur, Python creates an exception object. If not handled properly, it prints a traceback to that error along with some details about why that error occurred."
      ],
      "metadata": {
        "id": "fIaKhKaHniFF"
      }
    },
    {
      "cell_type": "code",
      "source": [
        "# Example of Python Logical Errors.\n",
        "\n",
        "marks = 100\n",
        "avg = marks / 0\n",
        "print(avg)"
      ],
      "metadata": {
        "id": "Y18uP3dVqGA3",
        "colab": {
          "base_uri": "https://localhost:8080/",
          "height": 219
        },
        "outputId": "11237d73-fd8e-47ef-cee8-8698fd2fd474"
      },
      "execution_count": 2,
      "outputs": [
        {
          "output_type": "error",
          "ename": "ZeroDivisionError",
          "evalue": "ignored",
          "traceback": [
            "\u001b[0;31m---------------------------------------------------------------------------\u001b[0m",
            "\u001b[0;31mZeroDivisionError\u001b[0m                         Traceback (most recent call last)",
            "\u001b[0;32m<ipython-input-2-70ce60c25411>\u001b[0m in \u001b[0;36m<module>\u001b[0;34m()\u001b[0m\n\u001b[1;32m      2\u001b[0m \u001b[0;34m\u001b[0m\u001b[0m\n\u001b[1;32m      3\u001b[0m \u001b[0mmarks\u001b[0m \u001b[0;34m=\u001b[0m \u001b[0;36m100\u001b[0m\u001b[0;34m\u001b[0m\u001b[0;34m\u001b[0m\u001b[0m\n\u001b[0;32m----> 4\u001b[0;31m \u001b[0mavg\u001b[0m \u001b[0;34m=\u001b[0m \u001b[0mmarks\u001b[0m \u001b[0;34m/\u001b[0m \u001b[0;36m0\u001b[0m\u001b[0;34m\u001b[0m\u001b[0;34m\u001b[0m\u001b[0m\n\u001b[0m\u001b[1;32m      5\u001b[0m \u001b[0mprint\u001b[0m\u001b[0;34m(\u001b[0m\u001b[0mavg\u001b[0m\u001b[0;34m)\u001b[0m\u001b[0;34m\u001b[0m\u001b[0;34m\u001b[0m\u001b[0m\n",
            "\u001b[0;31mZeroDivisionError\u001b[0m: division by zero"
          ]
        }
      ]
    },
    {
      "cell_type": "markdown",
      "source": [
        "### **Python Built-in Exceptions**\n",
        "\n",
        "Illegal operations can raise exceptions. There are plenty of built-in exceptions in Python that are raised when corresponding errors occur. We can view all the built-in exceptions using the built-in $local()$ function as follows:\n",
        "\n",
        "![Exception.jpg](https://slidetodoc.com/presentation_image_h/136b9a6bb803627ae91a91f5f8669cf9/image-5.jpg)"
      ],
      "metadata": {
        "id": "uM6MoTedsDB4"
      }
    },
    {
      "cell_type": "code",
      "source": [
        "print(dir(locals()[\"__builtins__\"]))"
      ],
      "metadata": {
        "id": "JkZ3PZYarzDq",
        "colab": {
          "base_uri": "https://localhost:8080/"
        },
        "outputId": "4e7e4d2a-ecb7-4e1f-c9a1-e01dea8aec0d"
      },
      "execution_count": 3,
      "outputs": [
        {
          "output_type": "stream",
          "name": "stdout",
          "text": [
            "['ArithmeticError', 'AssertionError', 'AttributeError', 'BaseException', 'BlockingIOError', 'BrokenPipeError', 'BufferError', 'BytesWarning', 'ChildProcessError', 'ConnectionAbortedError', 'ConnectionError', 'ConnectionRefusedError', 'ConnectionResetError', 'DeprecationWarning', 'EOFError', 'Ellipsis', 'EnvironmentError', 'Exception', 'False', 'FileExistsError', 'FileNotFoundError', 'FloatingPointError', 'FutureWarning', 'GeneratorExit', 'IOError', 'ImportError', 'ImportWarning', 'IndentationError', 'IndexError', 'InterruptedError', 'IsADirectoryError', 'KeyError', 'KeyboardInterrupt', 'LookupError', 'MemoryError', 'ModuleNotFoundError', 'NameError', 'None', 'NotADirectoryError', 'NotImplemented', 'NotImplementedError', 'OSError', 'OverflowError', 'PendingDeprecationWarning', 'PermissionError', 'ProcessLookupError', 'RecursionError', 'ReferenceError', 'ResourceWarning', 'RuntimeError', 'RuntimeWarning', 'StopAsyncIteration', 'StopIteration', 'SyntaxError', 'SyntaxWarning', 'SystemError', 'SystemExit', 'TabError', 'TimeoutError', 'True', 'TypeError', 'UnboundLocalError', 'UnicodeDecodeError', 'UnicodeEncodeError', 'UnicodeError', 'UnicodeTranslateError', 'UnicodeWarning', 'UserWarning', 'ValueError', 'Warning', 'ZeroDivisionError', '__IPYTHON__', '__build_class__', '__debug__', '__doc__', '__import__', '__loader__', '__name__', '__package__', '__spec__', 'abs', 'all', 'any', 'ascii', 'bin', 'bool', 'breakpoint', 'bytearray', 'bytes', 'callable', 'chr', 'classmethod', 'compile', 'complex', 'copyright', 'credits', 'delattr', 'dict', 'dir', 'display', 'divmod', 'dreload', 'enumerate', 'eval', 'exec', 'execfile', 'filter', 'float', 'format', 'frozenset', 'get_ipython', 'getattr', 'globals', 'hasattr', 'hash', 'help', 'hex', 'id', 'input', 'int', 'isinstance', 'issubclass', 'iter', 'len', 'license', 'list', 'locals', 'map', 'max', 'memoryview', 'min', 'next', 'object', 'oct', 'open', 'ord', 'pow', 'print', 'property', 'range', 'repr', 'reversed', 'round', 'runfile', 'set', 'setattr', 'slice', 'sorted', 'staticmethod', 'str', 'sum', 'super', 'tuple', 'type', 'vars', 'zip']\n"
          ]
        }
      ]
    },
    {
      "cell_type": "markdown",
      "source": [
        "# **Python Exception Handling**\n",
        "\n",
        "Python handles built-in and user-defined exceptions using **$try$**, **$except$**, and **$finally$** statements.\n",
        "\n",
        "Python has many built-in exceptions that get raised when our program encounters an error (i.e., something inside the program goes wrong). When these exceptions occur, the Python interpreter stops the current process and passes it to the calling process until it is handled. If not handled properly, the program will crash.\n",
        "\n",
        "For example, let us consider a program where we have a function $A$ that calls function $B$, which in turn calls the function $C$. If an exception occurs in function $C$ but is not handled in $C$, the exception passes to $B$ and then to $A$. If never handled, an error message is displayed, and our program comes to a sudden unexpected halt.\n",
        "\n",
        "### **Catching Exceptions in Python**\n",
        "\n",
        "Try and Except statements are used to catch and handle exceptions in Python. Statements that can raise exceptions are kept inside the $try$ clause, and the statements that handle the exception are written inside $except$ clause.\n",
        "\n",
        "**In Python, exceptions can be handled using a $try$ statement.**\n",
        "\n",
        "The critical operation which can raise an exception is placed inside the $try$ clause. The code that handles the exceptions is written in the $except$ clause. We can thus choose what operations to perform once we have caught the exception."
      ],
      "metadata": {
        "id": "JvXWoAWKwfDp"
      }
    },
    {
      "cell_type": "code",
      "source": [
        "# Python Program to handle simple Runtime Error.\n",
        "\n",
        "a = [1, 2, 3]\n",
        "try:\n",
        "    print(\"Second Element = %d\" % (a[1]))\n",
        "\n",
        "    # Throw an error since there are only 3 elements in the array.\n",
        "    print(\"Fourth element = %d\" % (a[3]))\n",
        "\n",
        "except:\n",
        "    print(\"An Error Occurred.\")"
      ],
      "metadata": {
        "id": "GOVaWlcfwlHk",
        "colab": {
          "base_uri": "https://localhost:8080/"
        },
        "outputId": "315c5eeb-08c8-4a91-f916-c6deecff1819"
      },
      "execution_count": 4,
      "outputs": [
        {
          "output_type": "stream",
          "name": "stdout",
          "text": [
            "Second Element = 2\n",
            "An Error Occurred.\n"
          ]
        }
      ]
    },
    {
      "cell_type": "markdown",
      "source": [
        "**How does $try$ statement works?**\n",
        "\n",
        "*   First, the $try$ clause gets executed, i.e., the code between the $try$ and the $except$ clause.\n",
        "*   If there is no exception, only the $try$ clause will run.\n",
        "*   If any exception occurs, the $try$ clause will get skipped, and the $except$ clause will run.\n",
        "*   If any exception occurs, but the $except$ clause within the code doesn’t handle it, it gets passed on to the outer $try$ statements. If the exception is left unhandled, then the execution stops.\n",
        "*   A $try$ statement can have more than one $except$ clause."
      ],
      "metadata": {
        "id": "vVfFMglJb1b7"
      }
    },
    {
      "cell_type": "code",
      "source": [
        "\"\"\"\n",
        "--------\n",
        "Syntax:\n",
        "--------\n",
        "try:\n",
        "    # Some Code.\n",
        "except:\n",
        "    # Executed if error in the try block.\n",
        "\"\"\"\n",
        "\n",
        "\n",
        "def divide(x, y):\n",
        "    try:\n",
        "        # Floor Division: Gives only Fractional Part as the answer.\n",
        "        result = x // y\n",
        "        print(\"Answer is:\", result)\n",
        "    except Exception as e:\n",
        "        print(\"The number shouldn't be divided by 0.\")\n",
        "\n",
        "\n",
        "if __name__ == \"__main__\":\n",
        "    # Comment any one function.\n",
        "    divide(3, 2)\n",
        "    # divide(3, 0)"
      ],
      "metadata": {
        "id": "Yhap-NZSb1tY",
        "colab": {
          "base_uri": "https://localhost:8080/"
        },
        "outputId": "d16be980-19f0-4b28-a596-cb6351ed47b7"
      },
      "execution_count": 5,
      "outputs": [
        {
          "output_type": "stream",
          "name": "stdout",
          "text": [
            "Answer is: 1\n"
          ]
        }
      ]
    },
    {
      "cell_type": "markdown",
      "source": [
        "### **Catching Specific Exceptions in Python**\n",
        "\n",
        "In the above example, we did not mention any specific exception in the $except$ clause. It is not a good programming practice as it will catch all exceptions and handle every case in the same way. We can specify which exceptions an $except$ clause should catch. A $try$ statement can have more than one $except$ clause to specify handlers for different exceptions. A $try$ clause can have any number of $except$ clauses to handle different exceptions. However, only one exception will get executed in case an exception occurs."
      ],
      "metadata": {
        "id": "lc_Y-kMKah5i"
      }
    },
    {
      "cell_type": "code",
      "source": [
        "\"\"\"\n",
        "--------\n",
        "Syntax:\n",
        "--------\n",
        "try:\n",
        "    # Statement(s);\n",
        "except IndexError:\n",
        "    # statement(s);\n",
        "except ValueError:\n",
        "    # statement(s);\n",
        "\"\"\"\n",
        "\n",
        "try:\n",
        "    # Do Something.\n",
        "    pass\n",
        "\n",
        "except ValueError:\n",
        "    # Handle ValueError Exception.\n",
        "    pass\n",
        "\n",
        "except (TypeError, ZeroDivisionError):\n",
        "    # Handle Multiple Exceptions TypeError and ZeroDivisionError.\n",
        "    pass\n",
        "\n",
        "except:\n",
        "    # Handle all other Exceptions.\n",
        "    pass"
      ],
      "metadata": {
        "id": "ODHozbXSamH4"
      },
      "execution_count": 6,
      "outputs": []
    },
    {
      "cell_type": "code",
      "source": [
        "# Catching specific exception in Python.\n",
        "\n",
        "def fun(a):\n",
        "    if a < 4:\n",
        "        # Throws ZeroDivisionError for a = 3.\n",
        "        b = a / (a - 3)\n",
        "\n",
        "    # Throws NameError if a >= 4.\n",
        "    print(\"Value of b = \", b)\n",
        "\n",
        "\n",
        "try:\n",
        "    # Comment any one function.\n",
        "    fun(3)\n",
        "    # fun(5)\n",
        "\n",
        "except ZeroDivisionError:\n",
        "    print(\"ZeroDivisionError Occurred and Handled.\")\n",
        "except NameError:\n",
        "    print(\"NameError Occurred and Handled.\")"
      ],
      "metadata": {
        "id": "ByS_kIJChlVs",
        "colab": {
          "base_uri": "https://localhost:8080/"
        },
        "outputId": "12e4ba58-c6ec-41bc-a9b3-dc2513e09727"
      },
      "execution_count": 7,
      "outputs": [
        {
          "output_type": "stream",
          "name": "stdout",
          "text": [
            "ZeroDivisionError Occurred and Handled.\n"
          ]
        }
      ]
    },
    {
      "cell_type": "markdown",
      "source": [
        "### **Try with Else Clause**\n",
        "\n",
        "In some situations, we might want to run a certain block of code if the code block inside the $try$ statement ran without any errors. In this case, we can use the optional $else$ keyword with the $try$ statement.\n",
        "\n",
        "In Python, we can also use the $else$ clause inside the **try-except** block, which must be present after all the $except$ clauses. The code enters the $else$ block, only if the $try$ clause does not raise an exception. Exceptions in the $else$ clause are not handled by the preceding $except$ clauses."
      ],
      "metadata": {
        "id": "US2Pbso_kgk5"
      }
    },
    {
      "cell_type": "code",
      "source": [
        "\"\"\"\n",
        "--------\n",
        "Syntax:\n",
        "--------\n",
        "try:\n",
        "    # Some Code.\n",
        "except:\n",
        "    # Executed if error in the try block.\n",
        "else:\n",
        "    # Execute if no exception.\n",
        "\"\"\"\n",
        "\n",
        "# Python Program to depict else clause with try-except.\n",
        "\n",
        "def AbyB(a, b):\n",
        "    try:\n",
        "        c = (a + b) / (a - b)\n",
        "    except ZeroDivisionError:\n",
        "        print(\"a/b result in 0.\")\n",
        "    else:\n",
        "        print(c)\n",
        "\n",
        "\n",
        "if __name__ == \"__main__\":\n",
        "    AbyB(2.0, 3.0)\n",
        "    AbyB(3.0, 3.0)"
      ],
      "metadata": {
        "id": "PMoLwJ8DlHXq",
        "colab": {
          "base_uri": "https://localhost:8080/"
        },
        "outputId": "39f251af-1e4f-4819-b532-e3ebf6543093"
      },
      "execution_count": 8,
      "outputs": [
        {
          "output_type": "stream",
          "name": "stdout",
          "text": [
            "-5.0\n",
            "a/b result in 0.\n"
          ]
        }
      ]
    },
    {
      "cell_type": "markdown",
      "source": [
        "### **$Finally$ keyword in Python**\n",
        "\n",
        "The $try$ statement in Python can have an optional $finally$ clause. This clause is executed no matter what and is used to release external resources. Python provides a keyword $finally$, which is always executed after the $try$ and $except$ blocks. The final block always executes after normal termination of try block or after try block terminates due to some exceptions."
      ],
      "metadata": {
        "id": "_XDUuNYv0KAe"
      }
    },
    {
      "cell_type": "code",
      "source": [
        "\"\"\"\n",
        "--------\n",
        "Syntax:\n",
        "--------\n",
        "try:\n",
        "    # Some Code.\n",
        "except:\n",
        "    # Executed if error in the try block.\n",
        "    # Handling of Exception (if required).\n",
        "else:\n",
        "    # Execute if no exception.\n",
        "finally:\n",
        "    # Some Code ..... (always executed).\n",
        "\"\"\"\n",
        "\n",
        "# Python program to demonstrate try-finally block.\n",
        "\n",
        "try:\n",
        "    # Raises divide by zero exception.\n",
        "    k = 5 // 0\n",
        "    print(k)\n",
        "except ZeroDivisionError:\n",
        "    # Handles ZeroDivision Exception.\n",
        "    print(\"Can't divide by Zero.\")\n",
        "finally:\n",
        "    # This block gets executed regardless of exception generation.\n",
        "    print(\"This block always gets executed.\")"
      ],
      "metadata": {
        "colab": {
          "base_uri": "https://localhost:8080/"
        },
        "id": "UNCpSytP6SFi",
        "outputId": "b42da657-6396-4a49-c1de-5f8e80f52c12"
      },
      "execution_count": 9,
      "outputs": [
        {
          "output_type": "stream",
          "name": "stdout",
          "text": [
            "Can't divide by Zero.\n",
            "This block always gets executed.\n"
          ]
        }
      ]
    }
  ]
}