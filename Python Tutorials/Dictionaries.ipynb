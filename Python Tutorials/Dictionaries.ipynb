{
  "nbformat": 4,
  "nbformat_minor": 0,
  "metadata": {
    "colab": {
      "name": "Dictionaries.ipynb",
      "provenance": [],
      "collapsed_sections": []
    },
    "kernelspec": {
      "name": "python3",
      "display_name": "Python 3"
    },
    "language_info": {
      "name": "python"
    }
  },
  "cells": [
    {
      "cell_type": "markdown",
      "metadata": {
        "id": "lT9XW-5wiidt"
      },
      "source": [
        "# **Python Dictionaries**\n",
        "\n",
        "***A dictionary associates keys with values. Each key maps to a specific value.***\n",
        "\n",
        "***A dictionary’s keys must be immutable and unique (that is, no duplicates). Multiple keys can have the same value.***\n",
        "\n",
        "***Python dictionary is an unordered collection of items. Each item of a dictionary has a key-value pair.***\n",
        "\n",
        "***Python dictionaries are mutable objects. In other words, we can change, add or remove key-value pairs after assigning.***\n",
        "\n",
        "Python Dictionary stores the data in a `key-value` pair format. The dictionary is the data type in Python, which can simulate the real-life data arrangement where some specific value exists for some particular key. It is a mutable data structure. The dictionary is defined into element keys and values.\n",
        "\n",
        "*   Keys must be a single element.\n",
        "*   Value can be of any type, i.e., list, tuple, integer, etc.\n",
        "\n",
        "In other words, we can say that a dictionary is a collection of key-value pairs where the value can be any Python object. In contrast, the keys are the immutable Python object, i.e., numbers, strings, or tuples.\n",
        "\n",
        "### **References:**\n",
        "\n",
        "> [**Python Dictionary - Programiz**](https://www.programiz.com/python-programming/dictionary)"
      ]
    },
    {
      "cell_type": "code",
      "metadata": {
        "id": "r3JbvwKNiWM-",
        "colab": {
          "base_uri": "https://localhost:8080/"
        },
        "outputId": "10c4856f-68e1-405f-ca37-b4dca70d1a1e"
      },
      "source": [
        "\"\"\"\n",
        "We can create a dictionary by enclosing in curly braces, {}, a comma-separated list of key-value pairs, each of the form \"key: value\".\n",
        "We can create an empty dictionary with {}.\n",
        "\"\"\"\n",
        "\n",
        "country_codes = {\n",
        "    \"United Kingdom\": \"UK\",\n",
        "    \"United States\": \"USA\",\n",
        "    \"India\": \"IN\",\n",
        "    \"Australia\": \"AUS\",\n",
        "    \"New Zealand\": \"NZ\",\n",
        "}\n",
        "\n",
        "\"\"\"\n",
        "Since dictionaries are unordered collections, the display order can differ from the order in which the key-value pairs were \n",
        "added to the dictionary. When we output a dictionary, its comma-separated list of key-value pairs enclosed within curly braces.\n",
        "\"\"\"\n",
        "\n",
        "country_codes"
      ],
      "execution_count": 1,
      "outputs": [
        {
          "output_type": "execute_result",
          "data": {
            "text/plain": [
              "{'Australia': 'AUS',\n",
              " 'India': 'IN',\n",
              " 'New Zealand': 'NZ',\n",
              " 'United Kingdom': 'UK',\n",
              " 'United States': 'USA'}"
            ]
          },
          "metadata": {},
          "execution_count": 1
        }
      ]
    },
    {
      "cell_type": "markdown",
      "metadata": {
        "id": "vqJ6dFtt8rEf"
      },
      "source": [
        "**Built-in \"$dict()$\" Function.**"
      ]
    },
    {
      "cell_type": "code",
      "metadata": {
        "colab": {
          "base_uri": "https://localhost:8080/"
        },
        "id": "CNEZMHZ58jlu",
        "outputId": "4f7a547b-9a4d-490d-b08c-8330ca1af493"
      },
      "source": [
        "\"\"\" Create a dictionary using the built-in dict() function. \"\"\"\n",
        "\n",
        "Dict_1 = dict({1: \"Python\", 2: \"for\", 3: \"Everyone\"})\n",
        "print(Dict_1)  # Create Dictionary by using  dict() method.\n",
        "\n",
        "Dict_2 = dict([(1, \"Aritra\"), (2, \"Ganguly\")])\n",
        "print(Dict_2)  # Create Dictionary with each item as a pair."
      ],
      "execution_count": 2,
      "outputs": [
        {
          "output_type": "stream",
          "name": "stdout",
          "text": [
            "{1: 'Python', 2: 'for', 3: 'Everyone'}\n",
            "{1: 'Aritra', 2: 'Ganguly'}\n"
          ]
        }
      ]
    },
    {
      "cell_type": "code",
      "metadata": {
        "id": "sANi73EvlyL0",
        "colab": {
          "base_uri": "https://localhost:8080/"
        },
        "outputId": "e6534cd0-a184-46ab-f9fc-f28bddc29434"
      },
      "source": [
        "# The built-in function \"len()\" returns the number of key-value pairs in a dictionary.\n",
        "print(len(country_codes))   # Length of Dictionary.\n",
        "print(type(country_codes))  # Data Structure Type."
      ],
      "execution_count": 3,
      "outputs": [
        {
          "output_type": "stream",
          "name": "stdout",
          "text": [
            "5\n",
            "<class 'dict'>\n"
          ]
        }
      ]
    },
    {
      "cell_type": "code",
      "metadata": {
        "id": "Odamrmk2mAP6",
        "colab": {
          "base_uri": "https://localhost:8080/"
        },
        "outputId": "d76b63ad-3e6d-401e-a6e6-f4944b40038f"
      },
      "source": [
        "# Check if a Dictionary Is Empty.\n",
        "if country_codes:\n",
        "    print(\"Dictionary is Not Empty.\")\n",
        "else:\n",
        "    print(\"Dictionary is Empty.\")"
      ],
      "execution_count": 4,
      "outputs": [
        {
          "output_type": "stream",
          "name": "stdout",
          "text": [
            "Dictionary is Not Empty.\n"
          ]
        }
      ]
    },
    {
      "cell_type": "code",
      "metadata": {
        "id": "f9YIQFMjmhaz",
        "colab": {
          "base_uri": "https://localhost:8080/"
        },
        "outputId": "aa2b12e5-717f-4702-851b-9d557928daee"
      },
      "source": [
        "# Delete/Clear the dictionary's key-value pairs.\n",
        "country_codes.clear()\n",
        "\n",
        "country_codes"
      ],
      "execution_count": 5,
      "outputs": [
        {
          "output_type": "execute_result",
          "data": {
            "text/plain": [
              "{}"
            ]
          },
          "metadata": {},
          "execution_count": 5
        }
      ]
    },
    {
      "cell_type": "code",
      "metadata": {
        "id": "Yp88d2Txm3KC",
        "colab": {
          "base_uri": "https://localhost:8080/"
        },
        "outputId": "041a7a08-d428-4a4a-8751-04eaa4c38936"
      },
      "source": [
        "# Check if a Dictionary Is Empty.\n",
        "if country_codes:\n",
        "    print(\"Dictionary is Not Empty.\")\n",
        "else:\n",
        "    print(\"Dictionary is Empty.\")"
      ],
      "execution_count": 6,
      "outputs": [
        {
          "output_type": "stream",
          "name": "stdout",
          "text": [
            "Dictionary is Empty.\n"
          ]
        }
      ]
    },
    {
      "cell_type": "markdown",
      "metadata": {
        "id": "fe4pJT2hrlEZ"
      },
      "source": [
        "## **Basic Dictionary Operations**"
      ]
    },
    {
      "cell_type": "code",
      "metadata": {
        "id": "y842YlggnktL",
        "colab": {
          "base_uri": "https://localhost:8080/"
        },
        "outputId": "a87421fc-52a6-4a60-804f-9c4cb0c2be79"
      },
      "source": [
        "# Iterate through a Dictionary.\n",
        "\n",
        "days_per_month = {\n",
        "    \"January\": 31,\n",
        "    \"February\": 28,\n",
        "    \"March\": 31,\n",
        "    \"April\": 30,\n",
        "    \"May\": 31,\n",
        "    \"June\": 30,\n",
        "    \"July\": 31,\n",
        "    \"August\": 31,\n",
        "    \"September\": 30,\n",
        "    \"October\": 31,\n",
        "    \"November\": 30,\n",
        "    \"December\": 31,\n",
        "}\n",
        "\n",
        "# Length of Dictionary.\n",
        "print(\"Length of Dictionary is \", len(days_per_month))\n",
        "print(\"\\n\")\n",
        "\n",
        "for month, days in days_per_month.items():\n",
        "    print(f\"{month} has {days} days\")"
      ],
      "execution_count": 7,
      "outputs": [
        {
          "output_type": "stream",
          "name": "stdout",
          "text": [
            "Length of Dictionary is  12\n",
            "\n",
            "\n",
            "January has 31 days\n",
            "February has 28 days\n",
            "March has 31 days\n",
            "April has 30 days\n",
            "May has 31 days\n",
            "June has 30 days\n",
            "July has 31 days\n",
            "August has 31 days\n",
            "September has 30 days\n",
            "October has 31 days\n",
            "November has 30 days\n",
            "December has 31 days\n"
          ]
        }
      ]
    },
    {
      "cell_type": "markdown",
      "metadata": {
        "id": "V8NQ2MS8s7uC"
      },
      "source": [
        "**Access the Value Associated with a Key.**"
      ]
    },
    {
      "cell_type": "code",
      "metadata": {
        "id": "mxpoiAFtp4MB",
        "colab": {
          "base_uri": "https://localhost:8080/"
        },
        "outputId": "ebf6da7d-d230-4ec9-9e08-6d1637e2ef8e"
      },
      "source": [
        "days_per_month[\"January\"]  # Return's the value associated with the key \"January\"."
      ],
      "execution_count": 8,
      "outputs": [
        {
          "output_type": "execute_result",
          "data": {
            "text/plain": [
              "31"
            ]
          },
          "metadata": {},
          "execution_count": 8
        }
      ]
    },
    {
      "cell_type": "markdown",
      "metadata": {
        "id": "H8QqV8Qm_yM2"
      },
      "source": [
        " *Python provides an alternative to using the $get()$ method to access the dictionary values. It will give the same result as given by the indexing.* "
      ]
    },
    {
      "cell_type": "code",
      "metadata": {
        "colab": {
          "base_uri": "https://localhost:8080/"
        },
        "id": "TV0Jo5yqAv-2",
        "outputId": "08411897-5fce-4563-cf6e-1a53c6b5e226"
      },
      "source": [
        "print(days_per_month.get(\"December\"))  # Access an element using the \"get()\" method."
      ],
      "execution_count": 9,
      "outputs": [
        {
          "output_type": "stream",
          "name": "stdout",
          "text": [
            "31\n"
          ]
        }
      ]
    },
    {
      "cell_type": "markdown",
      "metadata": {
        "id": "F7hIf1rNtEUB"
      },
      "source": [
        "**Update the Value of an Existing Key-Value Pair.**"
      ]
    },
    {
      "cell_type": "code",
      "metadata": {
        "id": "GzJIo0l6sQUg",
        "colab": {
          "base_uri": "https://localhost:8080/"
        },
        "outputId": "06abdfa1-a2a5-4c7c-bf87-42bed368126a"
      },
      "source": [
        "# Update/Replace the incorrect value associated with the key \"February\".\n",
        "days_per_month[\"February\"] = 29\n",
        "\n",
        "days_per_month"
      ],
      "execution_count": 10,
      "outputs": [
        {
          "output_type": "execute_result",
          "data": {
            "text/plain": [
              "{'April': 30,\n",
              " 'August': 31,\n",
              " 'December': 31,\n",
              " 'February': 29,\n",
              " 'January': 31,\n",
              " 'July': 31,\n",
              " 'June': 30,\n",
              " 'March': 31,\n",
              " 'May': 31,\n",
              " 'November': 30,\n",
              " 'October': 31,\n",
              " 'September': 30}"
            ]
          },
          "metadata": {},
          "execution_count": 10
        }
      ]
    },
    {
      "cell_type": "code",
      "metadata": {
        "id": "t2JeCGIrSgMc"
      },
      "source": [
        "days_per_month.update(February=28)  # The \"update()\" method can insert and update key-value pairs in the dictionary."
      ],
      "execution_count": 11,
      "outputs": []
    },
    {
      "cell_type": "markdown",
      "metadata": {
        "id": "CSu_cIoKtbpG"
      },
      "source": [
        "**Remove a Key-Value Pair.**"
      ]
    },
    {
      "cell_type": "code",
      "metadata": {
        "id": "PRnrHk1ate0d",
        "colab": {
          "base_uri": "https://localhost:8080/"
        },
        "outputId": "565073c2-fda2-45ec-fd96-89e7f31586b7"
      },
      "source": [
        "# Delete a key-value pair from the dictionary using the \"del\" statement.\n",
        "del days_per_month[\"May\"]\n",
        "\n",
        "days_per_month"
      ],
      "execution_count": 12,
      "outputs": [
        {
          "output_type": "execute_result",
          "data": {
            "text/plain": [
              "{'April': 30,\n",
              " 'August': 31,\n",
              " 'December': 31,\n",
              " 'February': 28,\n",
              " 'January': 31,\n",
              " 'July': 31,\n",
              " 'June': 30,\n",
              " 'March': 31,\n",
              " 'November': 30,\n",
              " 'October': 31,\n",
              " 'September': 30}"
            ]
          },
          "metadata": {},
          "execution_count": 12
        }
      ]
    },
    {
      "cell_type": "code",
      "metadata": {
        "id": "h-GQZThtuWqZ",
        "colab": {
          "base_uri": "https://localhost:8080/"
        },
        "outputId": "41d359ce-0a11-4dc4-840e-3cd3cb06b9ac"
      },
      "source": [
        "# We can also remove a key-value pair with the dictionary method \"pop()\", which returns the value for the removed key.\n",
        "\n",
        "days_per_month.pop(\"August\")  # The \"pop()\" method accepts the key as an argument and removes the associated value."
      ],
      "execution_count": 13,
      "outputs": [
        {
          "output_type": "execute_result",
          "data": {
            "text/plain": [
              "31"
            ]
          },
          "metadata": {},
          "execution_count": 13
        }
      ]
    },
    {
      "cell_type": "code",
      "metadata": {
        "colab": {
          "base_uri": "https://localhost:8080/"
        },
        "id": "vjkzlql9CZ3g",
        "outputId": "71238253-7259-41b6-d71a-6e3180ae704a"
      },
      "source": [
        "# The \"popitem()\" method can be used to remove and return an arbitrary (key, value) item pair from the dictionary.\n",
        "days_per_month.popitem()"
      ],
      "execution_count": 14,
      "outputs": [
        {
          "output_type": "execute_result",
          "data": {
            "text/plain": [
              "('December', 31)"
            ]
          },
          "metadata": {},
          "execution_count": 14
        }
      ]
    },
    {
      "cell_type": "code",
      "metadata": {
        "id": "Cj-sUXzBux4m",
        "colab": {
          "base_uri": "https://localhost:8080/"
        },
        "outputId": "2b05a3b5-bae3-408c-ade0-3e220d80a28e"
      },
      "source": [
        "days_per_month"
      ],
      "execution_count": 15,
      "outputs": [
        {
          "output_type": "execute_result",
          "data": {
            "text/plain": [
              "{'April': 30,\n",
              " 'February': 28,\n",
              " 'January': 31,\n",
              " 'July': 31,\n",
              " 'June': 30,\n",
              " 'March': 31,\n",
              " 'November': 30,\n",
              " 'October': 31,\n",
              " 'September': 30}"
            ]
          },
          "metadata": {},
          "execution_count": 15
        }
      ]
    },
    {
      "cell_type": "markdown",
      "metadata": {
        "id": "m1W175VVvGEF"
      },
      "source": [
        "**Add a New Key-Value Pair.**\n",
        "\n",
        "If the **key-value** is already present in the dictionary, the existing value gets updated. Otherwise, if that specific key is not present, a new **(key: value)** pair is added to the dictionary."
      ]
    },
    {
      "cell_type": "code",
      "metadata": {
        "id": "p8ngEFmBvDYO",
        "colab": {
          "base_uri": "https://localhost:8080/"
        },
        "outputId": "758d34f5-bfc7-44ce-fdb0-587c9305c760"
      },
      "source": [
        "days_per_month[\"May\"] = 31\n",
        "\n",
        "days_per_month"
      ],
      "execution_count": 16,
      "outputs": [
        {
          "output_type": "execute_result",
          "data": {
            "text/plain": [
              "{'April': 30,\n",
              " 'February': 28,\n",
              " 'January': 31,\n",
              " 'July': 31,\n",
              " 'June': 30,\n",
              " 'March': 31,\n",
              " 'May': 31,\n",
              " 'November': 30,\n",
              " 'October': 31,\n",
              " 'September': 30}"
            ]
          },
          "metadata": {},
          "execution_count": 16
        }
      ]
    },
    {
      "cell_type": "markdown",
      "metadata": {
        "id": "5RFTR_Oyvu_p"
      },
      "source": [
        "**Attempt to Access a Non-existent Key.**"
      ]
    },
    {
      "cell_type": "code",
      "metadata": {
        "id": "MuRCou9hvxCG",
        "colab": {
          "base_uri": "https://localhost:8080/",
          "height": 166
        },
        "outputId": "6e77c925-d220-40d8-e38e-afca8d250e16"
      },
      "source": [
        "days_per_month[\"August\"]  # KeyError."
      ],
      "execution_count": 17,
      "outputs": [
        {
          "output_type": "error",
          "ename": "KeyError",
          "evalue": "ignored",
          "traceback": [
            "\u001b[0;31m---------------------------------------------------------------------------\u001b[0m",
            "\u001b[0;31mKeyError\u001b[0m                                  Traceback (most recent call last)",
            "\u001b[0;32m<ipython-input-17-6fdf0efb7ae3>\u001b[0m in \u001b[0;36m<module>\u001b[0;34m()\u001b[0m\n\u001b[0;32m----> 1\u001b[0;31m \u001b[0mdays_per_month\u001b[0m\u001b[0;34m[\u001b[0m\u001b[0;34m\"August\"\u001b[0m\u001b[0;34m]\u001b[0m  \u001b[0;31m# KeyError.\u001b[0m\u001b[0;34m\u001b[0m\u001b[0;34m\u001b[0m\u001b[0m\n\u001b[0m",
            "\u001b[0;31mKeyError\u001b[0m: 'August'"
          ]
        }
      ]
    },
    {
      "cell_type": "markdown",
      "metadata": {
        "id": "q4deDsNiIYqo"
      },
      "source": [
        "To prevent this error, use the dictionary method \"$get()$\", which returns its argument's corresponding value. If the key is not found, \"$get()$\" returns `None`."
      ]
    },
    {
      "cell_type": "code",
      "metadata": {
        "id": "YenbHdhZIqaO"
      },
      "source": [
        "days_per_month.get(\"August\")"
      ],
      "execution_count": 18,
      "outputs": []
    },
    {
      "cell_type": "code",
      "metadata": {
        "colab": {
          "base_uri": "https://localhost:8080/",
          "height": 35
        },
        "id": "wOdkzpWxIzmP",
        "outputId": "53f639fc-e8f9-48cb-8c52-9fd26b3763e1"
      },
      "source": [
        "# If we specify a second argument to get(), it returns that value if the key is not found.\n",
        "days_per_month.get(\"August\", \"August not in dictionary\")"
      ],
      "execution_count": 19,
      "outputs": [
        {
          "output_type": "execute_result",
          "data": {
            "text/plain": [
              "'August not in dictionary'"
            ],
            "application/vnd.google.colaboratory.intrinsic+json": {
              "type": "string"
            }
          },
          "metadata": {},
          "execution_count": 19
        }
      ]
    },
    {
      "cell_type": "markdown",
      "metadata": {
        "id": "rFugPcZmJZVl"
      },
      "source": [
        "**Test Whether a Dictionary Contains a Specified Key.**\n",
        "\n",
        "Operators $in$ and $not\\mbox{ }in$ can determine whether a dictionary contains a specified key."
      ]
    },
    {
      "cell_type": "code",
      "metadata": {
        "colab": {
          "base_uri": "https://localhost:8080/"
        },
        "id": "bIhPVtG7JMtV",
        "outputId": "0ca9b097-95f9-4dfa-a61f-4a2858951e14"
      },
      "source": [
        "\"November\" in days_per_month"
      ],
      "execution_count": 20,
      "outputs": [
        {
          "output_type": "execute_result",
          "data": {
            "text/plain": [
              "True"
            ]
          },
          "metadata": {},
          "execution_count": 20
        }
      ]
    },
    {
      "cell_type": "code",
      "metadata": {
        "colab": {
          "base_uri": "https://localhost:8080/"
        },
        "id": "B1xFWv1KJmU9",
        "outputId": "fca53d9e-eb8b-49b8-cbf1-a9fb5cab99fd"
      },
      "source": [
        "\"August\" in days_per_month"
      ],
      "execution_count": 21,
      "outputs": [
        {
          "output_type": "execute_result",
          "data": {
            "text/plain": [
              "False"
            ]
          },
          "metadata": {},
          "execution_count": 21
        }
      ]
    },
    {
      "cell_type": "code",
      "metadata": {
        "colab": {
          "base_uri": "https://localhost:8080/"
        },
        "id": "IBoCJd8mJpdN",
        "outputId": "e4c79959-329b-4e56-c633-7293e59750a5"
      },
      "source": [
        "\"January\" not in days_per_month"
      ],
      "execution_count": 22,
      "outputs": [
        {
          "output_type": "execute_result",
          "data": {
            "text/plain": [
              "False"
            ]
          },
          "metadata": {},
          "execution_count": 22
        }
      ]
    },
    {
      "cell_type": "markdown",
      "metadata": {
        "id": "11uk_idoKc1u"
      },
      "source": [
        "**Dictionary Methods \"$keys$\" and \"$values$\".**\n",
        "\n",
        "Earlier, we used the dictionary method \"$items()$\" to iterate through tuples of a dictionary's key-value pairs. Similarly, the methods \"$keys()$\" and \"$values()$\" can be used to iterate through only a dictionary's keys or values, respectively.\n",
        "\n",
        "[**Python Dictionary Methods - GeeksforGeeks**](https://www.geeksforgeeks.org/python-dictionary-methods/)"
      ]
    },
    {
      "cell_type": "code",
      "metadata": {
        "id": "u0zgQJ0ILYgu"
      },
      "source": [
        "months = {\n",
        "    \"January\": 1,\n",
        "    \"February\": 2,\n",
        "    \"March\": 3,\n",
        "    \"April\": 4,\n",
        "    \"May\": 5,\n",
        "    \"June\": 6,\n",
        "    \"July\": 7,\n",
        "    \"August\": 8,\n",
        "    \"September\": 9,\n",
        "    \"October\": 10,\n",
        "    \"November\": 11,\n",
        "    \"December\": 12,\n",
        "}"
      ],
      "execution_count": 23,
      "outputs": []
    },
    {
      "cell_type": "code",
      "metadata": {
        "colab": {
          "base_uri": "https://localhost:8080/"
        },
        "id": "UX_dZsPeL3X-",
        "outputId": "f68f5f89-2fe6-4082-c82f-9773bdce18e7"
      },
      "source": [
        "for month_name in months.keys():\n",
        "    print(month_name, end=\" \")"
      ],
      "execution_count": 24,
      "outputs": [
        {
          "output_type": "stream",
          "name": "stdout",
          "text": [
            "January February March April May June July August September October November December "
          ]
        }
      ]
    },
    {
      "cell_type": "code",
      "metadata": {
        "colab": {
          "base_uri": "https://localhost:8080/"
        },
        "id": "tuQlw3VHL9oY",
        "outputId": "5fc12b0a-1aeb-402d-97fa-a07e4ba88c47"
      },
      "source": [
        "for month_number in months.values():\n",
        "    print(month_number, end=\" \")"
      ],
      "execution_count": 25,
      "outputs": [
        {
          "output_type": "stream",
          "name": "stdout",
          "text": [
            "1 2 3 4 5 6 7 8 9 10 11 12 "
          ]
        }
      ]
    },
    {
      "cell_type": "markdown",
      "metadata": {
        "id": "a5tUhzWROiEV"
      },
      "source": [
        "**Convert Dictionary Keys, Values, and Key-Value Pairs to Lists.**\n",
        "\n",
        "We might occasionally need lists of a dictionary's keys, values, or key-value pairs. To obtain such a *list*, pass the view returned by keys, values, or items to the built-in list function. Modifying these *lists* does not modify the corresponding dictionary."
      ]
    },
    {
      "cell_type": "code",
      "metadata": {
        "colab": {
          "base_uri": "https://localhost:8080/"
        },
        "id": "qH_yJNZkO_HS",
        "outputId": "1e10e953-c719-43c4-9ed7-aa23625d5b2b"
      },
      "source": [
        "list(months.keys())     # Returns list consists of the dictionary's keys."
      ],
      "execution_count": 26,
      "outputs": [
        {
          "output_type": "execute_result",
          "data": {
            "text/plain": [
              "['January',\n",
              " 'February',\n",
              " 'March',\n",
              " 'April',\n",
              " 'May',\n",
              " 'June',\n",
              " 'July',\n",
              " 'August',\n",
              " 'September',\n",
              " 'October',\n",
              " 'November',\n",
              " 'December']"
            ]
          },
          "metadata": {},
          "execution_count": 26
        }
      ]
    },
    {
      "cell_type": "code",
      "metadata": {
        "colab": {
          "base_uri": "https://localhost:8080/"
        },
        "id": "fDzg8kH6PFGU",
        "outputId": "100b6e82-dd8f-4182-fedf-8f22d459c422"
      },
      "source": [
        "list(months.values())   # Returns list consists of the dictionary's values."
      ],
      "execution_count": 27,
      "outputs": [
        {
          "output_type": "execute_result",
          "data": {
            "text/plain": [
              "[1, 2, 3, 4, 5, 6, 7, 8, 9, 10, 11, 12]"
            ]
          },
          "metadata": {},
          "execution_count": 27
        }
      ]
    },
    {
      "cell_type": "code",
      "metadata": {
        "colab": {
          "base_uri": "https://localhost:8080/"
        },
        "id": "yQCDVRIiPGRN",
        "outputId": "c21e4e9c-791f-46ee-f249-1a0843526b71"
      },
      "source": [
        "list(months.items())    # Returns list consists of the dictionary's key-value."
      ],
      "execution_count": 28,
      "outputs": [
        {
          "output_type": "execute_result",
          "data": {
            "text/plain": [
              "[('January', 1),\n",
              " ('February', 2),\n",
              " ('March', 3),\n",
              " ('April', 4),\n",
              " ('May', 5),\n",
              " ('June', 6),\n",
              " ('July', 7),\n",
              " ('August', 8),\n",
              " ('September', 9),\n",
              " ('October', 10),\n",
              " ('November', 11),\n",
              " ('December', 12)]"
            ]
          },
          "metadata": {},
          "execution_count": 28
        }
      ]
    },
    {
      "cell_type": "markdown",
      "metadata": {
        "id": "EBuez8WPi449"
      },
      "source": [
        "**Processing Keys in Sorted Order**\n",
        "\n",
        "To process keys in *sorted* order, we can use a built-in function $sorted()$ as follows:"
      ]
    },
    {
      "cell_type": "code",
      "metadata": {
        "colab": {
          "base_uri": "https://localhost:8080/"
        },
        "id": "k8rQSWhmirfO",
        "outputId": "1ff5352e-d4cd-40b0-a359-8b85f7d2caed"
      },
      "source": [
        "for month_name in sorted(months.keys()):\n",
        "    print(month_name, end=\" \")"
      ],
      "execution_count": 29,
      "outputs": [
        {
          "output_type": "stream",
          "name": "stdout",
          "text": [
            "April August December February January July June March May November October September "
          ]
        }
      ]
    },
    {
      "cell_type": "markdown",
      "metadata": {
        "id": "89kCXkBYQVkP"
      },
      "source": [
        "**Dictionary Comparisons**\n",
        "\n",
        "The comparison operators $==$ and $!=$ can be used to determine whether two dictionaries have identical or different contents. An equals ($==$) comparison evaluates to True if both dictionaries have the same key-value pairs, regardless of the order in which those key-value pairs were added to each dictionary."
      ]
    },
    {
      "cell_type": "code",
      "metadata": {
        "id": "OSxpAobxQZAS"
      },
      "source": [
        "EU_capitals = {\"France\": \"Paris\", \"Germany\": \"Berlin\"}\n",
        "\n",
        "NA_capitals = {\"USA\": \"Washington DC\", \"Canada\": \"Ottawa\"}\n",
        "\n",
        "capitals = {\"Germany\": \"Berlin\", \"France\": \"Paris\"}"
      ],
      "execution_count": 30,
      "outputs": []
    },
    {
      "cell_type": "code",
      "metadata": {
        "colab": {
          "base_uri": "https://localhost:8080/"
        },
        "id": "vLDoEppJRd8U",
        "outputId": "7bf4849e-8936-48fb-d5bc-6dba7447f75e"
      },
      "source": [
        "EU_capitals == NA_capitals"
      ],
      "execution_count": 31,
      "outputs": [
        {
          "output_type": "execute_result",
          "data": {
            "text/plain": [
              "False"
            ]
          },
          "metadata": {},
          "execution_count": 31
        }
      ]
    },
    {
      "cell_type": "code",
      "metadata": {
        "colab": {
          "base_uri": "https://localhost:8080/"
        },
        "id": "mi83uZPyRkOq",
        "outputId": "2e8fd215-5400-451c-ba17-2ace6a5a6c77"
      },
      "source": [
        "EU_capitals == capitals"
      ],
      "execution_count": 32,
      "outputs": [
        {
          "output_type": "execute_result",
          "data": {
            "text/plain": [
              "True"
            ]
          },
          "metadata": {},
          "execution_count": 32
        }
      ]
    },
    {
      "cell_type": "code",
      "metadata": {
        "colab": {
          "base_uri": "https://localhost:8080/"
        },
        "id": "pMnvilRqRnah",
        "outputId": "9cf8e494-c167-425b-e306-d8eaecdf56c1"
      },
      "source": [
        "NA_capitals != capitals"
      ],
      "execution_count": 33,
      "outputs": [
        {
          "output_type": "execute_result",
          "data": {
            "text/plain": [
              "True"
            ]
          },
          "metadata": {},
          "execution_count": 33
        }
      ]
    },
    {
      "cell_type": "markdown",
      "metadata": {
        "id": "YCBWEhbjUQj7"
      },
      "source": [
        "**Dictionary Comprehensions**\n",
        "\n",
        "A dictionary comprehension can map a dictionary's values to new values. The following comprehension converts a dictionary of names and lists of grades into a dictionary of names and grade-point averages. The variables $k$ and $v$ commonly mean $key$ and $value$."
      ]
    },
    {
      "cell_type": "code",
      "metadata": {
        "colab": {
          "base_uri": "https://localhost:8080/"
        },
        "id": "eyedlxziUTvo",
        "outputId": "8fcc09e5-4e3f-41f6-9c8a-fc4e669de062"
      },
      "source": [
        "grades = {\"Sue\": [98, 87, 94], \"Bob\": [84, 95, 91]}\n",
        "\n",
        "grades_avg = {k: sum(v) / len(v) for k, v in grades.items()}\n",
        "\n",
        "grades_avg"
      ],
      "execution_count": 34,
      "outputs": [
        {
          "output_type": "execute_result",
          "data": {
            "text/plain": [
              "{'Bob': 90.0, 'Sue': 93.0}"
            ]
          },
          "metadata": {},
          "execution_count": 34
        }
      ]
    },
    {
      "cell_type": "code",
      "source": [
        "# Construct output Dictionary Without Using Dictionary Comprehension.\n",
        "\n",
        "input_list = [1, 2, 3, 4, 5, 6, 7]\n",
        "\n",
        "output_dict = {}\n",
        "\n",
        "# Using for() loop for constructing output Dictionary.\n",
        "for var in input_list:\n",
        "    if var % 2 != 0:\n",
        "        output_dict[var] = var**3\n",
        "\n",
        "print(\"Output Dictionary using the for() loop:\", output_dict)\n",
        "\n",
        "# Construct output Dictionary Using Dictionary Comprehension.\n",
        "\n",
        "dict_using_comp = {var: var**3 for var in input_list if var % 2 != 0}\n",
        "\n",
        "print(\"Output Dictionary using Dictionary Comprehension:\", dict_using_comp)"
      ],
      "metadata": {
        "colab": {
          "base_uri": "https://localhost:8080/"
        },
        "id": "wc80Y90cdam5",
        "outputId": "7e623235-7a79-496b-d883-4871f50397ff"
      },
      "execution_count": 35,
      "outputs": [
        {
          "output_type": "stream",
          "name": "stdout",
          "text": [
            "Output Dictionary using the for() loop: {1: 1, 3: 27, 5: 125, 7: 343}\n",
            "Output Dictionary using Dictionary Comprehension: {1: 1, 3: 27, 5: 125, 7: 343}\n"
          ]
        }
      ]
    },
    {
      "cell_type": "code",
      "source": [
        "# Construct output Dictionary Without Using Dictionary Comprehension.\n",
        "\n",
        "state = [\"West Bengal\", \"Maharashtra\", \"Karnataka\"]\n",
        "capital = [\"Kolkata\", \"Mumbai\", \"Bangalore\"]\n",
        "\n",
        "output_dict = {}\n",
        "\n",
        "# Using for() loop for constructing output Dictionary.\n",
        "for (key, value) in zip(state, capital):\n",
        "    output_dict[key] = value\n",
        "\n",
        "print(\"Output Dictionary using the for() loop:\", output_dict)\n",
        "\n",
        "# Construct output Dictionary Using Dictionary Comprehension.\n",
        "\n",
        "dict_using_comp = {key: value for (key, value) in zip(state, capital)}\n",
        "\n",
        "print(\"Output Dictionary using Dictionary Comprehension:\", dict_using_comp)"
      ],
      "metadata": {
        "colab": {
          "base_uri": "https://localhost:8080/"
        },
        "id": "ZrFcCig8eOqk",
        "outputId": "ebc9c47b-f30d-4a71-baf3-670923fe63f3"
      },
      "execution_count": 36,
      "outputs": [
        {
          "output_type": "stream",
          "name": "stdout",
          "text": [
            "Output Dictionary using the for() loop: {'West Bengal': 'Kolkata', 'Maharashtra': 'Mumbai', 'Karnataka': 'Bangalore'}\n",
            "Output Dictionary using Dictionary Comprehension: {'West Bengal': 'Kolkata', 'Maharashtra': 'Mumbai', 'Karnataka': 'Bangalore'}\n"
          ]
        }
      ]
    },
    {
      "cell_type": "markdown",
      "metadata": {
        "id": "ZHVqh_fwfJoi"
      },
      "source": [
        "**Duplicating Dictionary**"
      ]
    },
    {
      "cell_type": "code",
      "metadata": {
        "colab": {
          "base_uri": "https://localhost:8080/"
        },
        "id": "p03H1stkfSBW",
        "outputId": "d053eb46-d6f7-4abc-b47b-5571a0f75065"
      },
      "source": [
        "grades = {\"Sue\": [88, 74, 96], \"Bob\": [89, 65, 91]}\n",
        "\n",
        "grades_duplicate = grades.copy()\n",
        "\n",
        "grades_duplicate"
      ],
      "execution_count": 37,
      "outputs": [
        {
          "output_type": "execute_result",
          "data": {
            "text/plain": [
              "{'Bob': [89, 65, 91], 'Sue': [88, 74, 96]}"
            ]
          },
          "metadata": {},
          "execution_count": 37
        }
      ]
    },
    {
      "cell_type": "markdown",
      "metadata": {
        "id": "Z1al34ZRgPuu"
      },
      "source": [
        "**Merge two or more Dictionary**"
      ]
    },
    {
      "cell_type": "code",
      "metadata": {
        "id": "J9-N5iXZgScb"
      },
      "source": [
        "person = {\"name\": \"Aritra\", \"age\": 25, \"location\": \"London\"}\n",
        "position = {\"job\": \"Data Scientist\", \"salary\": 70000}"
      ],
      "execution_count": 38,
      "outputs": []
    },
    {
      "cell_type": "code",
      "metadata": {
        "colab": {
          "base_uri": "https://localhost:8080/"
        },
        "id": "BetVOMZAgrvq",
        "outputId": "4c9edc37-da2f-46a7-9e64-b48817a58bbb"
      },
      "source": [
        "# Merge dictionary using ** argument.\n",
        "dict_merged = {**person, **position}\n",
        "print(dict_merged)"
      ],
      "execution_count": 39,
      "outputs": [
        {
          "output_type": "stream",
          "name": "stdout",
          "text": [
            "{'name': 'Aritra', 'age': 25, 'location': 'London', 'job': 'Data Scientist', 'salary': 70000}\n"
          ]
        }
      ]
    },
    {
      "cell_type": "markdown",
      "metadata": {
        "id": "YljAVsyYEnZY"
      },
      "source": [
        "### **Nested Dictionary**\n",
        "\n",
        "![image.png](https://media.geeksforgeeks.org/wp-content/uploads/Dictionary_inmage.jpg)"
      ]
    },
    {
      "cell_type": "code",
      "metadata": {
        "id": "soJAoT-nEn1S"
      },
      "source": [
        "fav_website = {1: \"Geeks\", 2: \"for\", 3: {\"A\": \"Welcome\", \"B\": \"To\", \"C\": \"Geeks\"}}"
      ],
      "execution_count": 40,
      "outputs": []
    },
    {
      "cell_type": "code",
      "metadata": {
        "colab": {
          "base_uri": "https://localhost:8080/"
        },
        "id": "D2_eUs4yGnfD",
        "outputId": "1539e38b-1ea2-4678-9d12-7953c7166aed"
      },
      "source": [
        "# Access elements from Nested Dictionary.\n",
        "print(fav_website[1])\n",
        "print(fav_website[2])\n",
        "print(fav_website[3][\"C\"])"
      ],
      "execution_count": 41,
      "outputs": [
        {
          "output_type": "stream",
          "name": "stdout",
          "text": [
            "Geeks\n",
            "for\n",
            "Geeks\n"
          ]
        }
      ]
    },
    {
      "cell_type": "markdown",
      "metadata": {
        "id": "SwknxsGjV0Gb"
      },
      "source": [
        "## **Example: Dictionary of Student Grades**\n",
        "\n",
        "The following script represents an instructor's grade book as a dictionary that maps each student's name (a string) to a list of integers containing that student's grades on three exams."
      ]
    },
    {
      "cell_type": "code",
      "metadata": {
        "colab": {
          "base_uri": "https://localhost:8080/"
        },
        "id": "NNXIuTEpV6BK",
        "outputId": "59ca1297-44ae-4486-ae34-0c4e2e94a4e2"
      },
      "source": [
        "\"\"\" Use a dictionary to represent an instructor's grade book. \"\"\"\n",
        "\n",
        "grade_book = {\n",
        "    \"Susan\": [92, 85, 100],\n",
        "    \"Eduardo\": [83, 95, 79],\n",
        "    \"Azizi\": [91, 89, 82],\n",
        "    \"Pantipa\": [97, 91, 92],\n",
        "}\n",
        "\n",
        "all_grades_total = 0\n",
        "all_grades_count = 0\n",
        "\n",
        "for name, grades in grade_book.items():\n",
        "    total = sum(grades)\n",
        "    print(f\"Average for {name} is {total/len(grades):.2f}\")\n",
        "    all_grades_total += total\n",
        "    all_grades_count += len(grades)\n",
        "\n",
        "print(f\"Class's average is: {all_grades_total / all_grades_count:.2f}\")"
      ],
      "execution_count": 42,
      "outputs": [
        {
          "output_type": "stream",
          "name": "stdout",
          "text": [
            "Average for Susan is 92.33\n",
            "Average for Eduardo is 85.67\n",
            "Average for Azizi is 87.33\n",
            "Average for Pantipa is 93.33\n",
            "Class's average is: 89.67\n"
          ]
        }
      ]
    },
    {
      "cell_type": "markdown",
      "metadata": {
        "id": "uKASfVnIYhYx"
      },
      "source": [
        "## **Example: Word Counts**\n",
        "\n",
        "The following script builds a dictionary to count the number of occurrences of each word in a string."
      ]
    },
    {
      "cell_type": "code",
      "metadata": {
        "colab": {
          "base_uri": "https://localhost:8080/"
        },
        "id": "TsJ5WG3nYyXX",
        "outputId": "3a0e4cdd-3eb4-432e-8491-45aeff4ff35f"
      },
      "source": [
        "\"\"\" Tokenizing a string and counting unique words. \"\"\"\n",
        "\n",
        "text = (\n",
        "    \"This is sample text with several words\"\n",
        "    \"This is more sample text with some different words\"\n",
        ")\n",
        "\n",
        "word_counts = {}\n",
        "\n",
        "# Count occurrences of each unique word.\n",
        "\n",
        "for word in text.split():\n",
        "    if word in word_counts:\n",
        "        word_counts[word] += 1  # Update existing Key-Value pair.\n",
        "    else:\n",
        "        word_counts[word] = 1   # Insert new Key-Value pair.\n",
        "\n",
        "print(f'{\"WORD\":<12}COUNT')\n",
        "\n",
        "for word, count in sorted(word_counts.items()):\n",
        "    print(f\"{word:<12}{count}\")\n",
        "\n",
        "print(\"\\nNumber of Unique Words:\", len(word_counts))"
      ],
      "execution_count": 43,
      "outputs": [
        {
          "output_type": "stream",
          "name": "stdout",
          "text": [
            "WORD        COUNT\n",
            "This        1\n",
            "different   1\n",
            "is          2\n",
            "more        1\n",
            "sample      2\n",
            "several     1\n",
            "some        1\n",
            "text        2\n",
            "with        2\n",
            "words       1\n",
            "wordsThis   1\n",
            "\n",
            "Number of Unique Words: 11\n"
          ]
        }
      ]
    },
    {
      "cell_type": "markdown",
      "metadata": {
        "id": "t6ILGRmabncH"
      },
      "source": [
        "**Python Standard Library Module Collections**\n",
        "\n",
        "The Python Standard Library already contains the counting functionality, which we implemented using the dictionary and the loop above. The module **collections** contain the type **Counter**, which receives an iterable and summarizes its elements."
      ]
    },
    {
      "cell_type": "code",
      "metadata": {
        "colab": {
          "base_uri": "https://localhost:8080/"
        },
        "id": "_9TESWWRaIZB",
        "outputId": "10008a26-7e8a-4122-c36b-3faaa7e99982"
      },
      "source": [
        "from collections import Counter\n",
        "\n",
        "text = (\n",
        "    \"This is sample text with several words\"\n",
        "    \"This is more sample text with some different words\"\n",
        ")\n",
        "\n",
        "counter = Counter(text.split())\n",
        "\n",
        "for word, count in sorted(counter.items()):\n",
        "    print(f\"{word:<12}{count}\")\n",
        "\n",
        "print(\"Number of Unique Keys:\", len(counter.keys()))"
      ],
      "execution_count": 44,
      "outputs": [
        {
          "output_type": "stream",
          "name": "stdout",
          "text": [
            "This        1\n",
            "different   1\n",
            "is          2\n",
            "more        1\n",
            "sample      2\n",
            "several     1\n",
            "some        1\n",
            "text        2\n",
            "with        2\n",
            "words       1\n",
            "wordsThis   1\n",
            "Number of Unique Keys: 11\n"
          ]
        }
      ]
    }
  ]
}