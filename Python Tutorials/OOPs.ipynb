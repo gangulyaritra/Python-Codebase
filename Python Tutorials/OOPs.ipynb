{
  "nbformat": 4,
  "nbformat_minor": 0,
  "metadata": {
    "colab": {
      "name": "Object-Oriented Programming.ipynb",
      "provenance": []
    },
    "kernelspec": {
      "name": "python3",
      "display_name": "Python 3"
    },
    "language_info": {
      "name": "python"
    }
  },
  "cells": [
    {
      "cell_type": "markdown",
      "source": [
        "# **Object-Oriented Programming (OOPs) Concept in Python**\n",
        "\n",
        "Object-Oriented Programming (OOP) [**[Wikipedia]**](https://en.wikipedia.org/wiki/Object-oriented_programming) is a programming paradigm that relies on the concept of classes and objects. OOPs, structure a software program into a simple, reusable piece of code blueprints (usually called classes) used to create individual instances of objects. There are many object-oriented programming languages like C++, Java, and Python. The basic concepts of OOPs are:\n",
        "\n",
        "*   Class\n",
        "*   Object\n",
        "*   Method\n",
        "*   Abstraction\n",
        "*   Inheritance\n",
        "*   Encapsulation\n",
        "*   Polymorphism\n",
        "\n",
        "\n",
        "# **Building blocks of OOPs.**\n",
        "\n",
        "Take a deeper look at each of the fundamental building blocks of an OOP program used above:\n",
        "\n",
        "*   Classes\n",
        "*   Objects\n",
        "*   Methods\n",
        "*   Attributes\n",
        "\n",
        "## **Class**\n",
        "***A class is a blueprint for the object.***\n",
        "\n",
        "The class creates a user-defined data structure, which holds its data members and member functions, which can be accessed and used by creating an instance of that class. A class is like a blueprint for an object.\n",
        "\n",
        "*   Classes are created by the keyword `class`.\n",
        "*   Attributes are the variables that belong to a class.\n",
        "*   Attributes are always public and can be accessed using the dot $(.)$ operator."
      ],
      "metadata": {
        "id": "qASk2dBbKC2H"
      }
    },
    {
      "cell_type": "code",
      "source": [
        "\"\"\"\n",
        "----------------------------\n",
        "Class Definition Syntax:\n",
        "----------------------------\n",
        "\n",
        "class ClassName:\n",
        "    # Statement-1\n",
        "    .............\n",
        "    .............\n",
        "    # Statement-N\n",
        "\"\"\"\n",
        "\n",
        "# Python Program to demonstrate defining a class.\n",
        "\n",
        "class Array:\n",
        "    pass\n",
        "\n",
        "# Here, we use the class keyword to define an empty class Array. From class, we construct instances.\n",
        "# An instance is a specific object created from a particular class."
      ],
      "metadata": {
        "id": "cJRo3Q-7M82h"
      },
      "execution_count": 1,
      "outputs": []
    },
    {
      "cell_type": "markdown",
      "source": [
        "#### **Magic Methods in Classes**"
      ],
      "metadata": {
        "id": "EQc1EIA65tNt"
      }
    },
    {
      "cell_type": "code",
      "source": [
        "# All the class variables are public.\n",
        "\n",
        "class Car:\n",
        "    def __new__(self, windows, doors, enginetype):\n",
        "        print(\"The object has started getting initialized.\")\n",
        "\n",
        "    def __init__(self, windows, doors, enginetype):\n",
        "        self.windows = windows\n",
        "        self.doors = doors\n",
        "        self.enginetype = enginetype\n",
        "\n",
        "    def __str__(self):\n",
        "        return \"The object has been initialized.\"\n",
        "\n",
        "    def __sizeof__(self):\n",
        "        return \"It displays the size of the object.\"\n",
        "\n",
        "    def drive(self):\n",
        "        print(\"The Person drives the Car.\")"
      ],
      "metadata": {
        "id": "dfXiJ0EF51Va"
      },
      "execution_count": 2,
      "outputs": []
    },
    {
      "cell_type": "code",
      "source": [
        "c = Car(4, 5, \"Diesel\")"
      ],
      "metadata": {
        "id": "rb30W9dv6fN6",
        "colab": {
          "base_uri": "https://localhost:8080/"
        },
        "outputId": "ed2fa438-94d4-4fc9-f20e-d17f12a4f0dd"
      },
      "execution_count": 3,
      "outputs": [
        {
          "output_type": "stream",
          "name": "stdout",
          "text": [
            "The object has started getting initialized.\n"
          ]
        }
      ]
    },
    {
      "cell_type": "code",
      "source": [
        "print(c)"
      ],
      "metadata": {
        "id": "zXHPLf1u6jUZ",
        "colab": {
          "base_uri": "https://localhost:8080/"
        },
        "outputId": "fcbc2423-46dc-4a15-8165-220de915f5a7"
      },
      "execution_count": 4,
      "outputs": [
        {
          "output_type": "stream",
          "name": "stdout",
          "text": [
            "None\n"
          ]
        }
      ]
    },
    {
      "cell_type": "code",
      "source": [
        "c.__sizeof__()"
      ],
      "metadata": {
        "id": "0kEgyF-Q6leC",
        "colab": {
          "base_uri": "https://localhost:8080/"
        },
        "outputId": "6dab56bf-c283-4163-e915-4637a1625e23"
      },
      "execution_count": 5,
      "outputs": [
        {
          "output_type": "execute_result",
          "data": {
            "text/plain": [
              "16"
            ]
          },
          "metadata": {},
          "execution_count": 5
        }
      ]
    },
    {
      "cell_type": "code",
      "source": [
        "dir(c)"
      ],
      "metadata": {
        "id": "7Gd0Erdj6n1J",
        "colab": {
          "base_uri": "https://localhost:8080/"
        },
        "outputId": "cf7b59e8-aeff-4616-ed4a-a2d5dfafb29e"
      },
      "execution_count": 6,
      "outputs": [
        {
          "output_type": "execute_result",
          "data": {
            "text/plain": [
              "['__bool__',\n",
              " '__class__',\n",
              " '__delattr__',\n",
              " '__dir__',\n",
              " '__doc__',\n",
              " '__eq__',\n",
              " '__format__',\n",
              " '__ge__',\n",
              " '__getattribute__',\n",
              " '__gt__',\n",
              " '__hash__',\n",
              " '__init__',\n",
              " '__init_subclass__',\n",
              " '__le__',\n",
              " '__lt__',\n",
              " '__ne__',\n",
              " '__new__',\n",
              " '__reduce__',\n",
              " '__reduce_ex__',\n",
              " '__repr__',\n",
              " '__setattr__',\n",
              " '__sizeof__',\n",
              " '__str__',\n",
              " '__subclasshook__']"
            ]
          },
          "metadata": {},
          "execution_count": 6
        }
      ]
    },
    {
      "cell_type": "markdown",
      "source": [
        "## **Object**\n",
        "\n",
        "*An object (instance) is an instantiation of a class.* When class is defined, only the description for the object gets defined. Therefore, no memory or storage is allocated. An example of the object of the Array class can be:\n",
        "\n",
        "```\n",
        "obj = Array()\n",
        "```\n",
        "\n",
        "Here, **obj** is an object of class Array.\n",
        "\n",
        "An Object is an instance of a Class. A class is like a blueprint, while an instance is a copy of the class with actual values. An object consists of:\n",
        "\n",
        "*   **State:** It is represented by the attributes of an object. It also reflects the properties of an object.\n",
        "*   **Behavior:** It is represented by the methods of an object. It also reflects the response of an object to other objects.\n",
        "*   **Identity:** It gives a unique name to an object and enables one object to interact with other objects.\n",
        "\n",
        "**Declaring Objects (Instantiating a Class)**\n",
        "\n",
        "When an object of a class is created, the class is said to be instantiated. All the instances share the attributes and the behavior of the class. But the values of those attributes, i.e., the state are unique for each object. A single class may have any number of instances."
      ],
      "metadata": {
        "id": "lQPAmVIVWtLK"
      }
    },
    {
      "cell_type": "code",
      "source": [
        "# Create Class and Object in Python.\n",
        "\n",
        "class Parrot:\n",
        "    # Class Attribute.\n",
        "    species = \"bird\"\n",
        "\n",
        "    # Instance Attribute.\n",
        "    def __init__(self, name, age):\n",
        "        self.name = name\n",
        "        self.age = age\n",
        "\n",
        "\n",
        "# Instantiate the Parrot Class.\n",
        "blu = Parrot(\"Blu\", 10)\n",
        "woo = Parrot(\"Woo\", 15)\n",
        "\n",
        "# Access the Class Attributes.\n",
        "print(\"Blu is a {}\".format(blu.__class__.species))\n",
        "print(\"Woo is also a {}\".format(woo.__class__.species))\n",
        "\n",
        "# Access the Instance Attributes.\n",
        "print(\"{} is {} years old\".format(blu.name, blu.age))\n",
        "print(\"{} is {} years old\".format(woo.name, woo.age))"
      ],
      "metadata": {
        "id": "3f0FellMZhai",
        "colab": {
          "base_uri": "https://localhost:8080/"
        },
        "outputId": "02564d40-f37d-459c-f380-5dd96b20a9be"
      },
      "execution_count": 7,
      "outputs": [
        {
          "output_type": "stream",
          "name": "stdout",
          "text": [
            "Blu is a bird\n",
            "Woo is also a bird\n",
            "Blu is 10 years old\n",
            "Woo is 15 years old\n"
          ]
        }
      ]
    },
    {
      "cell_type": "markdown",
      "source": [
        "### **The $self$**\n",
        "\n",
        "*   Class methods must have an extra first parameter in the method definition. These methods do not take a value for this parameter when calling it.\n",
        "*   If we have a method that takes no arguments, then it still have to have one argument.\n",
        "*   This is similar to this pointer in C++ and this reference in Java.\n",
        "\n",
        "### **The $\\_\\_init\\_\\_$ method**\n",
        "\n",
        "**The $\\_\\_init\\_\\_$ method** is similar to constructors in C++ and Java. Constructors are used to initializing the object's state. Like methods, a constructor also contains a collection of statements (i.e., instructions) that gets executed at the time of Object creation. It runs as soon as an object of a class gets instantiated. The method is useful to do any initialization we want to do with our object."
      ],
      "metadata": {
        "id": "GKrP_vbcaFL5"
      }
    },
    {
      "cell_type": "code",
      "source": [
        "# A Sample class with the __init__ method.\n",
        "\n",
        "class Person:\n",
        "    # __init__ method or constructor.\n",
        "    def __init__(self, name):\n",
        "        self.name = name\n",
        "\n",
        "    # Sample Method.\n",
        "    def say_hi(self):\n",
        "        print(\"Hello, my name is\", self.name)\n",
        "\n",
        "\n",
        "p = Person(\"Aritra\")\n",
        "p.say_hi()"
      ],
      "metadata": {
        "id": "v9Z_lBnplvCM",
        "colab": {
          "base_uri": "https://localhost:8080/"
        },
        "outputId": "ea7c5108-ea67-40a2-97d5-d0881a6603f0"
      },
      "execution_count": 8,
      "outputs": [
        {
          "output_type": "stream",
          "name": "stdout",
          "text": [
            "Hello, my name is Aritra\n"
          ]
        }
      ]
    },
    {
      "cell_type": "markdown",
      "source": [
        "## **Methods**"
      ],
      "metadata": {
        "id": "zkOehaPcmvbV"
      }
    },
    {
      "cell_type": "code",
      "source": [
        "\"\"\"\n",
        "-----------------------------\n",
        "Creating Methods in Python.\n",
        "-----------------------------\n",
        "Methods are functions defined inside the body of a class. They are used to define the behaviors of an object.\n",
        "\"\"\"\n",
        "\n",
        "class Parrot:\n",
        "    # Instance Attributes.\n",
        "    def __init__(self, name, age):\n",
        "        self.name = name\n",
        "        self.age = age\n",
        "\n",
        "    # Instance Method.\n",
        "    def sing(self, song):\n",
        "        return \"{} sings {}\".format(self.name, song)\n",
        "\n",
        "    def dance(self):\n",
        "        return \"{} is now dancing\".format(self.name)\n",
        "\n",
        "\n",
        "# Instantiate the Object.\n",
        "blu = Parrot(\"Blu\", 10)\n",
        "\n",
        "# Call Instance Methods.\n",
        "print(blu.sing(\"'Happy'\"))\n",
        "print(blu.dance())\n",
        "\n",
        "# In the above program, we define two methods, i.e., sing() and dance().\n",
        "# These are called instance methods because they are called on an instance object, i.e., blu."
      ],
      "metadata": {
        "id": "grPrYLHQmULW",
        "colab": {
          "base_uri": "https://localhost:8080/"
        },
        "outputId": "be13bf5b-103e-4f3e-8665-d9f29d447a7a"
      },
      "execution_count": 9,
      "outputs": [
        {
          "output_type": "stream",
          "name": "stdout",
          "text": [
            "Blu sings 'Happy'\n",
            "Blu is now dancing\n"
          ]
        }
      ]
    },
    {
      "cell_type": "code",
      "source": [
        "# Class Methods and Class Variables.\n",
        "\n",
        "class Car:\n",
        "    # Class Variables.\n",
        "    base_price = 100000\n",
        "\n",
        "    # Class Methods.\n",
        "    def __init__(self, windows, doors, power):\n",
        "        self.windows = windows\n",
        "        self.doors = doors\n",
        "        self.power = power\n",
        "\n",
        "    def what_base_price(self):\n",
        "        print(\"The base price is {}\".format(self.base_price))\n",
        "\n",
        "    @classmethod\n",
        "    def revise_base_price(cls, inflation):\n",
        "        cls.base_price = cls.base_price + cls.base_price * inflation\n",
        "\n",
        "\n",
        "Car.revise_base_price(0.10)\n",
        "Car.base_price"
      ],
      "metadata": {
        "id": "rakGWRjM-QBs",
        "colab": {
          "base_uri": "https://localhost:8080/"
        },
        "outputId": "e16b6044-7a2d-4d13-f977-2bef1909680d"
      },
      "execution_count": 10,
      "outputs": [
        {
          "output_type": "execute_result",
          "data": {
            "text/plain": [
              "110000.0"
            ]
          },
          "metadata": {},
          "execution_count": 10
        }
      ]
    },
    {
      "cell_type": "markdown",
      "source": [
        "## **Constructors in Python**\n",
        "\n",
        "Constructors are used for instantiating an object. The task of constructors is to initialize (assign values) to the data members of the class when an object of the class is created. In Python, the $\\_\\_init\\_\\_() method$ is called the constructor and is always called when an object is created.\n",
        "\n",
        "**Syntax of Constructor Declaration:**\n",
        "\n",
        "```\n",
        "def __init__(self):\n",
        "    # Body of the Constructor.\n",
        "```\n",
        "\n",
        "**Types of Constructors:**\n",
        "\n",
        "*   **Default Constructor:** The default constructor is a simple constructor which doesn't accept any arguments. Its definition has only one argument which is a reference to the instance being constructed.\n",
        "*   **Parameterized Constructor:** A constructor with parameters is known as parameterized constructor. The parameterized constructor takes its first argument as a reference to the instance being constructed known as the \"$self$\" and the rest of the arguments are provided by the programmer.\n",
        "\n",
        "**Reference:**\n",
        "\n",
        "> [**Constructors in Python - Programiz**](https://www.programiz.com/python-programming/class)"
      ],
      "metadata": {
        "id": "aJ_cnTJ2Z5NY"
      }
    },
    {
      "cell_type": "code",
      "source": [
        "# Python Program to illustrate Constructor.\n",
        "\n",
        "class ComplexNumber:\n",
        "    def __init__(self, r=0, i=0):\n",
        "        self.real = r\n",
        "        self.imag = i\n",
        "\n",
        "    def get_data(self):\n",
        "        print(f\"{self.real}+{self.imag}j\")\n",
        "\n",
        "\n",
        "obj = ComplexNumber(2, 3)\n",
        "obj.get_data()\n",
        "\n",
        "# In this example, we defined a new class to represent complex numbers.\n",
        "# It has two functions, __init__() to initialize the variables (defaults to zero) and get_data() to display the number properly."
      ],
      "metadata": {
        "colab": {
          "base_uri": "https://localhost:8080/"
        },
        "id": "ePkfNdNbaAII",
        "outputId": "02070154-d2d5-45ea-d62e-7679d9024b0e"
      },
      "execution_count": 11,
      "outputs": [
        {
          "output_type": "stream",
          "name": "stdout",
          "text": [
            "2+3j\n"
          ]
        }
      ]
    },
    {
      "cell_type": "markdown",
      "source": [
        "## **Destructors in Python**\n",
        "\n",
        "Destructors are called when an object gets destroyed. In Python, destructors are not needed as much as in C++ because Python has a garbage collector that handles memory management automatically. The $\\_\\_del\\_\\_()$ method is known as a destructor method in Python. It is called when all references to the object have been deleted.\n",
        "\n",
        "**Syntax of Destructor Declaration:**\n",
        "```\n",
        "def __del__(self):\n",
        "    # Body of the Destructor.\n",
        "```"
      ],
      "metadata": {
        "id": "LQ2UC4scoHNz"
      }
    },
    {
      "cell_type": "code",
      "source": [
        "# Python Program to illustrate Destructor.\n",
        "\n",
        "class ComplexNumber:\n",
        "    def __init__(self, r=0, i=0):\n",
        "        self.real = r\n",
        "        self.imag = i\n",
        "\n",
        "    def get_data(self):\n",
        "        print(f\"{self.real}+{self.imag}j\")\n",
        "\n",
        "    def __del__(self):\n",
        "        print(\"Destructor called, Object deleted.\")\n",
        "\n",
        "\n",
        "obj = ComplexNumber(2, 3)\n",
        "obj.get_data()\n",
        "\n",
        "del obj"
      ],
      "metadata": {
        "colab": {
          "base_uri": "https://localhost:8080/"
        },
        "id": "BNuj2ICJwsGW",
        "outputId": "d6ca5690-e27d-44ae-ac05-39e915f030b6"
      },
      "execution_count": 12,
      "outputs": [
        {
          "output_type": "stream",
          "name": "stdout",
          "text": [
            "2+3j\n",
            "Destructor called, Object deleted.\n"
          ]
        }
      ]
    },
    {
      "cell_type": "markdown",
      "source": [
        "# **Four Principles of OOPs Concept.**\n",
        "\n",
        "The four pillars of object-oriented programming are:\n",
        "\n",
        "*   **Inheritance:** Child classes inherit data and behaviors from the parent class.\n",
        "*   **Encapsulation:** Contain information in an object, exposing only selected information.\n",
        "*   **Abstraction:** Only expose high-level public methods for accessing an object.\n",
        "*   **Polymorphism:** Many methods can do the same task.\n",
        "\n",
        "![image.png](https://miro.medium.com/max/700/1*BirtADeool-n8VNsXYAoZg.png)"
      ],
      "metadata": {
        "id": "kT8tI5oSsLt7"
      }
    },
    {
      "cell_type": "markdown",
      "source": [
        "# **Python Inheritance**\n",
        "\n",
        "Inheritance enables to define a class that takes all the functionality from a parent class. Inheritance is a powerful feature in object-oriented programming. Inheritance creates a new class with little or no modification to an existing class. The new class is called the derived (or child) class, and the one from which it inherits is called the base (or parent) class. Inheritance allows classes to inherit features of other classes. The benefit of inheritance is to create a generic parent class and then create more specific child classes as needed.\n",
        "\n",
        "*   **Super Class:** The class whose features are inherited is known as a superclass (or a base class or a parent class).\n",
        "*   **Sub Class:** The class that inherits the other class is called a subclass (or a derived class, extended class, or child class). The subclass can add its fields and methods in addition to the superclass fields and methods.\n",
        "*   **Reusability:** Inheritance supports the concept of \"reusability\", i.e., when we want to create a new class, and there is already a class that includes some of the code we want, we can derive our new class from the existing class. By doing this, we are reusing the fields and methods of the existing class.\n",
        "\n",
        "#### **Reference:**\n",
        "\n",
        "> [**Python Inheritance - Programiz**](https://www.programiz.com/python-programming/inheritance)"
      ],
      "metadata": {
        "id": "EIrPL9SrvZSo"
      }
    },
    {
      "cell_type": "code",
      "source": [
        "\"\"\"\n",
        "------------------------------\n",
        "Python Inheritance Syntax.\n",
        "------------------------------\n",
        "\n",
        "class BaseClass:\n",
        "    Body of base class\n",
        "\n",
        "class DerivedClass(BaseClass):\n",
        "    Body of derived class\n",
        "\n",
        "The derived class inherits features from the base class, where new features can be added to it. It results in the re-usability of code.\n",
        "\"\"\"\n",
        "\n",
        "# A polygon is a closed figure with 3 or more sides.\n",
        "\n",
        "\n",
        "class Polygon:\n",
        "    def __init__(self, no_of_sides):\n",
        "        self.n = no_of_sides\n",
        "        self.sides = [0 for i in range(no_of_sides)]\n",
        "\n",
        "    def inputSides(self):\n",
        "        self.sides = [\n",
        "            float(input(\"Enter side \" + str(i + 1) + \" : \")) for i in range(self.n)\n",
        "        ]\n",
        "\n",
        "    def dispSides(self):\n",
        "        for i in range(self.n):\n",
        "            print(\"Side\", i + 1, \"is\", self.sides[i])\n",
        "\n",
        "\n",
        "class Triangle(Polygon):\n",
        "    def __init__(self):\n",
        "        Polygon.__init__(self, 3)\n",
        "\n",
        "    def findArea(self):\n",
        "        a, b, c = self.sides\n",
        "        # Calculate the semi-perimeter.\n",
        "        s = (a + b + c) / 2\n",
        "        area = (s * (s - a) * (s - b) * (s - c)) ** 0.5\n",
        "        print(\"The area of the triangle is %0.2f\" % area)\n",
        "\n",
        "\n",
        "if __name__ == \"__main__\":\n",
        "    t = Triangle()\n",
        "    t.inputSides()\n",
        "    t.dispSides()\n",
        "    t.findArea()"
      ],
      "metadata": {
        "id": "NOrM_1tI15OW",
        "colab": {
          "base_uri": "https://localhost:8080/"
        },
        "outputId": "08666487-3dcc-4f39-8864-9e841b684e6a"
      },
      "execution_count": 13,
      "outputs": [
        {
          "output_type": "stream",
          "name": "stdout",
          "text": [
            "Enter side 1 : 5\n",
            "Enter side 2 : 7\n",
            "Enter side 3 : 3\n",
            "Side 1 is 5.0\n",
            "Side 2 is 7.0\n",
            "Side 3 is 3.0\n",
            "The area of the triangle is 6.50\n"
          ]
        }
      ]
    },
    {
      "cell_type": "markdown",
      "source": [
        "### **Types of Inheritance in Python**"
      ],
      "metadata": {
        "id": "uuRSafFz447p"
      }
    },
    {
      "cell_type": "markdown",
      "source": [
        "**Single Inheritance:** In single inheritance, the subclass inherit the features of one superclass. In the below image, **class A** serves as a base class for the derived **class B**.\n",
        "\n",
        "![image.png](https://media.geeksforgeeks.org/wp-content/uploads/Single.jpg)"
      ],
      "metadata": {
        "id": "Ef-bqMz15Asf"
      }
    },
    {
      "cell_type": "code",
      "source": [
        "\"\"\"\n",
        "------------------------------\n",
        "Single Inheritance Syntax.\n",
        "------------------------------\n",
        "\n",
        "class BaseClass:\n",
        "    Body of base class.\n",
        "\n",
        "class DerivedClass(BaseClass):\n",
        "    Body of derived class.\n",
        "\n",
        "The derived class inherits features from the base class, where new features can be added to it. It results in the re-usability of code.\n",
        "\"\"\"\n",
        "\n",
        "# Python program to demonstrate Single Inheritance.\n",
        "\n",
        "\n",
        "class Polygon:\n",
        "    def __init__(self, no_of_sides):\n",
        "        self.n = no_of_sides\n",
        "        self.sides = [0 for i in range(no_of_sides)]\n",
        "\n",
        "    def inputSides(self):\n",
        "        self.sides = [\n",
        "            float(input(\"Enter side \" + str(i + 1) + \" : \")) for i in range(self.n)\n",
        "        ]\n",
        "\n",
        "    def dispSides(self):\n",
        "        for i in range(self.n):\n",
        "            print(\"Side\", i + 1, \"is\", self.sides[i])\n",
        "\n",
        "\n",
        "class Triangle(Polygon):\n",
        "    def __init__(self):\n",
        "        Polygon.__init__(self, 3)\n",
        "\n",
        "    def findArea(self):\n",
        "        a, b, c = self.sides\n",
        "        # Calculate the semi-perimeter.\n",
        "        s = (a + b + c) / 2\n",
        "        area = (s * (s - a) * (s - b) * (s - c)) ** 0.5\n",
        "        print(\"The area of the triangle is %0.2f\" % area)\n",
        "\n",
        "\n",
        "if __name__ == \"__main__\":\n",
        "    t = Triangle()\n",
        "    t.inputSides()\n",
        "    t.dispSides()\n",
        "    t.findArea()"
      ],
      "metadata": {
        "id": "CHxMAFYn5LXe",
        "colab": {
          "base_uri": "https://localhost:8080/"
        },
        "outputId": "fe9aa45d-79e8-447e-9a51-8ed73a8b2a6d"
      },
      "execution_count": 14,
      "outputs": [
        {
          "output_type": "stream",
          "name": "stdout",
          "text": [
            "Enter side 1 : 7\n",
            "Enter side 2 : 2\n",
            "Enter side 3 : 5\n",
            "Side 1 is 7.0\n",
            "Side 2 is 2.0\n",
            "Side 3 is 5.0\n",
            "The area of the triangle is 0.00\n"
          ]
        }
      ]
    },
    {
      "cell_type": "markdown",
      "source": [
        "**Multilevel Inheritance:** In Multilevel Inheritance, a derived class will be inheriting a base class, and this derived class also acts as the base class for other newly derived classes. In multilevel inheritance, features of the base class and the derived class get inherited into the new derived class. In the below image, **class A** serves as a base class for the derived **class B**, which in turn serves as a base class for the derived **class C**. In Python, a class cannot directly access the grandparent's members.\n",
        "\n",
        "![image.png](https://media.geeksforgeeks.org/wp-content/uploads/20200108144705/Multilevel-inheritance1.png)"
      ],
      "metadata": {
        "id": "vQK4qiX65nd4"
      }
    },
    {
      "cell_type": "code",
      "source": [
        "\"\"\"\n",
        "---------------------------------\n",
        "Multilevel Inheritance Syntax.\n",
        "---------------------------------\n",
        "\n",
        "class BaseClass:\n",
        "    Body of base class.\n",
        "\n",
        "class DerivedClass1(BaseClass):\n",
        "    Body of derived class 1.\n",
        "\n",
        "class DerivedClass2(DerivedClass1):\n",
        "    Body of derived class 2.\n",
        "\n",
        "The DerivedClass1 class is derived from the Base class, and the DerivedClass2 class is derived from the DerivedClass1 class.\n",
        "\"\"\"\n",
        "\n",
        "# Python program to demonstrate Multilevel Inheritance.\n",
        "\n",
        "\n",
        "# Base Class.\n",
        "class Grandfather:\n",
        "    def __init__(self, grandfathername):\n",
        "        self.grandfathername = grandfathername\n",
        "\n",
        "\n",
        "# Intermediate Class.\n",
        "class Father(Grandfather):\n",
        "    def __init__(self, fathername, grandfathername):\n",
        "        self.fathername = fathername\n",
        "        # Invoking Constructor of Grandfather Class.\n",
        "        Grandfather.__init__(self, grandfathername)\n",
        "\n",
        "\n",
        "# Derived Class.\n",
        "class Son(Father):\n",
        "    def __init__(self, sonname, fathername, grandfathername):\n",
        "        self.sonname = sonname\n",
        "        # Invoking Constructor of Father Class.\n",
        "        Father.__init__(self, fathername, grandfathername)\n",
        "\n",
        "    def printname(self):\n",
        "        print(\"Grandfather Name :\", self.grandfathername)\n",
        "        print(\"Father Name :\", self.fathername)\n",
        "        print(\"Son Name :\", self.sonname)\n",
        "\n",
        "\n",
        "if __name__ == \"__main__\":\n",
        "    s1 = Son(\"Aritra\", \"Ashoke\", \"Anil\")\n",
        "    print(s1.grandfathername)\n",
        "    s1.printname()"
      ],
      "metadata": {
        "id": "SLPsbXNm5yZ6",
        "colab": {
          "base_uri": "https://localhost:8080/"
        },
        "outputId": "564c6e48-4b07-4a0d-fa9a-5519bcdcad1d"
      },
      "execution_count": 15,
      "outputs": [
        {
          "output_type": "stream",
          "name": "stdout",
          "text": [
            "Anil\n",
            "Grandfather Name : Anil\n",
            "Father Name : Ashoke\n",
            "Son Name : Aritra\n"
          ]
        }
      ]
    },
    {
      "cell_type": "markdown",
      "source": [
        "**Multiple Inheritance:** In Multiple inheritances, one class can have more than one superclass and inherit features from all parent classes. In multiple inheritance, the features of all the base classes get inherited into the derived class. In the below image, **class A** and **class B** serves as a base class for the derived **class C**.\n",
        "\n",
        "![image.png](https://media.geeksforgeeks.org/wp-content/uploads/20200108144424/multiple-inheritance1.png)"
      ],
      "metadata": {
        "id": "mNTSx1tt7uqQ"
      }
    },
    {
      "cell_type": "code",
      "source": [
        "\"\"\"\n",
        "------------------------------\n",
        "Multiple Inheritance Syntax.\n",
        "------------------------------\n",
        "\n",
        "class BaseClass1:\n",
        "    Body of base class 1.\n",
        "\n",
        "class BaseClass2:\n",
        "    Body of base class 2.\n",
        "\n",
        "class MultiDerived(BaseClass1, BaseClass2):\n",
        "    Body of derived class.\n",
        "\n",
        "The MultiDerived class inherits from both BaseClass1 and BaseClass2 classes.\n",
        "\"\"\"\n",
        "\n",
        "# Python program to demonstrate Multiple Inheritance.\n",
        "\n",
        "\n",
        "# Base Class 1.\n",
        "class Mother:\n",
        "    mothername = \" \"\n",
        "\n",
        "    def mother(self):\n",
        "        print(self.mothername)\n",
        "\n",
        "\n",
        "# Base Class 2.\n",
        "class Father:\n",
        "    fathername = \" \"\n",
        "\n",
        "    def father(self):\n",
        "        print(self.fathername)\n",
        "\n",
        "\n",
        "# Derived Class.\n",
        "class Son(Mother, Father):\n",
        "    def parents(self):\n",
        "        print(\"Father Name :\", self.fathername)\n",
        "        print(\"Mother Name :\", self.mothername)\n",
        "\n",
        "\n",
        "if __name__ == \"__main__\":\n",
        "    s1 = Son()\n",
        "    s1.fathername = \"Ashoke\"\n",
        "    s1.mothername = \"Trina\"\n",
        "    s1.parents()"
      ],
      "metadata": {
        "id": "2waUZh1b8a5W",
        "colab": {
          "base_uri": "https://localhost:8080/"
        },
        "outputId": "b826e12e-ec1b-47b0-885f-84833b33557d"
      },
      "execution_count": 16,
      "outputs": [
        {
          "output_type": "stream",
          "name": "stdout",
          "text": [
            "Father Name : Ashoke\n",
            "Mother Name : Trina\n"
          ]
        }
      ]
    },
    {
      "cell_type": "markdown",
      "source": [
        "**Hierarchical Inheritance:** In Hierarchical Inheritance, one class serves as a superclass (base class) for more than one subclass. In other words, when more than one derived class gets created from a single base class, this type of inheritance is called hierarchical inheritance. In the below image, **class A** serves as a base class for the derived classes **B**, **C**, and **D**.\n",
        "\n",
        "![image.png](https://media.geeksforgeeks.org/wp-content/uploads/20200108144949/Hierarchical-inheritance1.png)"
      ],
      "metadata": {
        "id": "y7HzplZFILCp"
      }
    },
    {
      "cell_type": "code",
      "source": [
        "\"\"\"\n",
        "----------------------------------\n",
        "Hierarchical Inheritance Syntax.\n",
        "----------------------------------\n",
        "\n",
        "class BaseClass:\n",
        "    Body of base class.\n",
        "\n",
        "class DerivedClassA(BaseClass):\n",
        "    Body of derived class A.\n",
        "\n",
        "class DerivedClassB(BaseClass):\n",
        "    Body of derived class B.\n",
        "\n",
        "class DerivedClassC(BaseClass):\n",
        "    Body of derived class C.\n",
        "\"\"\"\n",
        "\n",
        "# Python program to demonstrate Hierarchical Inheritance.\n",
        "\n",
        "# Base Class.\n",
        "class Parent:\n",
        "    def func1(self):\n",
        "        print(\"This function is in the parent class.\")\n",
        "\n",
        "\n",
        "# Derived Class 1.\n",
        "class Child1(Parent):\n",
        "    def func2(self):\n",
        "        print(\"This function is in Child Class 1.\")\n",
        "\n",
        "\n",
        "# Derived Class 2.\n",
        "class Child2(Parent):\n",
        "    def func3(self):\n",
        "        print(\"This function is in Child Class 2.\")\n",
        "\n",
        "\n",
        "if __name__ == \"__main__\":\n",
        "    object1 = Child1()\n",
        "    object2 = Child2()\n",
        "    object1.func1()\n",
        "    object1.func2()\n",
        "    object2.func1()\n",
        "    object2.func3()"
      ],
      "metadata": {
        "id": "KGoqaAolWQ0j",
        "colab": {
          "base_uri": "https://localhost:8080/"
        },
        "outputId": "d0a502c4-a0c1-4779-fd8f-25644c92b230"
      },
      "execution_count": 17,
      "outputs": [
        {
          "output_type": "stream",
          "name": "stdout",
          "text": [
            "This function is in the parent class.\n",
            "This function is in Child Class 1.\n",
            "This function is in the parent class.\n",
            "This function is in Child Class 2.\n"
          ]
        }
      ]
    },
    {
      "cell_type": "markdown",
      "source": [
        "**Hybrid Inheritance:** It is a mix of two or more of the above types of inheritance. That is, Hybrid Inheritance consists of multiple types of inheritance.\n",
        "\n",
        "![image.png](https://media.geeksforgeeks.org/wp-content/uploads/inheritance-1.png)"
      ],
      "metadata": {
        "id": "MF8iLz1oviza"
      }
    },
    {
      "cell_type": "code",
      "source": [
        "\"\"\"\n",
        "-----------------------------\n",
        "Hybrid Inheritance Syntax.\n",
        "-----------------------------\n",
        "\"\"\"\n",
        "\n",
        "# Python program to demonstrate Hybrid Inheritance.\n",
        "\n",
        "\n",
        "class School:\n",
        "    def func1(self):\n",
        "        print(\"This function is in school.\")\n",
        "\n",
        "\n",
        "class Student1(School):\n",
        "    def func2(self):\n",
        "        print(\"This function is in student 1.\")\n",
        "\n",
        "\n",
        "class Student2(School):\n",
        "    def func3(self):\n",
        "        print(\"This function is in student 2.\")\n",
        "\n",
        "\n",
        "class Student3(Student1, School):\n",
        "    def func4(self):\n",
        "        print(\"This function is in student 3.\")\n",
        "\n",
        "\n",
        "if __name__ == \"__main__\":\n",
        "    object = Student3()\n",
        "    object.func1()\n",
        "    object.func2()"
      ],
      "metadata": {
        "id": "QY0NJWcjQdQ-",
        "colab": {
          "base_uri": "https://localhost:8080/"
        },
        "outputId": "f2fe8943-2c71-4e38-b8ff-fadbeb78f86f"
      },
      "execution_count": 18,
      "outputs": [
        {
          "output_type": "stream",
          "name": "stdout",
          "text": [
            "This function is in school.\n",
            "This function is in student 1.\n"
          ]
        }
      ]
    },
    {
      "cell_type": "markdown",
      "source": [
        "# **Python Encapsulation**\n",
        "\n",
        "Encapsulation means containing all important information inside an object and only exposing selected information to the outside world. Attributes and behaviors are defined by code inside the class template. Then, when an object is instantiated from the class, the data and methods are encapsulated in that object. Encapsulation hides the internal software code implementation inside a class and hides the internal data of inside objects.\n",
        "\n",
        "Encapsulation is one of the fundamental concepts in object-oriented programming (OOPs). It describes the idea of wrapping data and the methods that work on data within one unit. Encapsulation puts restrictions on accessing variables and methods directly and can prevent the accidental modification of data. To prevent accidental change, an object's variable can only be changed by an object's method. Those types of variables are known as private variables.\n",
        "\n",
        "![image.png](https://media.geeksforgeeks.org/wp-content/uploads/20191013164254/encapsulation-in-python.png)\n",
        "\n",
        "Encapsulation requires defining some fields as private, public, and protected.\n",
        "\n",
        "*   **Public members** are those members of the class that can be accessible also from outside the class. That is, all methods and properties are accessible from outside the class.\n",
        "*   **Protected members** (in C++ and JAVA) are those members of the class that cannot be accessed outside the class but can be accessed from within the class and its subclasses. That is, Protected Members are only accessible to child classes. To accomplish this in Python, we need to follow the convention by prefixing the name of the member by a **single underscore \"_\"**.\n",
        "*   **Private members** are similar to protected members, but the difference is that the class members declared private should neither be accessed outside the class nor by any base class. Private members can only be accessed from within that class. In Python, there is no existence of Private instance variables that cannot be accessed except inside a class. However, to define a private member, prefix the member name with **double underscore \"__\"**.\n",
        "\n",
        "Encapsulation allows us to hide important information that should not be changed from phishing and prevent other developers from mistakenly changing important data. Encapsulation adds security to code and makes it easier to collaborate with external developers. The benefits of encapsulation are summarized here:\n",
        "\n",
        "*   **Adds Security:** Only public methods and attributes are accessible from the outside.\n",
        "*   **Protects against common mistakes:** Only public fields and methods are accessible, which prevents developers from accidentally changing something dangerous.\n",
        "*   **Protects IP:** Code is hidden inside a class, and only public methods are accessible by the outside developers.\n",
        "*   **Supportable:** Most code undergoes updates and improvements.\n",
        "*   **Hides Complexity:** No one can see what's behind the object's curtain!"
      ],
      "metadata": {
        "id": "oHZOjbNep5zE"
      }
    },
    {
      "cell_type": "code",
      "source": [
        "# Python Program to demonstrate protected members.\n",
        "\n",
        "\n",
        "# Create a Base Class.\n",
        "class Base:\n",
        "    def __init__(self):\n",
        "        # Protected Member.\n",
        "        self._a = 2\n",
        "\n",
        "\n",
        "# Create a Derived Class.\n",
        "class Derived(Base):\n",
        "    def __init__(self):\n",
        "        # Calling Constructor of the Base Class.\n",
        "        Base.__init__(self)\n",
        "        print(\"Calling Protected Member of Base Class: \")\n",
        "        print(self._a)\n",
        "\n",
        "\n",
        "if __name__ == \"__main__\":\n",
        "    obj1 = Derived()\n",
        "    obj2 = Base()\n",
        "    # Calling the protected members outside class will result in 'AttributeError'.\n",
        "    print(obj2.a)"
      ],
      "metadata": {
        "id": "dNcFmPciABrX",
        "colab": {
          "base_uri": "https://localhost:8080/",
          "height": 236
        },
        "outputId": "b08347cc-693e-4ef5-f27f-8024c90d1193"
      },
      "execution_count": 19,
      "outputs": [
        {
          "output_type": "stream",
          "name": "stdout",
          "text": [
            "Calling Protected Member of Base Class: \n",
            "2\n"
          ]
        },
        {
          "output_type": "error",
          "ename": "AttributeError",
          "evalue": "ignored",
          "traceback": [
            "\u001b[0;31m---------------------------------------------------------------------------\u001b[0m",
            "\u001b[0;31mAttributeError\u001b[0m                            Traceback (most recent call last)",
            "\u001b[0;32m<ipython-input-19-d5f85cc89aa9>\u001b[0m in \u001b[0;36m<module>\u001b[0;34m()\u001b[0m\n\u001b[1;32m     22\u001b[0m     \u001b[0mobj2\u001b[0m \u001b[0;34m=\u001b[0m \u001b[0mBase\u001b[0m\u001b[0;34m(\u001b[0m\u001b[0;34m)\u001b[0m\u001b[0;34m\u001b[0m\u001b[0;34m\u001b[0m\u001b[0m\n\u001b[1;32m     23\u001b[0m     \u001b[0;31m# Calling the protected members outside class will result in 'AttributeError'.\u001b[0m\u001b[0;34m\u001b[0m\u001b[0;34m\u001b[0m\u001b[0;34m\u001b[0m\u001b[0m\n\u001b[0;32m---> 24\u001b[0;31m     \u001b[0mprint\u001b[0m\u001b[0;34m(\u001b[0m\u001b[0mobj2\u001b[0m\u001b[0;34m.\u001b[0m\u001b[0ma\u001b[0m\u001b[0;34m)\u001b[0m\u001b[0;34m\u001b[0m\u001b[0;34m\u001b[0m\u001b[0m\n\u001b[0m",
            "\u001b[0;31mAttributeError\u001b[0m: 'Base' object has no attribute 'a'"
          ]
        }
      ]
    },
    {
      "cell_type": "code",
      "source": [
        "# Python Program to demonstrate private members.\n",
        "\n",
        "\n",
        "# Create a Base Class.\n",
        "class Base:\n",
        "    def __init__(self):\n",
        "        self.a = \"Aritra\"\n",
        "        # Protected Member.\n",
        "        self.__c = \"Ganguly\"\n",
        "\n",
        "\n",
        "# Create a Derived Class.\n",
        "class Derived(Base):\n",
        "    def __init__(self):\n",
        "        # Calling Constructor of the Base Class.\n",
        "        Base.__init__(self)\n",
        "        print(\"Calling Private Member of Base Class: \")\n",
        "        print(self.__c)\n",
        "\n",
        "\n",
        "if __name__ == \"__main__\":\n",
        "    obj1 = Base()\n",
        "    print(obj1.a)"
      ],
      "metadata": {
        "id": "lNg_JuDazJdu",
        "colab": {
          "base_uri": "https://localhost:8080/"
        },
        "outputId": "b29824c8-00cf-4712-9920-000e1afa6f1e"
      },
      "execution_count": 20,
      "outputs": [
        {
          "output_type": "stream",
          "name": "stdout",
          "text": [
            "Aritra\n"
          ]
        }
      ]
    },
    {
      "cell_type": "markdown",
      "source": [
        "#### **Python OOPS Example - Public, Protected, and Private**"
      ],
      "metadata": {
        "id": "VP8hfg-Xt_B_"
      }
    },
    {
      "cell_type": "code",
      "source": [
        "# All the class variables are Public.\n",
        "\n",
        "class Car:\n",
        "    def __init__(self, windows, doors, enginetype):\n",
        "        self.windows = windows\n",
        "        self.doors = doors\n",
        "        self.enginetype = enginetype\n",
        "\n",
        "\n",
        "audi = Car(4, 5, \"Diesel\")\n",
        "audi.windows = 5"
      ],
      "metadata": {
        "id": "7QaDwStZt4E4"
      },
      "execution_count": 21,
      "outputs": []
    },
    {
      "cell_type": "code",
      "source": [
        "# All the class variables are Protected.\n",
        "\n",
        "class Car:\n",
        "    def __init__(self, windows, doors, enginetype):\n",
        "        self._windows = windows\n",
        "        self._doors = doors\n",
        "        self._enginetype = enginetype\n",
        "\n",
        "\n",
        "class Truck(Car):\n",
        "    def __init__(self, windows, doors, enginetype, horsepower):\n",
        "        super().__init__(windows, doors, enginetype)\n",
        "        self.horsepower = horsepower\n",
        "\n",
        "\n",
        "truck = Truck(4, 4, \"Diesel\", 4000)\n",
        "truck._doors = 5\n",
        "\n",
        "dir(truck)"
      ],
      "metadata": {
        "id": "Qk9w7d-hu0SA",
        "colab": {
          "base_uri": "https://localhost:8080/"
        },
        "outputId": "b24a926e-9c86-41ed-e343-218805d63925"
      },
      "execution_count": 22,
      "outputs": [
        {
          "output_type": "execute_result",
          "data": {
            "text/plain": [
              "['__class__',\n",
              " '__delattr__',\n",
              " '__dict__',\n",
              " '__dir__',\n",
              " '__doc__',\n",
              " '__eq__',\n",
              " '__format__',\n",
              " '__ge__',\n",
              " '__getattribute__',\n",
              " '__gt__',\n",
              " '__hash__',\n",
              " '__init__',\n",
              " '__init_subclass__',\n",
              " '__le__',\n",
              " '__lt__',\n",
              " '__module__',\n",
              " '__ne__',\n",
              " '__new__',\n",
              " '__reduce__',\n",
              " '__reduce_ex__',\n",
              " '__repr__',\n",
              " '__setattr__',\n",
              " '__sizeof__',\n",
              " '__str__',\n",
              " '__subclasshook__',\n",
              " '__weakref__',\n",
              " '_doors',\n",
              " '_enginetype',\n",
              " '_windows',\n",
              " 'horsepower']"
            ]
          },
          "metadata": {},
          "execution_count": 22
        }
      ]
    },
    {
      "cell_type": "code",
      "source": [
        "# All the class variables are Private.\n",
        "\n",
        "class Car:\n",
        "    def __init__(self, windows, doors, enginetype):\n",
        "        self.__windows = windows\n",
        "        self.__doors = doors\n",
        "        self.__enginetype = enginetype\n",
        "\n",
        "\n",
        "audi = Car(4, 4, \"Diesel\")\n",
        "audi._Car__doors = 5\n",
        "\n",
        "dir(audi)"
      ],
      "metadata": {
        "id": "X_7gN1txxnE3",
        "colab": {
          "base_uri": "https://localhost:8080/"
        },
        "outputId": "055e95a7-f855-43c3-9e3c-1ce3df6f689a"
      },
      "execution_count": 23,
      "outputs": [
        {
          "output_type": "execute_result",
          "data": {
            "text/plain": [
              "['_Car__doors',\n",
              " '_Car__enginetype',\n",
              " '_Car__windows',\n",
              " '__class__',\n",
              " '__delattr__',\n",
              " '__dict__',\n",
              " '__dir__',\n",
              " '__doc__',\n",
              " '__eq__',\n",
              " '__format__',\n",
              " '__ge__',\n",
              " '__getattribute__',\n",
              " '__gt__',\n",
              " '__hash__',\n",
              " '__init__',\n",
              " '__init_subclass__',\n",
              " '__le__',\n",
              " '__lt__',\n",
              " '__module__',\n",
              " '__ne__',\n",
              " '__new__',\n",
              " '__reduce__',\n",
              " '__reduce_ex__',\n",
              " '__repr__',\n",
              " '__setattr__',\n",
              " '__sizeof__',\n",
              " '__str__',\n",
              " '__subclasshook__',\n",
              " '__weakref__']"
            ]
          },
          "metadata": {},
          "execution_count": 23
        }
      ]
    },
    {
      "cell_type": "markdown",
      "source": [
        "# **Python Abstraction**\n",
        "\n",
        "Abstraction in Python is the process of hiding the real implementation of an application from the user and emphasizing only its usage. For example, consider you have bought a new electronic gadget. Along with the gadget, you get a user guide instructing how to use the application, but this user guide has no info regarding the internal working of the gadget. Through the process of abstraction in Python, a programmer can hide all the irrelevant data/processes of an application to reduce complexity and increase efficiency.\n",
        "\n",
        "Abstraction in Python is the process of hiding the real implementation of an application from the user and emphasizing only how to use the application. Abstraction is used to hide the internal functionality of the function from the users. The users only interact with the basic implementation of the function, but inner working is hidden. User is familiar with that \"what function does\" but they don't know \"how it does\"."
      ],
      "metadata": {
        "id": "XlteqokJDBNG"
      }
    },
    {
      "cell_type": "markdown",
      "source": [
        "# **Python Polymorphism**\n",
        "\n",
        "Polymorphism is taken from the Greek words \"**poly**\" (many) and \"**morphism**\" (forms). That is, the word polymorphism means having many forms. It means that the same function name can be used for different types. It makes programming more intuitive and easier. Polymorphism defines the ability to take different forms. Polymorphism in Python allows us to define methods in the child class with the same name as defined in their parent class.\n",
        "\n",
        "The literal meaning of polymorphism is the condition of occurrence in different forms. Polymorphism refers to the use of a single type entity (method, operator, or object) to represent different types in different scenarios. Polymorphism means designing objects to share behaviors. Using inheritance objects can override shared parent behaviors with specific child behaviors. Polymorphism allows the same method to execute different behaviors in two different ways, i.e., **method overriding** and **method overloading**.\n",
        "\n",
        "### **Reference:**\n",
        "\n",
        "> [**Polymorphism in Python - Programiz**](https://www.programiz.com/python-programming/polymorphism)"
      ],
      "metadata": {
        "id": "r39jWLpSBmI_"
      }
    },
    {
      "cell_type": "markdown",
      "source": [
        "**Example 1: Polymorphism in Addition Operator.**\n",
        "\n",
        "We know that the **+** operator is used extensively in Python programs. But, it does not have a single usage."
      ],
      "metadata": {
        "id": "C3uuKFPmI8QM"
      }
    },
    {
      "cell_type": "code",
      "source": [
        "# For integer data types, the \"+\" operator performs arithmetic addition operations. Hence, the above program outputs 3.\n",
        "num1 = 3\n",
        "num2 = 5\n",
        "print(num1 + num2)\n",
        "\n",
        "# Similarly, for string data types, the \"+\" operator is used to perform concatenation operations.\n",
        "# Hence, the above program outputs \"Python Programming\".\n",
        "str1 = \"Python\"\n",
        "str2 = \"Programming\"\n",
        "print(str1 + \" \" + str2)\n",
        "\n",
        "# Here, we can see that a single operator \"+\" has been used to carry out different operations for distinct data types.\n",
        "# It is, therefore, one of the most simple occurrences of polymorphism in Python."
      ],
      "metadata": {
        "id": "W9m_olqFG2SX",
        "colab": {
          "base_uri": "https://localhost:8080/"
        },
        "outputId": "291502fc-29f4-40a8-d00c-8d2863a90601"
      },
      "execution_count": 24,
      "outputs": [
        {
          "output_type": "stream",
          "name": "stdout",
          "text": [
            "8\n",
            "Python Programming\n"
          ]
        }
      ]
    },
    {
      "cell_type": "markdown",
      "source": [
        "**Example 2: Polymorphism in $len()$ Operator.**\n",
        "\n",
        "There are some functions in Python which are compatible to run with multiple data types. One such function is the $len()$ function. It can run with many data types in Python. Here, we can see that many data types such as string, list, tuple, set, and dictionary can work with the $len()$ function."
      ],
      "metadata": {
        "id": "vJrEZXS8c3Od"
      }
    },
    {
      "cell_type": "code",
      "source": [
        "# Python program to demonstrate in-built polymorphic functions.\n",
        "\n",
        "# The len() function being used for a string.\n",
        "print(len(\"geeks\"))\n",
        "\n",
        "# The len() function being used for a list.\n",
        "print(len([10, 20, 30]))"
      ],
      "metadata": {
        "id": "B7O9q7X3PPCi",
        "colab": {
          "base_uri": "https://localhost:8080/"
        },
        "outputId": "7b27283e-a49f-4da8-948c-76e83ce699e7"
      },
      "execution_count": 25,
      "outputs": [
        {
          "output_type": "stream",
          "name": "stdout",
          "text": [
            "5\n",
            "3\n"
          ]
        }
      ]
    },
    {
      "cell_type": "markdown",
      "source": [
        "**Function Polymorphism in Python.**"
      ],
      "metadata": {
        "id": "DOXswlasQnyK"
      }
    },
    {
      "cell_type": "code",
      "source": [
        "# Python function to demonstrate Polymorphism.\n",
        "def add(x, y, z=0):\n",
        "    return x + y + z\n",
        "\n",
        "\n",
        "print(add(2, 3))\n",
        "print(add(2, 3, 4))"
      ],
      "metadata": {
        "id": "Q0aBEgPgbwg1",
        "colab": {
          "base_uri": "https://localhost:8080/"
        },
        "outputId": "0dc36dcf-e455-4dfd-92cc-9253246b9622"
      },
      "execution_count": 26,
      "outputs": [
        {
          "output_type": "stream",
          "name": "stdout",
          "text": [
            "5\n",
            "9\n"
          ]
        }
      ]
    },
    {
      "cell_type": "markdown",
      "source": [
        "**Class Polymorphism in Python.**\n",
        "\n",
        "The below code shows how Python can use two different class types in the same way. We create a $for()$ loop that iterates through a tuple of objects. Then call the methods without being concerned about which class type each object is. We assume that these methods exist in each class. We can use the concept of polymorphism while creating class methods, as Python allows different classes to have methods with the same name. We can later generalize calling these methods by disregarding the object we are working with."
      ],
      "metadata": {
        "id": "mZTor4WmcJmf"
      }
    },
    {
      "cell_type": "code",
      "source": [
        "\"\"\"\n",
        "Here, we have created two classes Cat and Dog. They share a similar structure and have the same method names info() and make_sound().\n",
        "However, notice that we have not created a common superclass or linked the classes together in any way. Even then, we can pack these \n",
        "two different objects into a tuple and iterate through it using a common animal variable. It is possible due to polymorphism.\n",
        "\"\"\"\n",
        "\n",
        "\n",
        "class Cat:\n",
        "    def __init__(self, name, age):\n",
        "        self.name = name\n",
        "        self.age = age\n",
        "\n",
        "    def info(self):\n",
        "        print(f\"I am a cat. My name is {self.name}. I am {self.age} years old.\")\n",
        "\n",
        "    def make_sound(self):\n",
        "        print(\"Meow\")\n",
        "\n",
        "\n",
        "class Dog:\n",
        "    def __init__(self, name, age):\n",
        "        self.name = name\n",
        "        self.age = age\n",
        "\n",
        "    def info(self):\n",
        "        print(f\"I am a dog. My name is {self.name}. I am {self.age} years old.\")\n",
        "\n",
        "    def make_sound(self):\n",
        "        print(\"Bark\")\n",
        "\n",
        "\n",
        "if __name__ == \"__main__\":\n",
        "    cat1 = Cat(\"Kitty\", 2.5)\n",
        "    dog1 = Dog(\"Fluffy\", 4)\n",
        "\n",
        "    for animal in (cat1, dog1):\n",
        "        animal.make_sound()\n",
        "        animal.info()\n",
        "        animal.make_sound()"
      ],
      "metadata": {
        "id": "Of9zQsvucLGF",
        "colab": {
          "base_uri": "https://localhost:8080/"
        },
        "outputId": "1df61a09-0d26-416e-d3c3-35fa90721792"
      },
      "execution_count": 27,
      "outputs": [
        {
          "output_type": "stream",
          "name": "stdout",
          "text": [
            "Meow\n",
            "I am a cat. My name is Kitty. I am 2.5 years old.\n",
            "Meow\n",
            "Bark\n",
            "I am a dog. My name is Fluffy. I am 4 years old.\n",
            "Bark\n"
          ]
        }
      ]
    },
    {
      "cell_type": "markdown",
      "source": [
        "**Polymorphism and Inheritance in Python.**\n",
        "\n",
        "In other programming languages, the child classes in Python also inherit methods and attributes from the parent class. We can redefine certain methods and attributes specifically to fit the child class, which is known as **Method Overriding**. Polymorphism allows us to access these overridden methods and attributes that have the same name as the parent class."
      ],
      "metadata": {
        "id": "tDgz1jI-D6E8"
      }
    },
    {
      "cell_type": "code",
      "source": [
        "# Method Overriding.\n",
        "\n",
        "from math import pi\n",
        "\n",
        "\n",
        "class Shape:\n",
        "    def __init__(self, name):\n",
        "        self.name = name\n",
        "\n",
        "    def area(self):\n",
        "        pass\n",
        "\n",
        "    def fact(self):\n",
        "        return \"I am a two-dimensional shape.\"\n",
        "\n",
        "    def __str__(self):\n",
        "        return self.name\n",
        "\n",
        "\n",
        "class Square(Shape):\n",
        "    def __init__(self, length):\n",
        "        super().__init__(\"Square\")\n",
        "        self.length = length\n",
        "\n",
        "    def area(self):\n",
        "        return self.length**2\n",
        "\n",
        "    def fact(self):\n",
        "        return \"Squares have each angle equal to 90 degrees.\"\n",
        "\n",
        "\n",
        "class Circle(Shape):\n",
        "    def __init__(self, radius):\n",
        "        super().__init__(\"Circle\")\n",
        "        self.radius = radius\n",
        "\n",
        "    def area(self):\n",
        "        return pi * self.radius**2\n",
        "\n",
        "\n",
        "if __name__ == \"__main__\":\n",
        "    a = Square(4)\n",
        "    b = Circle(7)\n",
        "    print(b)\n",
        "    print(b.fact())\n",
        "    print(a.fact())\n",
        "    print(b.area())"
      ],
      "metadata": {
        "id": "66XP2rtxFCCh",
        "colab": {
          "base_uri": "https://localhost:8080/"
        },
        "outputId": "7dc503fe-ee50-4829-a79b-3a7d1e47f0db"
      },
      "execution_count": 28,
      "outputs": [
        {
          "output_type": "stream",
          "name": "stdout",
          "text": [
            "Circle\n",
            "I am a two-dimensional shape.\n",
            "Squares have each angle equal to 90 degrees.\n",
            "153.93804002589985\n"
          ]
        }
      ]
    },
    {
      "cell_type": "markdown",
      "source": [
        "Here, we see that the methods such as $\\_\\_str\\_\\_()$, which have not been overridden in the child classes, are used from the parent class. Due to polymorphism, the Python interpreter automatically recognizes that the **fact()** method for object **a** ($Square$ class) is overridden. So, it uses the one defined in the child class. On the contrary, since the **fact()** method for object **b** isn't overridden, it is used from the Parent $Shape$ class.\n",
        "\n",
        "**Method Overloading** is a way to create multiple methods with the same name, but different arguments are not supported in Python.\n",
        "\n",
        "# **References**\n",
        "\n",
        "> [Python Operator Overloading - Programiz](https://www.programiz.com/python-programming/operator-overloading)"
      ],
      "metadata": {
        "id": "0bR_TYDWG8gq"
      }
    }
  ]
}