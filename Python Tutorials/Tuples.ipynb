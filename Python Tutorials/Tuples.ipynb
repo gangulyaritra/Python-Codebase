{
  "nbformat": 4,
  "nbformat_minor": 0,
  "metadata": {
    "colab": {
      "name": "Tuples.ipynb",
      "provenance": [],
      "collapsed_sections": []
    },
    "kernelspec": {
      "name": "python3",
      "display_name": "Python 3"
    },
    "language_info": {
      "name": "python"
    }
  },
  "cells": [
    {
      "cell_type": "markdown",
      "metadata": {
        "id": "3ryNFTBpsmCJ"
      },
      "source": [
        "# **Python Tuples**\n",
        "\n",
        "Tuples are immutable and typically store **heterogeneous** data, but the data can be **homogeneous**. A tuple's length is its number of elements and cannot change during program execution. A tuple is a collection of objects which ordered and immutable. Tuples are sequences, just like lists.\n",
        "\n",
        "Python tuples are a data structure that stores an ordered sequence of values. Tuples are immutable. It means we cannot change the values in a tuple. Tuples are defined with parenthesis.\n",
        "\n",
        "### **References:** \n",
        "\n",
        "> [**Python Tuples - Programiz**](https://www.programiz.com/python-programming/tuple)"
      ]
    },
    {
      "cell_type": "markdown",
      "metadata": {
        "id": "MOM34-v_tAxR"
      },
      "source": [
        "### **Create Tuples**\n",
        "\n",
        "A tuple is created by placing all the items (elements) inside parentheses \"$( )$\" separated by commas. The parentheses are optional. However, it is a good practice to use them. A tuple can have any number of items and may be of different types (integer, float, list, string, etc.)."
      ]
    },
    {
      "cell_type": "code",
      "metadata": {
        "id": "L0Y_hMnFqb2l",
        "colab": {
          "base_uri": "https://localhost:8080/"
        },
        "outputId": "f1a56746-5895-4b15-f49f-26689f38bf94"
      },
      "source": [
        "# To create an empty tuple, use empty parentheses.\n",
        "my_tuple = ()\n",
        "print(my_tuple)"
      ],
      "execution_count": 1,
      "outputs": [
        {
          "output_type": "stream",
          "name": "stdout",
          "text": [
            "()\n"
          ]
        }
      ]
    },
    {
      "cell_type": "code",
      "metadata": {
        "id": "LhOgu0QruUje",
        "colab": {
          "base_uri": "https://localhost:8080/"
        },
        "outputId": "1d3bc1a9-c5df-495b-dbea-064ad39a969d"
      },
      "source": [
        "print(len(my_tuple))\n",
        "print(type(my_tuple))"
      ],
      "execution_count": 2,
      "outputs": [
        {
          "output_type": "stream",
          "name": "stdout",
          "text": [
            "0\n",
            "<class 'tuple'>\n"
          ]
        }
      ]
    },
    {
      "cell_type": "code",
      "metadata": {
        "id": "o79JMz_quva1",
        "colab": {
          "base_uri": "https://localhost:8080/"
        },
        "outputId": "a54d7c75-fe67-469e-ec26-25b88f49e17b"
      },
      "source": [
        "# Create Tuples with mixed datatype.\n",
        "new_tuple = (1, \"Hello\", 3.4)\n",
        "\n",
        "print(new_tuple)\n",
        "print(len(new_tuple))"
      ],
      "execution_count": 3,
      "outputs": [
        {
          "output_type": "stream",
          "name": "stdout",
          "text": [
            "(1, 'Hello', 3.4)\n",
            "3\n"
          ]
        }
      ]
    },
    {
      "cell_type": "markdown",
      "metadata": {
        "id": "Iiwd644yKzNe"
      },
      "source": [
        "**Tuples May Contain Mutable Objects.**"
      ]
    },
    {
      "cell_type": "code",
      "metadata": {
        "id": "QFsmjGMgvN2N",
        "colab": {
          "base_uri": "https://localhost:8080/"
        },
        "outputId": "7d7aa26e-90a1-43dc-d32a-503302220ca2"
      },
      "source": [
        "# Nested Tuple.\n",
        "nested_tuple = (\"mouse\", [8, 4, 6], (1, 2, 3))\n",
        "\n",
        "print(nested_tuple)\n",
        "print(len(nested_tuple))"
      ],
      "execution_count": 4,
      "outputs": [
        {
          "output_type": "stream",
          "name": "stdout",
          "text": [
            "('mouse', [8, 4, 6], (1, 2, 3))\n",
            "3\n"
          ]
        }
      ]
    },
    {
      "cell_type": "markdown",
      "metadata": {
        "id": "YNPW1wgsw7fk"
      },
      "source": [
        "A tuple can also be created without using parentheses. This process is known as **tuple packing**."
      ]
    },
    {
      "cell_type": "code",
      "metadata": {
        "id": "1UhQpUkrvqCO",
        "colab": {
          "base_uri": "https://localhost:8080/"
        },
        "outputId": "e2e23fb8-a1c9-421f-f9a8-9b1f280e56d4"
      },
      "source": [
        "mytuple = 3, 4.6, \"dog\"\n",
        "print(mytuple)"
      ],
      "execution_count": 5,
      "outputs": [
        {
          "output_type": "stream",
          "name": "stdout",
          "text": [
            "(3, 4.6, 'dog')\n"
          ]
        }
      ]
    },
    {
      "cell_type": "code",
      "metadata": {
        "id": "oS5gwuYixJoy",
        "colab": {
          "base_uri": "https://localhost:8080/"
        },
        "outputId": "80e602e1-668a-4e50-9f0c-68f70d543fa8"
      },
      "source": [
        "# Tuple unpacking is also possible.\n",
        "a, b, c = mytuple\n",
        "print(a)\n",
        "print(b)\n",
        "print(c)"
      ],
      "execution_count": 6,
      "outputs": [
        {
          "output_type": "stream",
          "name": "stdout",
          "text": [
            "3\n",
            "4.6\n",
            "dog\n"
          ]
        }
      ]
    },
    {
      "cell_type": "markdown",
      "metadata": {
        "id": "iZnthojvyeNu"
      },
      "source": [
        "Creating a tuple with one element is a bit tricky. Having only a single element within parentheses is not enough. We will need a trailing comma $(,)$ to indicate that it is, in fact, a tuple."
      ]
    },
    {
      "cell_type": "code",
      "metadata": {
        "id": "usacPrUpyhMU",
        "colab": {
          "base_uri": "https://localhost:8080/"
        },
        "outputId": "40e79835-6289-4404-b7d0-df6c5c73bcec"
      },
      "source": [
        "onetuple = \"hello\"\n",
        "print(type(onetuple))  # <class 'str'>\n",
        "\n",
        "# Creating a tuple having one element.\n",
        "onetuple = (\"hello\",)\n",
        "print(type(onetuple))  # <class 'tuple'>\n",
        "\n",
        "# Parentheses is Optional.\n",
        "onetuple = (\"hello\",)\n",
        "print(type(onetuple))  # <class 'tuple'>"
      ],
      "execution_count": 7,
      "outputs": [
        {
          "output_type": "stream",
          "name": "stdout",
          "text": [
            "<class 'str'>\n",
            "<class 'tuple'>\n",
            "<class 'tuple'>\n"
          ]
        }
      ]
    },
    {
      "cell_type": "markdown",
      "metadata": {
        "id": "spLhZ-ju0iI6"
      },
      "source": [
        "### **Accessing Tuple Elements**\n",
        "\n",
        "A tuple's elements, though related, are often of multiple types. Usually, we do not iterate over them. Rather, we access each element individually. Like list indices, tuple indices start at 0.\n",
        "\n",
        "We can use the index operator $\\left [ \\mbox{ } \\right ]$ to access an item in a tuple, where the index starts from 0. So, a tuple having 6 elements will have indices from 0 to 5. Trying to access an index outside of the tuple index range will raise an $IndexError$. The index must be an integer, so we cannot use float or other types. It will result in $TypeError$."
      ]
    },
    {
      "cell_type": "code",
      "metadata": {
        "id": "S2c5dTFN0gzT",
        "colab": {
          "base_uri": "https://localhost:8080/"
        },
        "outputId": "988ba2aa-b038-4b67-897a-483ba492a783"
      },
      "source": [
        "# Access tuple elements using indexing.\n",
        "my_name = (\"a\", \"r\", \"i\", \"t\", \"r\", \"a\")\n",
        "\n",
        "print(my_name[0])\n",
        "print(my_name[2])"
      ],
      "execution_count": 8,
      "outputs": [
        {
          "output_type": "stream",
          "name": "stdout",
          "text": [
            "a\n",
            "i\n"
          ]
        }
      ]
    },
    {
      "cell_type": "code",
      "metadata": {
        "id": "PwOU4VCF2gFU",
        "colab": {
          "base_uri": "https://localhost:8080/",
          "height": 166
        },
        "outputId": "fb7257d2-46af-47db-c043-6166f59efc9a"
      },
      "source": [
        "print(my_name[6])  # Index Error."
      ],
      "execution_count": 9,
      "outputs": [
        {
          "output_type": "error",
          "ename": "IndexError",
          "evalue": "ignored",
          "traceback": [
            "\u001b[0;31m---------------------------------------------------------------------------\u001b[0m",
            "\u001b[0;31mIndexError\u001b[0m                                Traceback (most recent call last)",
            "\u001b[0;32m<ipython-input-9-9c785c7dbaf7>\u001b[0m in \u001b[0;36m<module>\u001b[0;34m()\u001b[0m\n\u001b[0;32m----> 1\u001b[0;31m \u001b[0mprint\u001b[0m\u001b[0;34m(\u001b[0m\u001b[0mmy_name\u001b[0m\u001b[0;34m[\u001b[0m\u001b[0;36m6\u001b[0m\u001b[0;34m]\u001b[0m\u001b[0;34m)\u001b[0m  \u001b[0;31m# Index Error.\u001b[0m\u001b[0;34m\u001b[0m\u001b[0;34m\u001b[0m\u001b[0m\n\u001b[0m",
            "\u001b[0;31mIndexError\u001b[0m: tuple index out of range"
          ]
        }
      ]
    },
    {
      "cell_type": "code",
      "metadata": {
        "id": "3C9FQhTm2j9R",
        "colab": {
          "base_uri": "https://localhost:8080/",
          "height": 166
        },
        "outputId": "2af11a48-5a1d-4f23-b293-ba4b2c958cf8"
      },
      "source": [
        "print(my_name[2.0])  # Index Error."
      ],
      "execution_count": 10,
      "outputs": [
        {
          "output_type": "error",
          "ename": "TypeError",
          "evalue": "ignored",
          "traceback": [
            "\u001b[0;31m---------------------------------------------------------------------------\u001b[0m",
            "\u001b[0;31mTypeError\u001b[0m                                 Traceback (most recent call last)",
            "\u001b[0;32m<ipython-input-10-f71665ff799a>\u001b[0m in \u001b[0;36m<module>\u001b[0;34m()\u001b[0m\n\u001b[0;32m----> 1\u001b[0;31m \u001b[0mprint\u001b[0m\u001b[0;34m(\u001b[0m\u001b[0mmy_name\u001b[0m\u001b[0;34m[\u001b[0m\u001b[0;36m2.0\u001b[0m\u001b[0;34m]\u001b[0m\u001b[0;34m)\u001b[0m  \u001b[0;31m# Index Error.\u001b[0m\u001b[0;34m\u001b[0m\u001b[0;34m\u001b[0m\u001b[0m\n\u001b[0m",
            "\u001b[0;31mTypeError\u001b[0m: tuple indices must be integers or slices, not float"
          ]
        }
      ]
    },
    {
      "cell_type": "code",
      "metadata": {
        "id": "bEZ8aYL_5laB",
        "colab": {
          "base_uri": "https://localhost:8080/"
        },
        "outputId": "b8781bab-1057-4f46-c4ff-95a8ed5b53ab"
      },
      "source": [
        "# Access nested tuple elements using indexing.\n",
        "nested_tuple = (\"mouse\", [8, 4, 6], (1, 2, 3))\n",
        "\n",
        "print(nested_tuple[0][3])\n",
        "print(nested_tuple[1][1])"
      ],
      "execution_count": 11,
      "outputs": [
        {
          "output_type": "stream",
          "name": "stdout",
          "text": [
            "s\n",
            "4\n"
          ]
        }
      ]
    },
    {
      "cell_type": "markdown",
      "metadata": {
        "id": "uWyEppEaAfHe"
      },
      "source": [
        "### **Add Items to a String or Tuple**\n",
        "\n",
        "As with lists, the $+=$ augmented assignment statement can be used with strings and tuples, even though they're **immutable**."
      ]
    },
    {
      "cell_type": "code",
      "metadata": {
        "id": "V5RqIkXWAfez",
        "colab": {
          "base_uri": "https://localhost:8080/"
        },
        "outputId": "8a2858c2-9ee8-4b0a-a568-673b673988e0"
      },
      "source": [
        "tuple1 = (10, 20, 30)\n",
        "\n",
        "tuple2 = tuple1\n",
        "\n",
        "print(tuple2)\n",
        "\n",
        "# Concatenate the tuple (40, 50) to tuple1 to create a new tuple.\n",
        "# For a string or tuple, the item to the right of += must be a string or tuple, respectively.\n",
        "\n",
        "tuple1 += (40, 50)\n",
        "\n",
        "print(tuple1)"
      ],
      "execution_count": 12,
      "outputs": [
        {
          "output_type": "stream",
          "name": "stdout",
          "text": [
            "(10, 20, 30)\n",
            "(10, 20, 30, 40, 50)\n"
          ]
        }
      ]
    },
    {
      "cell_type": "markdown",
      "metadata": {
        "id": "yb5-pt13LM2b"
      },
      "source": [
        "**Append Tuples to Lists**\n",
        "\n",
        "We can use $+=$ to append a tuple to a list."
      ]
    },
    {
      "cell_type": "code",
      "metadata": {
        "id": "7tQDF3QbLMFs",
        "colab": {
          "base_uri": "https://localhost:8080/"
        },
        "outputId": "b3075101-5385-4f1b-ef9f-8c8b599b53c0"
      },
      "source": [
        "numbers = [1, 2, 3, 4, 5]\n",
        "\n",
        "numbers += (6, 7)\n",
        "\n",
        "numbers"
      ],
      "execution_count": 13,
      "outputs": [
        {
          "output_type": "execute_result",
          "data": {
            "text/plain": [
              "[1, 2, 3, 4, 5, 6, 7]"
            ]
          },
          "metadata": {},
          "execution_count": 13
        }
      ]
    },
    {
      "cell_type": "markdown",
      "metadata": {
        "id": "eTdNJRnP_ITO"
      },
      "source": [
        "### **Negative Indexing**\n",
        "\n",
        "Python allows negative indexing for its sequences. The index of -1 refers to the last item, -2 to the second last item, and so on."
      ]
    },
    {
      "cell_type": "code",
      "metadata": {
        "id": "Je_wNmbX_e7e",
        "colab": {
          "base_uri": "https://localhost:8080/"
        },
        "outputId": "2a047cf7-ba41-4d13-dcf7-cc09ccd25e3c"
      },
      "source": [
        "my_name = (\"a\", \"r\", \"i\", \"t\", \"r\", \"a\")\n",
        "\n",
        "print(my_name[-1])    # Prints 'a'.\n",
        "print(my_name[-4])    # Prints 'i'.\n",
        "print(my_name[-3:-1])"
      ],
      "execution_count": 14,
      "outputs": [
        {
          "output_type": "stream",
          "name": "stdout",
          "text": [
            "a\n",
            "i\n",
            "('t', 'r')\n"
          ]
        }
      ]
    },
    {
      "cell_type": "markdown",
      "metadata": {
        "id": "PbmSWwsnA5hC"
      },
      "source": [
        "### **Tuple Slicing**\n",
        "\n",
        "Python can access a range of items in a tuple by using the slicing operator colon \"$:$\" and the index **[ ]** operator. The indexing and slicing in the tuple are similar to lists. The indexing in the tuple starts from 0 and goes to $length(tuple) - 1$.\n",
        "\n",
        "Consider the following image to understand the indexing and slicing in detail. Slicing can be best visualized by considering the index to be between the elements as shown below.\n",
        "\n",
        "![image.png](https://static.javatpoint.com/python/images/tuple-indexing-and-splitting.png)"
      ]
    },
    {
      "cell_type": "code",
      "metadata": {
        "id": "WpwqVOcKBaS3",
        "colab": {
          "base_uri": "https://localhost:8080/"
        },
        "outputId": "eb473bf2-52fa-44ca-ab4c-868fe748b59a"
      },
      "source": [
        "# Access tuple elements using Slicing.\n",
        "name_tuple = (\"a\", \"r\", \"i\", \"t\", \"r\", \"a\", \"\", \"g\", \"a\", \"n\", \"g\", \"u\", \"l\", \"y\")\n",
        "\n",
        "# Access tuple elements from 2nd to 4th.\n",
        "print(name_tuple[1:4])  # Output: ('r', 'i', 't')\n",
        "\n",
        "# Access first 7 tuple elements.\n",
        "print(name_tuple[:-7])  # Output: ('a', 'r', 'i', 't', 'r', 'a', '')\n",
        "\n",
        "# Access 8th to end tuple elements.\n",
        "print(name_tuple[7:])  # Output: ('g', 'a', 'n', 'g', 'u', 'l', 'y')\n",
        "\n",
        "# Access all tuple elements.\n",
        "print(name_tuple[:])  # Output: ('a','r','i','t','r','a', '', 'g', 'a', 'n', 'g', 'u', 'l', 'y')"
      ],
      "execution_count": 15,
      "outputs": [
        {
          "output_type": "stream",
          "name": "stdout",
          "text": [
            "('r', 'i', 't')\n",
            "('a', 'r', 'i', 't', 'r', 'a', '')\n",
            "('g', 'a', 'n', 'g', 'u', 'l', 'y')\n",
            "('a', 'r', 'i', 't', 'r', 'a', '', 'g', 'a', 'n', 'g', 'u', 'l', 'y')\n"
          ]
        }
      ]
    },
    {
      "cell_type": "markdown",
      "metadata": {
        "id": "MlywRpVwRgBL"
      },
      "source": [
        "### **Deleting a Tuple**\n",
        "\n",
        "As discussed earlier, we cannot change the elements in a tuple. It means that we cannot delete or remove items from a tuple. Deleting a tuple entirely, however, is possible using the keyword \"$del$\". Unlike lists, the tuple elements can't be deleted by using the \"$del$\" keyword as tuples are immutable."
      ]
    },
    {
      "cell_type": "code",
      "metadata": {
        "id": "MHiSGeiiIUEH",
        "colab": {
          "base_uri": "https://localhost:8080/",
          "height": 201
        },
        "outputId": "2887f300-e229-4af1-e350-19e384d4e80b"
      },
      "source": [
        "my_tuple = (\"a\", \"r\", \"i\", \"t\", \"r\", \"a\")\n",
        "\n",
        "# Delete an entire tuple.\n",
        "del my_tuple\n",
        "\n",
        "# NameError: name \"my_tuple\" is not defined.\n",
        "print(my_tuple)"
      ],
      "execution_count": 16,
      "outputs": [
        {
          "output_type": "error",
          "ename": "NameError",
          "evalue": "ignored",
          "traceback": [
            "\u001b[0;31m---------------------------------------------------------------------------\u001b[0m",
            "\u001b[0;31mNameError\u001b[0m                                 Traceback (most recent call last)",
            "\u001b[0;32m<ipython-input-16-4d6493db3bf5>\u001b[0m in \u001b[0;36m<module>\u001b[0;34m()\u001b[0m\n\u001b[1;32m      5\u001b[0m \u001b[0;34m\u001b[0m\u001b[0m\n\u001b[1;32m      6\u001b[0m \u001b[0;31m# NameError: name \"my_tuple\" is not defined.\u001b[0m\u001b[0;34m\u001b[0m\u001b[0;34m\u001b[0m\u001b[0;34m\u001b[0m\u001b[0m\n\u001b[0;32m----> 7\u001b[0;31m \u001b[0mprint\u001b[0m\u001b[0;34m(\u001b[0m\u001b[0mmy_tuple\u001b[0m\u001b[0;34m)\u001b[0m\u001b[0;34m\u001b[0m\u001b[0;34m\u001b[0m\u001b[0m\n\u001b[0m",
            "\u001b[0;31mNameError\u001b[0m: name 'my_tuple' is not defined"
          ]
        }
      ]
    },
    {
      "cell_type": "markdown",
      "metadata": {
        "id": "AGdXYvPUhAGV"
      },
      "source": [
        "### **Changing a Tuple**\n",
        "\n",
        "Unlike lists, tuples are immutable. It means that the elements of a tuple cannot be changed, once they are assigned. But, if the element is itself a mutable data type as a list, its nested items can be changed. We can also assign a tuple to different values (reassignment)."
      ]
    },
    {
      "cell_type": "code",
      "metadata": {
        "id": "7HQixzRWhGY7"
      },
      "source": [
        "my_tuple = (4, 2, 3, [6, 5])"
      ],
      "execution_count": 17,
      "outputs": []
    },
    {
      "cell_type": "code",
      "metadata": {
        "id": "yGSdIChy0oF2",
        "colab": {
          "base_uri": "https://localhost:8080/",
          "height": 184
        },
        "outputId": "0bbb9ee6-c21d-4d0b-b68d-f731cd4afefa"
      },
      "source": [
        "# TypeError: 'tuple' object does not support item assignment.\n",
        "my_tuple[1] = 9"
      ],
      "execution_count": 18,
      "outputs": [
        {
          "output_type": "error",
          "ename": "TypeError",
          "evalue": "ignored",
          "traceback": [
            "\u001b[0;31m---------------------------------------------------------------------------\u001b[0m",
            "\u001b[0;31mTypeError\u001b[0m                                 Traceback (most recent call last)",
            "\u001b[0;32m<ipython-input-18-3391f7ca49d0>\u001b[0m in \u001b[0;36m<module>\u001b[0;34m()\u001b[0m\n\u001b[1;32m      1\u001b[0m \u001b[0;31m# TypeError: 'tuple' object does not support item assignment.\u001b[0m\u001b[0;34m\u001b[0m\u001b[0;34m\u001b[0m\u001b[0;34m\u001b[0m\u001b[0m\n\u001b[0;32m----> 2\u001b[0;31m \u001b[0mmy_tuple\u001b[0m\u001b[0;34m[\u001b[0m\u001b[0;36m1\u001b[0m\u001b[0;34m]\u001b[0m \u001b[0;34m=\u001b[0m \u001b[0;36m9\u001b[0m\u001b[0;34m\u001b[0m\u001b[0;34m\u001b[0m\u001b[0m\n\u001b[0m",
            "\u001b[0;31mTypeError\u001b[0m: 'tuple' object does not support item assignment"
          ]
        }
      ]
    },
    {
      "cell_type": "code",
      "metadata": {
        "id": "PuqFuer30uWc",
        "colab": {
          "base_uri": "https://localhost:8080/"
        },
        "outputId": "6eeaabb6-56d4-4fd3-a06d-bd1870aa5bdf"
      },
      "source": [
        "# However, item of mutable element can be changed.\n",
        "my_tuple[3][0] = 9  # Output: (4, 2, 3, [9, 5])\n",
        "print(my_tuple)"
      ],
      "execution_count": 19,
      "outputs": [
        {
          "output_type": "stream",
          "name": "stdout",
          "text": [
            "(4, 2, 3, [9, 5])\n"
          ]
        }
      ]
    },
    {
      "cell_type": "markdown",
      "metadata": {
        "id": "SLZX0GkU1fPM"
      },
      "source": [
        "We can use the $+$ operator to combine two tuples. This process is called **concatenation**.\n",
        "\n",
        "We can also repeat the elements in a tuple for a given number of times using the $*$ operator.\n",
        "\n",
        "Both $+$ and $*$ operations result in a new tuple."
      ]
    },
    {
      "cell_type": "code",
      "metadata": {
        "id": "lvjhB8ya1uIi",
        "colab": {
          "base_uri": "https://localhost:8080/"
        },
        "outputId": "d612ae7a-4adf-429b-99e8-738f75b261c4"
      },
      "source": [
        "# Tuple Concatenation.\n",
        "X = (1, \"A\", 2.1)\n",
        "Y = (\"Q\", 9.5, 4)\n",
        "Z = X + Y\n",
        "print(Z)"
      ],
      "execution_count": 20,
      "outputs": [
        {
          "output_type": "stream",
          "name": "stdout",
          "text": [
            "(1, 'A', 2.1, 'Q', 9.5, 4)\n"
          ]
        }
      ]
    },
    {
      "cell_type": "code",
      "metadata": {
        "id": "ue1oPrF-2TCS",
        "colab": {
          "base_uri": "https://localhost:8080/"
        },
        "outputId": "536dba1f-d817-49af-a91b-b6325f263169"
      },
      "source": [
        "# The repetition operator \"*\" enables the tuple elements to be repeated multiple times.\n",
        "I = (\"Repeat\",)\n",
        "J = I * 3\n",
        "print(J)"
      ],
      "execution_count": 21,
      "outputs": [
        {
          "output_type": "stream",
          "name": "stdout",
          "text": [
            "('Repeat', 'Repeat', 'Repeat')\n"
          ]
        }
      ]
    },
    {
      "cell_type": "markdown",
      "metadata": {
        "id": "1AmtUt0v7p9L"
      },
      "source": [
        "### **Tuple Methods**\n",
        "\n",
        "Methods that add items or remove items are not available with tuples. Only the following two methods are available."
      ]
    },
    {
      "cell_type": "code",
      "metadata": {
        "id": "uVFFI8ZX7nu1",
        "colab": {
          "base_uri": "https://localhost:8080/"
        },
        "outputId": "035a1950-b54a-4c01-98ca-dae2f8d393f1"
      },
      "source": [
        "my_name = (\"a\", \"r\", \"i\", \"t\", \"r\", \"a\")\n",
        "\n",
        "print(my_name.count(\"a\"))  # Output: '2'\n",
        "print(my_name.index(\"t\"))  # Output: '3'"
      ],
      "execution_count": 22,
      "outputs": [
        {
          "output_type": "stream",
          "name": "stdout",
          "text": [
            "2\n",
            "3\n"
          ]
        }
      ]
    },
    {
      "cell_type": "markdown",
      "metadata": {
        "id": "7o_EoOqU9hw7"
      },
      "source": [
        "### **Other Tuple Operations**"
      ]
    },
    {
      "cell_type": "markdown",
      "metadata": {
        "id": "gOh16A6b_dyu"
      },
      "source": [
        "**1. Tuple Membership Test**\n",
        "\n",
        "We can test if an item exists in a tuple or not by using the keyword \"$in$\"."
      ]
    },
    {
      "cell_type": "code",
      "metadata": {
        "id": "ZyIHrLep9g8c",
        "colab": {
          "base_uri": "https://localhost:8080/"
        },
        "outputId": "24b98230-a58b-4d0e-d462-21d77ae3fe3c"
      },
      "source": [
        "# Membership test in the tuple.\n",
        "my_name = (\"a\", \"r\", \"i\", \"t\", \"r\", \"a\")\n",
        "\n",
        "# In Operation.\n",
        "print(\"a\" in my_name)\n",
        "print(\"q\" in my_name)\n",
        "\n",
        "# Not in Operation.\n",
        "print(\"g\" not in my_name)"
      ],
      "execution_count": 23,
      "outputs": [
        {
          "output_type": "stream",
          "name": "stdout",
          "text": [
            "True\n",
            "False\n",
            "True\n"
          ]
        }
      ]
    },
    {
      "cell_type": "markdown",
      "metadata": {
        "id": "jckWnxdV_kLc"
      },
      "source": [
        "**2. Iterate through a Tuple**\n",
        "\n",
        "We can use a $for()$ loop to iterate through each item in a tuple."
      ]
    },
    {
      "cell_type": "code",
      "metadata": {
        "id": "DtrI6VcI_jXj",
        "colab": {
          "base_uri": "https://localhost:8080/"
        },
        "outputId": "3ed8b6b9-8291-4a6f-99c0-d9325bd378b8"
      },
      "source": [
        "# Use a for() loop to iterate through a tuple.\n",
        "for name in (\"Aritra\", \"Ganguly\"):\n",
        "    print(\"Hello\", name)"
      ],
      "execution_count": 24,
      "outputs": [
        {
          "output_type": "stream",
          "name": "stdout",
          "text": [
            "Hello Aritra\n",
            "Hello Ganguly\n"
          ]
        }
      ]
    },
    {
      "cell_type": "markdown",
      "metadata": {
        "id": "xT8Vna3sES7j"
      },
      "source": [
        "## **Python Tuple Inbuilt Functions**\n",
        "\n",
        "*   **$cmp(tuple1, tuple2)$:** It compares two tuples and returns **True** if $tuple1$ is greater than $tuple2$, or otherwise **False**.\n",
        "*   **$len(tuple)$:** It calculates the length of the tuple.\n",
        "*   **$max(tuple)$:** It returns the maximum element of the tuple.\n",
        "*   **$min(tuple)$:** It returns the minimum element of the tuple.\n",
        "*   **$tuple(seq)$:** It converts the specified sequence to the tuple.\n",
        "\n",
        "## **Advantages of Tuple over List**\n",
        "\n",
        "Since tuples are very similar to lists, therefore both are used in similar situations. However, there are certain advantages of implementing a tuple over a list. Below listed are some of the main advantages:\n",
        "\n",
        "*   *We generally use tuples for heterogeneous (different) data types and lists for homogeneous (similar) data types.*\n",
        "*   *Since tuples are immutable, iterating through a tuple is faster than with a list. So there is a slight performance boost.*\n",
        "*   *Tuples that contain immutable elements can be used as a key for a dictionary. With lists, this is not possible.*\n",
        "*   *If we have data that doesn't change, implementing it as a tuple will guarantee that it remains write-protected.*\n",
        "\n",
        "### **When to use Tuple?**\n",
        "\n",
        "*   *Using tuple instead of the list gives us a clear idea that tuple data is constant and must not be changed.*\n",
        "*   *Tuple can simulate a dictionary without keys.*\n",
        "\n",
        "## **Difference between Lists and Tuples.**\n",
        "\n",
        "**************************************************************************\n",
        "\n",
        "1.1.   **List:** The literal syntax of the list is **[ ]**.\n",
        "\n",
        "1.2.   **Tuple:** The literal syntax of the tuple is **( )**.\n",
        "\n",
        "**************************************************************************\n",
        "\n",
        "2.1.   **List:** Lists are mutable.\n",
        "\n",
        "2.2.   **Tuple:** Tuples are immutable.\n",
        "\n",
        "**************************************************************************\n",
        "\n",
        "3.1.   **List:** The list has a variable length.\n",
        "\n",
        "3.2.   **Tuple:** The tuple has a fixed length.\n",
        "\n",
        "**************************************************************************\n",
        "\n",
        "4.1.   **List:** The list provides more functionality than a tuple.\n",
        "\n",
        "4.2.   **Tuple:** The tuple provides less functionality than the list.\n",
        "\n",
        "**************************************************************************\n",
        "\n",
        "5.1.   **List:** The list stores the simple collections with no constraints, i.e., the value of the list items can be altered.\n",
        "\n",
        "5.2.   **Tuple:** The tuple stores the read-only collections, i.e., the items values cannot be altered. It can also be used as the key inside the dictionary.\n",
        "\n",
        "**************************************************************************\n",
        "\n",
        "6.1.   **List:** The lists are less memory efficient than a tuple.\n",
        "\n",
        "6.2.   **Tuple:** The tuples are more memory efficient because of their immutability.\n",
        "\n",
        "**************************************************************************"
      ]
    }
  ]
}